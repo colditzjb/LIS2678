{
 "cells": [
  {
   "cell_type": "markdown",
   "metadata": {},
   "source": [
    "# Mini-homework Assignment\n",
    "\n",
    "#### Exercise\n",
    "\n",
    "Write a program that counts the number of emails people wrote in `mbox-short.txt`.\n",
    "**Extra Credit:** Do the same with days of the week.\n",
    "\n",
    "Think about breaking this problem into a set of steps. \n",
    "* First, loop through the `mbox-short.txt` file line by line looking for lines with email addresses and days the week.\n",
    "* Second, split the string into parts and slice out the email addresses and days of the week.\n",
    "* Third, adapt the \"Dictionary as a set of counters\" code from the book, but instead of counting words you are counting email addresses (and then days of the week). \n",
    "\n",
    "*Hint*: The lines you want to parse from the mbox file look like:\n",
    "```\n",
    "From stephen.marquard@uct.ac.za Sat Jan  5 09:14:16 2008\n",
    "```\n"
   ]
  },
  {
   "cell_type": "code",
   "execution_count": 5,
   "metadata": {},
   "outputs": [
    {
     "name": "stdout",
     "output_type": "stream",
     "text": [
      "{'ray@media.berkeley.edu': 1, 'louis@media.berkeley.edu': 3, 'antranig@caret.cam.ac.uk': 1, 'wagnermr@iupui.edu': 1, 'david.horwitz@uct.ac.za': 4, 'stephen.marquard@uct.ac.za': 2, 'gopal.ramasammycook@gmail.com': 1, 'cwen@iupui.edu': 5, 'rjlowe@iupui.edu': 2, 'gsilver@umich.edu': 3, 'zqian@umich.edu': 4} \n",
      "\n",
      "{'Thu': 6, 'Sat': 1, 'Fri': 20} \n",
      "\n"
     ]
    }
   ],
   "source": [
    "\n",
    "# \"Search\" function takes 2 arguments:\n",
    "# \"n\" is an integer corresponding to an element's position in a line (space separated) \n",
    "# \"term\" is a unique string that identifies lines to grab within mbox-short.txt\n",
    "def search(n, term = 'From '):\n",
    "    d=dict()\n",
    "    with open('mbox-short.txt') as fhand:\n",
    "        for line in fhand:\n",
    "            if term in line:\n",
    "                e = line.split(' ')\n",
    "                #print(e)\n",
    "                if e[n] not in d: \n",
    "                    d[e[n]] = 1 \n",
    "                else: \n",
    "                    d[e[n]] += 1 \n",
    "    return d # Return dictionary with counts \n",
    "\n",
    "# Run Search(i) for i=1 (email) and i=2 (day of week) and print results\n",
    "for i in [1,2]:\n",
    "    print(search(i),'\\n')\n"
   ]
  }
 ],
 "metadata": {
  "kernelspec": {
   "display_name": "Python 3",
   "language": "python",
   "name": "python3"
  },
  "language_info": {
   "codemirror_mode": {
    "name": "ipython",
    "version": 3
   },
   "file_extension": ".py",
   "mimetype": "text/x-python",
   "name": "python",
   "nbconvert_exporter": "python",
   "pygments_lexer": "ipython3",
   "version": "3.5.2"
  }
 },
 "nbformat": 4,
 "nbformat_minor": 2
}
