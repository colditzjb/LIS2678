{
 "cells": [
  {
   "cell_type": "markdown",
   "metadata": {},
   "source": [
    "# Lecture Seven - July 11th 2017\n",
    "\n",
    "\n",
    "* Quick debrief on the assignment\n",
    "* Introduction to machine learning and `scikit-learn`\n",
    "* Talk about final project with Public Source"
   ]
  },
  {
   "cell_type": "markdown",
   "metadata": {},
   "source": [
    "## Assignment Two - Debrief\n",
    "\n",
    "* How did it go? \n",
    "* Looking to get feedback about your experience with the assignment."
   ]
  },
  {
   "cell_type": "markdown",
   "metadata": {},
   "source": [
    "## Machine Learning, the final frontier (for LIS2678)\n",
    "\n",
    "* Machine learnin' is the heart of data science\n",
    "* If you recall the diagram, machine learning is a bit of computer hacking skills with some math and statistics knowledge. "
   ]
  },
  {
   "cell_type": "markdown",
   "metadata": {},
   "source": [
    "![Data Science Venn Diagram](https://static1.squarespace.com/static/5150aec6e4b0e340ec52710a/t/51525c33e4b0b3e0d10f77ab/1364352052403/Data_Science_VD.png?format=750w)"
   ]
  },
  {
   "cell_type": "markdown",
   "metadata": {},
   "source": [
    "### Math and Statistics! Oh No!\n",
    "\n",
    "* Do not be afraid, machine learning has nothing on `matplotlib`\n",
    "* You don't have to be a math and statistics wizard to *use* machine learning, but to use it well you do need to understand the conceptual landscape of machine learning and *some* statistical things.\n",
    "* At its core, knowing how to do machine learning is knowing about a growing body of algorithms that can perform statistical magic on data. \n",
    "* Data Science is then the broader work of gathering and preparing data, selecting and applying the appropriate algorithm, visualizing and interpreting the results, and then using those insights in decision making.\n"
   ]
  },
  {
   "cell_type": "markdown",
   "metadata": {},
   "source": [
    "## Isn't machine learning just statistics?\n",
    "\n",
    "* Yes and no.\n",
    "* There are some [cultural differences](http://projecteuclid.org/euclid.ss/1009213726) and some [disciplinary differences](http://hunch.net/?p=318) that make the two disctinct.\n",
    "* Today there is a lot of overlap between statistics and machine learning, but old habits die hard and academic disciplines die even harder.\n",
    "* There are some aspects of the culture of machine learning (focus on prediction and on tools) that has lead to a more rapid adoption of ML tools and techniques in industry, giving rise to data science."
   ]
  },
  {
   "cell_type": "markdown",
   "metadata": {},
   "source": [
    "## What can you *do* with machine learning?\n",
    "\n",
    "* So there is all this hubbub about how machine learning is the next big thing and it is going to solve all the worlds problems. \n",
    "* Nope. \n",
    "* However, machine learning is actually *ALL AROUND YOU*\n",
    "    * Spotify's Daily Mix\n",
    "    * Siri's voice recognition\n",
    "    * Amazon shopping recomendations\n",
    "    * SPAM (the email kind)\n",
    "\n",
    "### In reality, the kinds of things you can do with ML are quite boring\n",
    "\n",
    "* **Classification** - Is this thing of type X or Y (or Z)?\n",
    "* **Prediction** - What is the value of this variable for these data?\n",
    "* **Finding structure** - What datapoints are similar? Are there any clusters?\n",
    "* **Dimensionality reduction** - Is there a simpler representation of these data?\n",
    "\n",
    "\n",
    "### Main Types of Machine Learning\n",
    "\n",
    "* Machine learning how two main categories:\n",
    "    * **Supervised learning** - using labeled data to predict the labels on new data.\n",
    "    * **Unsupervised learning** - modeling structures and patterns in data without labels.\n",
    "    \n",
    " "
   ]
  },
  {
   "cell_type": "markdown",
   "metadata": {},
   "source": [
    "## Supervised Learning Algorithms\n",
    "\n",
    "* These algorithms really put the *learnin'* in machine learning.\n",
    "* Use previously *labeled data* to *train* a *model*, which can then be used to add labels to new, unlabeled data.\n",
    "* *Is this email spam or are you actually corresponding with a Nigerian prince?*"
   ]
  },
  {
   "cell_type": "markdown",
   "metadata": {},
   "source": [
    "### Classification: predicting descrete lables\n",
    "\n",
    "* Start with *labeled* data\n",
    "* *Spam or Astro-Spam?*\n",
    "\n",
    "![](http://nbviewer.jupyter.org/github/jakevdp/PythonDataScienceHandbook/blob/master/notebooks/figures/05.01-classification-1.png)\n",
    "\n",
    "* Then train your model\n",
    "* *Emails with these features are spam.*\n",
    "\n",
    "![](http://nbviewer.jupyter.org/github/jakevdp/PythonDataScienceHandbook/blob/master/notebooks/figures/05.01-classification-2.png)\n",
    "\n",
    "* Now you can use this model to predict the label of unknown data\n",
    "* *You've got mail! Is is not spam.*\n",
    "\n",
    "![](http://nbviewer.jupyter.org/github/jakevdp/PythonDataScienceHandbook/blob/master/notebooks/figures/05.01-classification-2.png)\n",
    "\n",
    "\n",
    "* Some examples of algorithms for classifcation are *logistic regression*, *decision trees*, or *naive bayes*.\n",
    "* [*Naive bayes is the algorithm powering email spam filters.*](http://www.paulgraham.com/spam.html)"
   ]
  },
  {
   "cell_type": "markdown",
   "metadata": {},
   "source": [
    "### Regression: predicting continuous labels \n",
    "\n",
    "* Again, we start with labeled data, but this label is a continuous value.\n",
    "* *These houses with N bedrooms and M bathrooms are worth these amounts.*\n",
    "\n",
    "![Continuously labeled data](http://nbviewer.jupyter.org/github/jakevdp/PythonDataScienceHandbook/blob/master/notebooks/figures/05.01-regression-1.png)\n",
    "\n",
    "* *So what we need to do is create a mathematical model for the whole space.\n",
    "* *Zillow uses this information to predict the prices of new homes on the market.*\n",
    "\n",
    "![A model fit to the training data](http://nbviewer.jupyter.org/github/jakevdp/PythonDataScienceHandbook/blob/master/notebooks/figures/05.01-regression-3.png)\n",
    "\n",
    "* Now we can use our model to predict the value of new points!\n",
    "* *Zillow zestimates zero dollars.*\n",
    "\n",
    "![Predicting labels for new data](http://nbviewer.jupyter.org/github/jakevdp/PythonDataScienceHandbook/blob/master/notebooks/figures/05.01-regression-4.png)\n",
    "\n",
    "* Some example algorithms for doing regression are *linear regression*(note, this is different from logistic regression, which produces discrete labels), or *support vector machines (SVMs)*.\n",
    "* *I don't know what specific algorithm powers Zillow, but you could get rich [improving it](https://www.nytimes.com/2017/05/24/upshot/angry-over-zillows-home-prices-a-prize-is-offered-for-improving-them.html) (or [suing them](https://www.washingtonpost.com/realestate/zillow-faces-lawsuit-over-zestimate-tool-that-calculates-a-houses-worth/2017/05/09/b22d0318-3410-11e7-b4ee-434b6d506b37_story.html))*"
   ]
  },
  {
   "cell_type": "code",
   "execution_count": null,
   "metadata": {
    "collapsed": true
   },
   "outputs": [],
   "source": []
  },
  {
   "cell_type": "code",
   "execution_count": null,
   "metadata": {
    "collapsed": true
   },
   "outputs": [],
   "source": []
  },
  {
   "cell_type": "code",
   "execution_count": null,
   "metadata": {
    "collapsed": true
   },
   "outputs": [],
   "source": []
  },
  {
   "cell_type": "code",
   "execution_count": null,
   "metadata": {
    "collapsed": true
   },
   "outputs": [],
   "source": []
  },
  {
   "cell_type": "code",
   "execution_count": null,
   "metadata": {
    "collapsed": true
   },
   "outputs": [],
   "source": []
  },
  {
   "cell_type": "markdown",
   "metadata": {},
   "source": [
    "### The recipe for supervised learning \n",
    "\n",
    "* As you can see, supervised learning follows a pattern\n",
    "    1. Assembled labeled training data\n",
    "    2. Fit the model (or models) with the training data\n",
    "    3. Classify or predict label values for new or unseen data"
   ]
  },
  {
   "cell_type": "code",
   "execution_count": null,
   "metadata": {
    "collapsed": true
   },
   "outputs": [],
   "source": []
  },
  {
   "cell_type": "code",
   "execution_count": null,
   "metadata": {
    "collapsed": true
   },
   "outputs": [],
   "source": []
  },
  {
   "cell_type": "code",
   "execution_count": null,
   "metadata": {
    "collapsed": true
   },
   "outputs": [],
   "source": []
  },
  {
   "cell_type": "code",
   "execution_count": null,
   "metadata": {
    "collapsed": true
   },
   "outputs": [],
   "source": []
  },
  {
   "cell_type": "code",
   "execution_count": null,
   "metadata": {
    "collapsed": true
   },
   "outputs": [],
   "source": []
  },
  {
   "cell_type": "markdown",
   "metadata": {},
   "source": [
    "## Unsupervised Learning Algorithms\n",
    "\n",
    "* Often you don't have nicely labeled data, but you still want to gain insight and better understand the data.\n",
    "* Unsupervised learning can be used to find hard to see or non-obvious structures or patterns within the data \n",
    "* These algorithms defininitely feel a bit more \"math magical\" because they are finding patterns in data without human supervision.\\* "
   ]
  },
  {
   "cell_type": "markdown",
   "metadata": {},
   "source": [
    "### Clustering: Inferring labels on unlabled data\n",
    "\n",
    "* Clustering is a popular technique in unsupervised learning where you try and find groups or \"clusters\" within the data\n",
    "* *These high-school students are wearing these clothes.*\n",
    "\n",
    "![Unlabeled data](http://nbviewer.jupyter.org/github/jakevdp/PythonDataScienceHandbook/blob/master/notebooks/figures/05.01-clustering-1.png)\n",
    "\n",
    "* Clearly there is some structure to these data, we can use a clustering algorithm to computationally identify these clusters.\n",
    "* *Groups of them appear to be wearing similar outfits.*\n",
    "\n",
    "![Clustered data](http://nbviewer.jupyter.org/github/jakevdp/PythonDataScienceHandbook/blob/master/notebooks/figures/05.01-clustering-2.png)\n",
    "\n",
    "* Some examples of clustering algorithms are *k-means*, *spectral clustering*, or *gaussian mixtures*.\n",
    "* *Nerds, Jocks, punks, preps...* \n"
   ]
  },
  {
   "cell_type": "markdown",
   "metadata": {},
   "source": [
    "### Dimensionality reduction\n",
    "\n",
    "* Data often have a hidden structure that may easy for humans to see (but not always), dimensionality reduction is a way to finding that structure algorithmically.\n",
    "* *I need to manage the risk of this [Interest rate derivative portfolio](https://en.wikipedia.org/wiki/Principal_component_analysis#Applications).*\n",
    "\n",
    "![multi dimensional data example](http://nbviewer.jupyter.org/github/jakevdp/PythonDataScienceHandbook/blob/master/notebooks/figures/05.01-dimesionality-1.png)\n",
    "\n",
    "* Through the introduction of a *latent variable* we can begin to discover structure in the data\n",
    "* *Reduce 30-500 market quotable swap instruments to just 3 or 4 principal components.*\n",
    "\n",
    "![Data labeled via dimensionality reduction](http://nbviewer.jupyter.org/github/jakevdp/PythonDataScienceHandbook/blob/master/notebooks/figures/05.01-dimesionality-2.png)\n",
    "\n",
    "* Some examples of dimensionality reduction algorithms are *principle component analysis (PCA)*, *multidimensional scaling*, and *manifold learning*.\n",
    "* *Now I am rich and the market has crashed.*"
   ]
  },
  {
   "cell_type": "code",
   "execution_count": null,
   "metadata": {
    "collapsed": true
   },
   "outputs": [],
   "source": []
  },
  {
   "cell_type": "code",
   "execution_count": null,
   "metadata": {
    "collapsed": true
   },
   "outputs": [],
   "source": []
  },
  {
   "cell_type": "code",
   "execution_count": null,
   "metadata": {
    "collapsed": true
   },
   "outputs": [],
   "source": []
  },
  {
   "cell_type": "code",
   "execution_count": null,
   "metadata": {
    "collapsed": true
   },
   "outputs": [],
   "source": []
  },
  {
   "cell_type": "code",
   "execution_count": null,
   "metadata": {
    "collapsed": true
   },
   "outputs": [],
   "source": []
  },
  {
   "cell_type": "markdown",
   "metadata": {},
   "source": [
    "## Machine Learning Quiz\n",
    "\n",
    "* What are the two main types of machine learning?\n",
    "* What is the difference between these types?\n"
   ]
  },
  {
   "cell_type": "code",
   "execution_count": null,
   "metadata": {
    "collapsed": true
   },
   "outputs": [],
   "source": []
  },
  {
   "cell_type": "code",
   "execution_count": null,
   "metadata": {
    "collapsed": true
   },
   "outputs": [],
   "source": []
  },
  {
   "cell_type": "code",
   "execution_count": null,
   "metadata": {
    "collapsed": true
   },
   "outputs": [],
   "source": []
  },
  {
   "cell_type": "code",
   "execution_count": null,
   "metadata": {
    "collapsed": true
   },
   "outputs": [],
   "source": []
  },
  {
   "cell_type": "code",
   "execution_count": null,
   "metadata": {
    "collapsed": true
   },
   "outputs": [],
   "source": []
  },
  {
   "cell_type": "code",
   "execution_count": null,
   "metadata": {
    "collapsed": true
   },
   "outputs": [],
   "source": []
  },
  {
   "cell_type": "markdown",
   "metadata": {},
   "source": [
    "* What are the two types of supervised learning?\n",
    "* What are their differences?"
   ]
  },
  {
   "cell_type": "code",
   "execution_count": null,
   "metadata": {
    "collapsed": true
   },
   "outputs": [],
   "source": []
  },
  {
   "cell_type": "code",
   "execution_count": null,
   "metadata": {
    "collapsed": true
   },
   "outputs": [],
   "source": []
  },
  {
   "cell_type": "code",
   "execution_count": null,
   "metadata": {
    "collapsed": true
   },
   "outputs": [],
   "source": []
  },
  {
   "cell_type": "code",
   "execution_count": null,
   "metadata": {
    "collapsed": true
   },
   "outputs": [],
   "source": []
  },
  {
   "cell_type": "code",
   "execution_count": null,
   "metadata": {
    "collapsed": true
   },
   "outputs": [],
   "source": []
  },
  {
   "cell_type": "markdown",
   "metadata": {},
   "source": [
    "* What are teh two types of unsupervised learning?\n",
    "* What are their differences?"
   ]
  },
  {
   "cell_type": "code",
   "execution_count": null,
   "metadata": {
    "collapsed": true
   },
   "outputs": [],
   "source": []
  },
  {
   "cell_type": "code",
   "execution_count": null,
   "metadata": {
    "collapsed": true
   },
   "outputs": [],
   "source": []
  },
  {
   "cell_type": "code",
   "execution_count": null,
   "metadata": {
    "collapsed": true
   },
   "outputs": [],
   "source": []
  },
  {
   "cell_type": "code",
   "execution_count": null,
   "metadata": {
    "collapsed": true
   },
   "outputs": [],
   "source": []
  },
  {
   "cell_type": "code",
   "execution_count": null,
   "metadata": {
    "collapsed": true
   },
   "outputs": [],
   "source": []
  },
  {
   "cell_type": "code",
   "execution_count": null,
   "metadata": {
    "collapsed": true
   },
   "outputs": [],
   "source": []
  },
  {
   "cell_type": "markdown",
   "metadata": {},
   "source": [
    "## Machine Learning Summary\n",
    "\n",
    "\n",
    "* *Supervised learning*: Models that can predict labels based on labeled training data\n",
    "    * *Classification*: Models that predict labels as two or more discrete categories\n",
    "    * *Regression*: Models that predict continuous labels\n",
    "\n",
    "* *Unsupervised learning*: Models that identify structure in unlabeled data\n",
    "     * *Clustering*: Models that detect and identify distinct groups in the data\n",
    "     * *Dimensionality reduction*: Models that detect and identify lower-dimensional structure in higher-dimensional data"
   ]
  },
  {
   "cell_type": "code",
   "execution_count": null,
   "metadata": {
    "collapsed": true
   },
   "outputs": [],
   "source": []
  },
  {
   "cell_type": "code",
   "execution_count": null,
   "metadata": {
    "collapsed": true
   },
   "outputs": [],
   "source": []
  },
  {
   "cell_type": "code",
   "execution_count": null,
   "metadata": {
    "collapsed": true
   },
   "outputs": [],
   "source": []
  },
  {
   "cell_type": "code",
   "execution_count": null,
   "metadata": {
    "collapsed": true
   },
   "outputs": [],
   "source": []
  },
  {
   "cell_type": "code",
   "execution_count": null,
   "metadata": {
    "collapsed": true
   },
   "outputs": [],
   "source": []
  },
  {
   "cell_type": "markdown",
   "metadata": {},
   "source": [
    "## Machine Learning in Practice\n",
    "\n",
    "* Python is a popular language for doing machine learning because of [Scikit-Learn](http://scikit-learn.org), a third-party library that implements many popular machine learning algorithms and is easy to use thanks to a [well thought-out API](https://arxiv.org/abs/1309.0238).\n",
    "* Just as we have learned about data structures, cleaning, and manipulation through Pandas and data visualization through matplotlib, we can learn about machine learning through sci-kit learn.\n",
    "* So, let's start with some data!"
   ]
  },
  {
   "cell_type": "code",
   "execution_count": 1,
   "metadata": {},
   "outputs": [
    {
     "data": {
      "text/html": [
       "<div>\n",
       "<table border=\"1\" class=\"dataframe\">\n",
       "  <thead>\n",
       "    <tr style=\"text-align: right;\">\n",
       "      <th></th>\n",
       "      <th>sepal_length</th>\n",
       "      <th>sepal_width</th>\n",
       "      <th>petal_length</th>\n",
       "      <th>petal_width</th>\n",
       "      <th>species</th>\n",
       "    </tr>\n",
       "  </thead>\n",
       "  <tbody>\n",
       "    <tr>\n",
       "      <th>0</th>\n",
       "      <td>5.1</td>\n",
       "      <td>3.5</td>\n",
       "      <td>1.4</td>\n",
       "      <td>0.2</td>\n",
       "      <td>setosa</td>\n",
       "    </tr>\n",
       "    <tr>\n",
       "      <th>1</th>\n",
       "      <td>4.9</td>\n",
       "      <td>3.0</td>\n",
       "      <td>1.4</td>\n",
       "      <td>0.2</td>\n",
       "      <td>setosa</td>\n",
       "    </tr>\n",
       "    <tr>\n",
       "      <th>2</th>\n",
       "      <td>4.7</td>\n",
       "      <td>3.2</td>\n",
       "      <td>1.3</td>\n",
       "      <td>0.2</td>\n",
       "      <td>setosa</td>\n",
       "    </tr>\n",
       "    <tr>\n",
       "      <th>3</th>\n",
       "      <td>4.6</td>\n",
       "      <td>3.1</td>\n",
       "      <td>1.5</td>\n",
       "      <td>0.2</td>\n",
       "      <td>setosa</td>\n",
       "    </tr>\n",
       "    <tr>\n",
       "      <th>4</th>\n",
       "      <td>5.0</td>\n",
       "      <td>3.6</td>\n",
       "      <td>1.4</td>\n",
       "      <td>0.2</td>\n",
       "      <td>setosa</td>\n",
       "    </tr>\n",
       "  </tbody>\n",
       "</table>\n",
       "</div>"
      ],
      "text/plain": [
       "   sepal_length  sepal_width  petal_length  petal_width species\n",
       "0           5.1          3.5           1.4          0.2  setosa\n",
       "1           4.9          3.0           1.4          0.2  setosa\n",
       "2           4.7          3.2           1.3          0.2  setosa\n",
       "3           4.6          3.1           1.5          0.2  setosa\n",
       "4           5.0          3.6           1.4          0.2  setosa"
      ]
     },
     "execution_count": 1,
     "metadata": {},
     "output_type": "execute_result"
    }
   ],
   "source": [
    "# load up the Iris dataset\n",
    "import seaborn as sns\n",
    "iris = sns.load_dataset('iris')\n",
    "iris.head()"
   ]
  },
  {
   "cell_type": "code",
   "execution_count": 2,
   "metadata": {},
   "outputs": [
    {
     "name": "stdout",
     "output_type": "stream",
     "text": [
      "<class 'pandas.core.frame.DataFrame'>\n",
      "Int64Index: 150 entries, 0 to 149\n",
      "Data columns (total 5 columns):\n",
      "sepal_length    150 non-null float64\n",
      "sepal_width     150 non-null float64\n",
      "petal_length    150 non-null float64\n",
      "petal_width     150 non-null float64\n",
      "species         150 non-null object\n",
      "dtypes: float64(4), object(1)\n",
      "memory usage: 6.4+ KB\n"
     ]
    }
   ],
   "source": [
    "iris.info()\n"
   ]
  },
  {
   "cell_type": "markdown",
   "metadata": {},
   "source": [
    "* You must forgive the contrived example, but the [Iris dataset](https://en.wikipedia.org/wiki/Iris_flower_data_set#Use_of_the_data_set) is a classic test case in machine learning\n",
    "* Basically, everyone learns ML with these data and now you have too\n",
    "* Welcome to the social world of machine learning!"
   ]
  },
  {
   "cell_type": "markdown",
   "metadata": {},
   "source": [
    "## Data Fitness for Machine learning\n",
    "\n",
    "* The Scikit-Learn interface expects the data to be in a standard shape.\n",
    "* Basically, your data needs to be tabular, but not just any table will do, you need to do some data wrangling into two specific data structures, a *features matrix* and a *target array*."
   ]
  },
  {
   "cell_type": "markdown",
   "metadata": {},
   "source": [
    "### Features & Features Matrix\n",
    "\n",
    "* In machine learning the term *features* is used to indicate the dimensions of the dataset. They are also called *predictors* or *variables* depending upon the discipline. \n",
    "* Features are like the the columns of your dataset.\n",
    "* Most machine learning algorithms want your data in the form of a *features matrix*. \n",
    "* Each row is a sample and each column is a features.\n",
    "* So in the Iris data above, we have potentially five features (but actually only four).\n",
    "* By convention a features matrix is stored in the variable `X`."
   ]
  },
  {
   "cell_type": "code",
   "execution_count": 3,
   "metadata": {},
   "outputs": [
    {
     "data": {
      "text/plain": [
       "(150, 4)"
      ]
     },
     "execution_count": 3,
     "metadata": {},
     "output_type": "execute_result"
    }
   ],
   "source": [
    "# Create a new dataframe with the species column removed\n",
    "X = iris.drop('species', axis=1)\n",
    "X.shape"
   ]
  },
  {
   "cell_type": "markdown",
   "metadata": {},
   "source": [
    "* Now we have a feature matrix with 150 samples and four features"
   ]
  },
  {
   "cell_type": "code",
   "execution_count": 4,
   "metadata": {},
   "outputs": [
    {
     "data": {
      "text/html": [
       "<div>\n",
       "<table border=\"1\" class=\"dataframe\">\n",
       "  <thead>\n",
       "    <tr style=\"text-align: right;\">\n",
       "      <th></th>\n",
       "      <th>sepal_length</th>\n",
       "      <th>sepal_width</th>\n",
       "      <th>petal_length</th>\n",
       "      <th>petal_width</th>\n",
       "    </tr>\n",
       "  </thead>\n",
       "  <tbody>\n",
       "    <tr>\n",
       "      <th>0</th>\n",
       "      <td>5.1</td>\n",
       "      <td>3.5</td>\n",
       "      <td>1.4</td>\n",
       "      <td>0.2</td>\n",
       "    </tr>\n",
       "    <tr>\n",
       "      <th>1</th>\n",
       "      <td>4.9</td>\n",
       "      <td>3.0</td>\n",
       "      <td>1.4</td>\n",
       "      <td>0.2</td>\n",
       "    </tr>\n",
       "    <tr>\n",
       "      <th>2</th>\n",
       "      <td>4.7</td>\n",
       "      <td>3.2</td>\n",
       "      <td>1.3</td>\n",
       "      <td>0.2</td>\n",
       "    </tr>\n",
       "    <tr>\n",
       "      <th>3</th>\n",
       "      <td>4.6</td>\n",
       "      <td>3.1</td>\n",
       "      <td>1.5</td>\n",
       "      <td>0.2</td>\n",
       "    </tr>\n",
       "    <tr>\n",
       "      <th>4</th>\n",
       "      <td>5.0</td>\n",
       "      <td>3.6</td>\n",
       "      <td>1.4</td>\n",
       "      <td>0.2</td>\n",
       "    </tr>\n",
       "  </tbody>\n",
       "</table>\n",
       "</div>"
      ],
      "text/plain": [
       "   sepal_length  sepal_width  petal_length  petal_width\n",
       "0           5.1          3.5           1.4          0.2\n",
       "1           4.9          3.0           1.4          0.2\n",
       "2           4.7          3.2           1.3          0.2\n",
       "3           4.6          3.1           1.5          0.2\n",
       "4           5.0          3.6           1.4          0.2"
      ]
     },
     "execution_count": 4,
     "metadata": {},
     "output_type": "execute_result"
    }
   ],
   "source": [
    "# A table is worth at least 5 words, indexed by zero\n",
    "X.head()"
   ]
  },
  {
   "cell_type": "markdown",
   "metadata": {},
   "source": [
    "### Target Array\n",
    "\n",
    "* We actually only have *four* features in the Iris data because we must make one of those columns, the `species` column, our *target array*.\n",
    "* Supervised learning encodes existing knowledge as *a priori* labels, these labels form the *target array*.\n",
    "* Using these *a priori* labels the model *learns* to predict labels based on values in the features matrix.\n",
    "* Is usually a one dimensional array, of discrete or continuous values.\n",
    "* By convention a target array is stored in the variable Y."
   ]
  },
  {
   "cell_type": "code",
   "execution_count": 5,
   "metadata": {},
   "outputs": [
    {
     "data": {
      "text/plain": [
       "(150,)"
      ]
     },
     "execution_count": 5,
     "metadata": {},
     "output_type": "execute_result"
    }
   ],
   "source": [
    "Y = iris['species']\n",
    "Y.shape"
   ]
  },
  {
   "cell_type": "code",
   "execution_count": 6,
   "metadata": {},
   "outputs": [
    {
     "data": {
      "text/plain": [
       "virginica     50\n",
       "versicolor    50\n",
       "setosa        50\n",
       "Name: species, dtype: int64"
      ]
     },
     "execution_count": 6,
     "metadata": {},
     "output_type": "execute_result"
    }
   ],
   "source": [
    "Y.value_counts()"
   ]
  },
  {
   "cell_type": "code",
   "execution_count": 7,
   "metadata": {},
   "outputs": [
    {
     "data": {
      "text/plain": [
       "0    setosa\n",
       "1    setosa\n",
       "2    setosa\n",
       "3    setosa\n",
       "4    setosa\n",
       "Name: species, dtype: object"
      ]
     },
     "execution_count": 7,
     "metadata": {},
     "output_type": "execute_result"
    }
   ],
   "source": [
    "Y.head()"
   ]
  },
  {
   "cell_type": "code",
   "execution_count": null,
   "metadata": {
    "collapsed": true
   },
   "outputs": [],
   "source": []
  },
  {
   "cell_type": "code",
   "execution_count": null,
   "metadata": {
    "collapsed": true
   },
   "outputs": [],
   "source": []
  },
  {
   "cell_type": "code",
   "execution_count": null,
   "metadata": {
    "collapsed": true
   },
   "outputs": [],
   "source": []
  },
  {
   "cell_type": "markdown",
   "metadata": {},
   "source": [
    "## The Modeling Process\n",
    "\n",
    "* Machine learning algorithms don't magically work of the shelf, you need to *train* them on your data.\n",
    "    * This is also called *fitting* the model.\n",
    "* In Scikit-Learn you do this by following the following steps\n",
    "    1. Choose a class of model by importing the appropriate estimator class from Scikit-Learn.\n",
    "    2. Choose model hyperparameters by instantiating this class with desired values.\n",
    "    3. Arrange data into a features matrix and target vector following the discussion above.\n",
    "    4. Fit the model to your data by calling the `fit()` method of the model instance.\n",
    "    5. Apply the fitted instance of the model to new data:\n",
    "        * For supervised learning, often we predict labels for unknown data using the `predict()` method.\n",
    "        * For unsupervised learning, we often transform or infer properties of the data using the `transform()` or `predict()` method.\n",
    "\n",
    "\n",
    "* *Estimator class?* - These are the implementations of particular algorithms. For example, k-means or PCA or logistics regression.\n",
    "* *hypterparameters?* - These are knobs and dials, specific to each algorithm, that you can tweak. For example, how many clusters for k-means or the number of components in PCA."
   ]
  },
  {
   "cell_type": "markdown",
   "metadata": {},
   "source": [
    "### 0. Loading/Getting/Preparing data, the implicit step everyone leaves out"
   ]
  },
  {
   "cell_type": "code",
   "execution_count": 8,
   "metadata": {
    "collapsed": true
   },
   "outputs": [],
   "source": [
    "# load pandas so we can muck with the data\n",
    "import pandas as pd\n",
    "import matplotlib.pyplot as plt\n",
    "% matplotlib inline"
   ]
  },
  {
   "cell_type": "code",
   "execution_count": 9,
   "metadata": {},
   "outputs": [
    {
     "data": {
      "text/plain": [
       "(7703, 1743)"
      ]
     },
     "execution_count": 9,
     "metadata": {},
     "output_type": "execute_result"
    }
   ],
   "source": [
    "# Load the scorecard data\n",
    "scorecard = pd.read_csv(\"https://ed-public-download.app.cloud.gov/downloads/Most-Recent-Cohorts-All-Data-Elements.csv\",\n",
    "                        low_memory=False)\n",
    "scorecard.shape"
   ]
  },
  {
   "cell_type": "code",
   "execution_count": 10,
   "metadata": {},
   "outputs": [
    {
     "data": {
      "text/plain": [
       "<matplotlib.axes._subplots.AxesSubplot at 0xac0fc4cc>"
      ]
     },
     "execution_count": 10,
     "metadata": {},
     "output_type": "execute_result"
    },
    {
     "data": {
      "image/png": "[encoded data removed]",
      "text/plain": [
       "<matplotlib.figure.Figure at 0xa9eba10c>"
      ]
     },
     "metadata": {},
     "output_type": "display_data"
    }
   ],
   "source": [
    "# create a dataframe of just the columns of interest\n",
    "sat_75th = scorecard[['SATVR75','SATMT75']]\n",
    "# make scatter plot\n",
    "sat_75th.plot.scatter('SATVR75','SATMT75')"
   ]
  },
  {
   "cell_type": "markdown",
   "metadata": {
    "collapsed": true
   },
   "source": [
    "* Ok, we can see there is a general trend, the higher the reading score the higher the math score"
   ]
  },
  {
   "cell_type": "markdown",
   "metadata": {},
   "source": [
    "### 1. Choose a class of model\n",
    "\n",
    "* What kind of model do we want, supervised or unsupervised? __supervised__\n",
    "* Which sub-type? __regression__\n",
    "* Hint: we want to predict a continuous value (SAT Score)."
   ]
  },
  {
   "cell_type": "code",
   "execution_count": null,
   "metadata": {
    "collapsed": true
   },
   "outputs": [],
   "source": []
  },
  {
   "cell_type": "code",
   "execution_count": null,
   "metadata": {
    "collapsed": true
   },
   "outputs": [],
   "source": []
  },
  {
   "cell_type": "code",
   "execution_count": null,
   "metadata": {
    "collapsed": true
   },
   "outputs": [],
   "source": []
  },
  {
   "cell_type": "code",
   "execution_count": null,
   "metadata": {
    "collapsed": true
   },
   "outputs": [],
   "source": []
  },
  {
   "cell_type": "code",
   "execution_count": null,
   "metadata": {
    "collapsed": true
   },
   "outputs": [],
   "source": []
  },
  {
   "cell_type": "code",
   "execution_count": null,
   "metadata": {
    "collapsed": true
   },
   "outputs": [],
   "source": []
  },
  {
   "cell_type": "markdown",
   "metadata": {},
   "source": [
    "* That's correct! We want a **supervised** learning algorithm, specifically a **regression** model."
   ]
  },
  {
   "cell_type": "code",
   "execution_count": 12,
   "metadata": {},
   "outputs": [],
   "source": [
    "# load the linear regression model from scikit-learn\n",
    "from sklearn.linear_model import LinearRegression"
   ]
  },
  {
   "cell_type": "markdown",
   "metadata": {},
   "source": [
    "### 2. Choose hyperparameters\n",
    "\n",
    "* Every model has a set of knobs and dials you can play with\n",
    "* I'll talk about hyperparameters later, for now we'll just use what Jake specifed\n",
    "* We have now *instantiated* a version of the algorithm with our hyperparameters, ready to be trained on our data."
   ]
  },
  {
   "cell_type": "code",
   "execution_count": 13,
   "metadata": {},
   "outputs": [
    {
     "data": {
      "text/plain": [
       "LinearRegression(copy_X=True, fit_intercept=True, n_jobs=1, normalize=False)"
      ]
     },
     "execution_count": 13,
     "metadata": {},
     "output_type": "execute_result"
    }
   ],
   "source": [
    "# create an instance of a LinearRegression model\n",
    "model = LinearRegression(fit_intercept=True)\n",
    "model"
   ]
  },
  {
   "cell_type": "markdown",
   "metadata": {},
   "source": [
    "### 3. Arrange the data\n",
    "\n",
    "* This is the \"data fitness\" part of machine learning, we need to clean the data and get it into shape.\n",
    "* Specifically, we need to get our data into a features matrix and target array"
   ]
  },
  {
   "cell_type": "code",
   "execution_count": 14,
   "metadata": {},
   "outputs": [
    {
     "data": {
      "text/plain": [
       "(7703, 2)"
      ]
     },
     "execution_count": 14,
     "metadata": {},
     "output_type": "execute_result"
    }
   ],
   "source": [
    "# Look at the shape of our dataframe\n",
    "sat_75th.shape"
   ]
  },
  {
   "cell_type": "code",
   "execution_count": 15,
   "metadata": {},
   "outputs": [
    {
     "data": {
      "text/plain": [
       "SATVR75    6508\n",
       "SATMT75    6495\n",
       "dtype: int64"
      ]
     },
     "execution_count": 15,
     "metadata": {},
     "output_type": "execute_result"
    }
   ],
   "source": [
    "# How many null values do we have?\n",
    "sat_75th.isnull().sum()"
   ]
  },
  {
   "cell_type": "markdown",
   "metadata": {},
   "source": [
    "* OK, these data are a bit dirty. ___We need to remove null values___ otherwise the regression will be unhappy."
   ]
  },
  {
   "cell_type": "code",
   "execution_count": 16,
   "metadata": {},
   "outputs": [
    {
     "data": {
      "text/plain": [
       "(1194, 2)"
      ]
     },
     "execution_count": 16,
     "metadata": {},
     "output_type": "execute_result"
    }
   ],
   "source": [
    "# create a new dataframe of samples with no null values\n",
    "clean_sat_75th = sat_75th.dropna()\n",
    "clean_sat_75th.shape"
   ]
  },
  {
   "cell_type": "markdown",
   "metadata": {
    "collapsed": true
   },
   "source": [
    "* OK, we have a bit less data but still enough to do something interesting."
   ]
  },
  {
   "cell_type": "code",
   "execution_count": 17,
   "metadata": {},
   "outputs": [
    {
     "data": {
      "text/plain": [
       "(1194, 1)"
      ]
     },
     "execution_count": 17,
     "metadata": {},
     "output_type": "execute_result"
    }
   ],
   "source": [
    "# Make a scikit-learn friendly features matrix with a single features\n",
    "# I know to use reshape() because scikit learn told me \n",
    "X = clean_sat_75th['SATVR75'].values.reshape(-1,1)\n",
    "X.shape"
   ]
  },
  {
   "cell_type": "code",
   "execution_count": 18,
   "metadata": {},
   "outputs": [
    {
     "data": {
      "text/plain": [
       "(1194,)"
      ]
     },
     "execution_count": 18,
     "metadata": {},
     "output_type": "execute_result"
    }
   ],
   "source": [
    "# for consistency in our naming conventions\n",
    "Y = clean_sat_75th['SATMT75'] \n",
    "Y.shape"
   ]
  },
  {
   "cell_type": "markdown",
   "metadata": {},
   "source": [
    "* The \"feature matrix\" is the 75th percentile SAT reading scores \n",
    "* The target array is the 75th percentile SAT math score\n",
    "* This means we are going to predict the math score base upon the reading score"
   ]
  },
  {
   "cell_type": "markdown",
   "metadata": {},
   "source": [
    "### 3. Fit our model\n",
    "\n",
    "* This is the computationally intensive part of machine learning (although not in this instance)\n",
    "* We need to *estimate* the best fit model, this is a mathy process\n",
    "* For large data and complicated algorithms this can take a long time (and many computers)"
   ]
  },
  {
   "cell_type": "code",
   "execution_count": 19,
   "metadata": {},
   "outputs": [
    {
     "data": {
      "text/plain": [
       "LinearRegression(copy_X=True, fit_intercept=True, n_jobs=1, normalize=False)"
      ]
     },
     "execution_count": 19,
     "metadata": {},
     "output_type": "execute_result"
    }
   ],
   "source": [
    "# Use the fit() method with our features matrix (X) and target array (Y)\n",
    "model.fit(X, Y)"
   ]
  },
  {
   "cell_type": "markdown",
   "metadata": {},
   "source": [
    "* With a linear regression the model is simply a best fit line through the data\n",
    "* You know, $y=mx+b$, remember that? "
   ]
  },
  {
   "cell_type": "code",
   "execution_count": 20,
   "metadata": {},
   "outputs": [
    {
     "data": {
      "text/plain": [
       "array([ 0.96071986])"
      ]
     },
     "execution_count": 20,
     "metadata": {},
     "output_type": "execute_result"
    }
   ],
   "source": [
    "# What is the slope of the line (m)\n",
    "model.coef_"
   ]
  },
  {
   "cell_type": "code",
   "execution_count": 21,
   "metadata": {},
   "outputs": [
    {
     "data": {
      "text/plain": [
       "31.013704207168075"
      ]
     },
     "execution_count": 21,
     "metadata": {},
     "output_type": "execute_result"
    }
   ],
   "source": [
    "# Where does the line cross the y-axis (b)\n",
    "model.intercept_"
   ]
  },
  {
   "cell_type": "markdown",
   "metadata": {},
   "source": [
    "### 5. Predicting scores for unknown data\n",
    "\n",
    "* OK, now that we have trained model (a best fit line) we can use it to predict math scores based on any new reading score we want"
   ]
  },
  {
   "cell_type": "code",
   "execution_count": 24,
   "metadata": {},
   "outputs": [
    {
     "data": {
      "text/plain": [
       "array([ 693.91040819])"
      ]
     },
     "execution_count": 24,
     "metadata": {},
     "output_type": "execute_result"
    }
   ],
   "source": [
    "# Predict the math score for a university with a 75th percentile reading score of 690\n",
    "model.predict(690)"
   ]
  },
  {
   "cell_type": "code",
   "execution_count": 23,
   "metadata": {},
   "outputs": [
    {
     "data": {
      "text/plain": [
       "array([ 319.22966246])"
      ]
     },
     "execution_count": 23,
     "metadata": {},
     "output_type": "execute_result"
    }
   ],
   "source": [
    "# Predict the math score for someone with a reading score of 300\n",
    "model.predict(300)"
   ]
  },
  {
   "cell_type": "code",
   "execution_count": 25,
   "metadata": {},
   "outputs": [
    {
     "name": "stdout",
     "output_type": "stream",
     "text": [
      "319.229662461\n"
     ]
    }
   ],
   "source": [
    "# compute the math score manually\n",
    "x = 300\n",
    "m = model.coef_[0]\n",
    "b = model.intercept_\n",
    "y = m*x + b\n",
    "print(y)"
   ]
  },
  {
   "cell_type": "markdown",
   "metadata": {},
   "source": [
    "* Wow! Look at that, it worked!\n",
    "* Under the hood, Scikit-learn is just plugging the coefficient and the y-intercept into the standard $y=mx+b$ equation we all (hopefully) learned in high school.\n",
    "* Machine learning on a TI-81/82/83!\n",
    "* Now let's use the model to predict the math score for every reading score from 300 to 800"
   ]
  },
  {
   "cell_type": "code",
   "execution_count": 26,
   "metadata": {
    "collapsed": true
   },
   "outputs": [],
   "source": [
    "# import the linspace function from numpy to generate 50 numbers \n",
    "from numpy import linspace"
   ]
  },
  {
   "cell_type": "code",
   "execution_count": 27,
   "metadata": {
    "collapsed": true
   },
   "outputs": [],
   "source": [
    "# create a list of 50 points between 300 and 800 and then reshape to be a features matrix\n",
    "x = linspace(300,800)\n",
    "features_matrix = x.reshape(-1,1)\n",
    "# predict the math scores for our list of 50 reading scores\n",
    "y = model.predict(features_matrix)"
   ]
  },
  {
   "cell_type": "code",
   "execution_count": 28,
   "metadata": {},
   "outputs": [
    {
     "data": {
      "text/plain": [
       "[<matplotlib.lines.Line2D at 0xa4c4fe8c>]"
      ]
     },
     "execution_count": 28,
     "metadata": {},
     "output_type": "execute_result"
    },
    {
     "data": {
      "image/png": "[encoded data removed]",
      "text/plain": [
       "<matplotlib.figure.Figure at 0xa4c5628c>"
      ]
     },
     "metadata": {},
     "output_type": "display_data"
    }
   ],
   "source": [
    "# Plot the original data with the model predictions on top\n",
    "sat_75th.plot.scatter('SATVR75','SATMT75')\n",
    "plt.plot(x, y, c='yellow')"
   ]
  },
  {
   "cell_type": "code",
   "execution_count": null,
   "metadata": {
    "collapsed": true
   },
   "outputs": [],
   "source": []
  },
  {
   "cell_type": "code",
   "execution_count": null,
   "metadata": {
    "collapsed": true
   },
   "outputs": [],
   "source": []
  },
  {
   "cell_type": "code",
   "execution_count": null,
   "metadata": {
    "collapsed": true
   },
   "outputs": [],
   "source": []
  },
  {
   "cell_type": "code",
   "execution_count": null,
   "metadata": {
    "collapsed": true
   },
   "outputs": [],
   "source": []
  },
  {
   "cell_type": "code",
   "execution_count": null,
   "metadata": {
    "collapsed": true
   },
   "outputs": [],
   "source": []
  },
  {
   "cell_type": "code",
   "execution_count": null,
   "metadata": {
    "collapsed": true
   },
   "outputs": [],
   "source": []
  },
  {
   "cell_type": "markdown",
   "metadata": {},
   "source": [
    "## Supervised learning example\n",
    "\n",
    "* Let's train a model to predict if a school is public or private based upon cost.\n",
    "* But how can we evaluate if our model is any good?\n",
    "* We *hold* back some of the data and then check to see how well the model performs on the *holdout set*.\n",
    "* By keeping some of our labeled data out of the training set we can treat the held back data as if it were new, unknown data (that we happen to know the correct labels for)\n",
    "* This way we can empirically measure the percentage accuracy of the model"
   ]
  },
  {
   "cell_type": "code",
   "execution_count": 29,
   "metadata": {
    "collapsed": true
   },
   "outputs": [],
   "source": [
    "# get a subset of the data\n",
    "feature_list =  ['COSTT4_A', # Average cost of attendance (academic year institutions)\n",
    "                'CONTROL']  # Control of institution\n",
    "\n",
    "scorecard_subset = scorecard[feature_list].dropna()"
   ]
  },
  {
   "cell_type": "code",
   "execution_count": 35,
   "metadata": {},
   "outputs": [
    {
     "name": "stdout",
     "output_type": "stream",
     "text": [
      "Features: (2015, 1)\n",
      "Labels: (2015, 1)\n",
      "Holdout features: (2015,)\n",
      "Holdout labels: (2015,)\n"
     ]
    }
   ],
   "source": [
    "# use the train_test_split helper function\n",
    "from sklearn.model_selection import train_test_split\n",
    "\n",
    "# Reshape the features matrix because we only have one feature\n",
    "features_matrix = scorecard_subset['COSTT4_A'].values.reshape(-1,1)\n",
    "target_array = scorecard_subset['CONTROL']\n",
    "\n",
    "# divide the data into training data and test data\n",
    "Xtrain, Xtest, ytrain, ytest = train_test_split(features_matrix,\n",
    "                                                target_array,\n",
    "                                                train_size=.5, # split dataset 50/50\n",
    "                                                random_state=1) # fix random sampling\n",
    "print(\"Features:\", Xtrain.shape)\n",
    "print(\"Labels:\",Xtest.shape)\n",
    "print(\"Holdout features:\", ytrain.shape)\n",
    "print(\"Holdout labels:\", ytest.shape)"
   ]
  },
  {
   "cell_type": "code",
   "execution_count": 36,
   "metadata": {},
   "outputs": [],
   "source": [
    "from sklearn.naive_bayes import GaussianNB # 1. choose model class\n",
    "model = GaussianNB()                       # 2. instantiate model\n",
    "model.fit(Xtrain, ytrain)                  # 3. fit model to data\n",
    "y_model = model.predict(Xtest)             # 4. predict on new data"
   ]
  },
  {
   "cell_type": "code",
   "execution_count": 32,
   "metadata": {},
   "outputs": [
    {
     "data": {
      "text/plain": [
       "0.74392059553349876"
      ]
     },
     "execution_count": 32,
     "metadata": {},
     "output_type": "execute_result"
    }
   ],
   "source": [
    "# import the accuracy helper function \n",
    "from sklearn.metrics import accuracy_score\n",
    "\n",
    "# use the labeled test data to test the accuracy of the model\n",
    "accuracy_score(ytest, y_model)"
   ]
  },
  {
   "cell_type": "markdown",
   "metadata": {},
   "source": [
    "* OK, this means using \"Average cost of attendance\" as a sole predictor of if an institution is public or private is only 74% accurate. I think we can do better if we add additional features."
   ]
  },
  {
   "cell_type": "markdown",
   "metadata": {},
   "source": [
    "\n",
    "\n",
    "#### Exercise: Improve the model accuracy\n",
    "\n",
    "* Try adding additional features and see if you can improve the accuracy of this model\n",
    "* [Here is a link to the Data Dictionary on Google Drive](https://docs.google.com/spreadsheets/d/1gSnivIY8KlMlqID0uWPyVhdPnLEgxpTpZwsMzBwlo28/edit#gid=551994898)"
   ]
  },
  {
   "cell_type": "code",
   "execution_count": 37,
   "metadata": {},
   "outputs": [
    {
     "name": "stdout",
     "output_type": "stream",
     "text": [
      "Features: (2015, 1)\n",
      "Labels: (2015, 1)\n",
      "Holdout features: (2015,)\n",
      "Holdout labels: (2015,)\n",
      "The accuracy of this model is: 74.4%\n"
     ]
    }
   ],
   "source": [
    "# Add more features to this list\n",
    "feature_list =  ['COSTT4_A', # Average cost of attendance (academic year institutions)\n",
    "                'CONTROL']  # Control of institution\n",
    "\n",
    "\n",
    "scorecard_subset = scorecard[feature_list].dropna()\n",
    "\n",
    "features_matrix = scorecard_subset.drop('CONTROL', axis=1)\n",
    "target_array = scorecard_subset['CONTROL']\n",
    "\n",
    "# divide the data into training data and test data\n",
    "Xtrain, Xtest, ytrain, ytest = train_test_split(features_matrix,\n",
    "                                                target_array,\n",
    "                                                train_size=.5,\n",
    "                                                random_state=1)\n",
    "\n",
    "\n",
    "model = GaussianNB()                       # 2. instantiate model\n",
    "model.fit(Xtrain, ytrain)                  # 3. fit model to data\n",
    "y_model = model.predict(Xtest)             # 4. predict on new data\n",
    "\n",
    "print(\"Features:\", Xtrain.shape)\n",
    "print(\"Labels:\",Xtest.shape)\n",
    "print(\"Holdout features:\", ytrain.shape)\n",
    "print(\"Holdout labels:\", ytest.shape)\n",
    "\n",
    "print(\"The accuracy of this model is: {:.1%}\".format(accuracy_score(ytest, y_model)))"
   ]
  },
  {
   "cell_type": "code",
   "execution_count": 42,
   "metadata": {},
   "outputs": [
    {
     "name": "stdout",
     "output_type": "stream",
     "text": [
      "Features: (2015, 2)\n",
      "Labels: (2015, 2)\n",
      "Holdout features: (2015,)\n",
      "Holdout labels: (2015,)\n",
      "The accuracy of this model is: 74.6%\n"
     ]
    }
   ],
   "source": [
    "# Add more features to this list\n",
    "feature_list =  ['COSTT4_A', # Average cost of attendance (academic year institutions)\n",
    "                'PCIP52', # Percentage of degrees awarded in Business, Management, Marketing, And Related Support Services.\n",
    "                'CONTROL']  # Control of institution\n",
    "\n",
    "\n",
    "scorecard_subset = scorecard[feature_list].dropna()\n",
    "\n",
    "features_matrix = scorecard_subset.drop('CONTROL', axis=1)\n",
    "target_array = scorecard_subset['CONTROL']\n",
    "\n",
    "# divide the data into training data and test data\n",
    "Xtrain, Xtest, ytrain, ytest = train_test_split(features_matrix,\n",
    "                                                target_array,\n",
    "                                                train_size=.5,\n",
    "                                                random_state=1)\n",
    "\n",
    "\n",
    "model = GaussianNB()                       # 2. instantiate model\n",
    "model.fit(Xtrain, ytrain)                  # 3. fit model to data\n",
    "y_model = model.predict(Xtest)             # 4. predict on new data\n",
    "\n",
    "print(\"Features:\", Xtrain.shape)\n",
    "print(\"Labels:\",Xtest.shape)\n",
    "print(\"Holdout features:\", ytrain.shape)\n",
    "print(\"Holdout labels:\", ytest.shape)\n",
    "\n",
    "print(\"The accuracy of this model is: {:.1%}\".format(accuracy_score(ytest, y_model)))"
   ]
  },
  {
   "cell_type": "code",
   "execution_count": null,
   "metadata": {
    "collapsed": true
   },
   "outputs": [],
   "source": []
  },
  {
   "cell_type": "code",
   "execution_count": null,
   "metadata": {
    "collapsed": true
   },
   "outputs": [],
   "source": []
  },
  {
   "cell_type": "code",
   "execution_count": null,
   "metadata": {
    "collapsed": true
   },
   "outputs": [],
   "source": []
  },
  {
   "cell_type": "code",
   "execution_count": null,
   "metadata": {
    "collapsed": true
   },
   "outputs": [],
   "source": []
  },
  {
   "cell_type": "code",
   "execution_count": null,
   "metadata": {
    "collapsed": true
   },
   "outputs": [],
   "source": []
  },
  {
   "cell_type": "code",
   "execution_count": null,
   "metadata": {
    "collapsed": true
   },
   "outputs": [],
   "source": []
  },
  {
   "cell_type": "code",
   "execution_count": null,
   "metadata": {
    "collapsed": true
   },
   "outputs": [],
   "source": []
  },
  {
   "cell_type": "code",
   "execution_count": null,
   "metadata": {
    "collapsed": true
   },
   "outputs": [],
   "source": []
  },
  {
   "cell_type": "code",
   "execution_count": null,
   "metadata": {
    "collapsed": true
   },
   "outputs": [],
   "source": []
  },
  {
   "cell_type": "code",
   "execution_count": 43,
   "metadata": {},
   "outputs": [
    {
     "name": "stdout",
     "output_type": "stream",
     "text": [
      "Features: (361, 4)\n",
      "Labels: (362, 4)\n",
      "Holdout features: (361,)\n",
      "Holdout labels: (362,)\n",
      "The accuracy of this model is: 91.4%\n"
     ]
    }
   ],
   "source": [
    "feature_list =  ['COSTT4_A', # Average cost of attendance (academic year institutions)\n",
    "                'SATVRMID', # Midpoint of SAT scores at the institution (critical reading)\n",
    "                'SATMTMID', # Midpoint of SAT scores at the institution (math)\n",
    "                'SATWRMID', # Midpoint of SAT scores at the institution (writing)\n",
    "                'CONTROL']  # Control of institution\n",
    "\n",
    "\n",
    "scorecard_subset = scorecard[feature_list].dropna()\n",
    "\n",
    "features_matrix = scorecard_subset.drop('CONTROL', axis=1)\n",
    "target_array = scorecard_subset['CONTROL']\n",
    "\n",
    "# divide the data into training data and test data\n",
    "Xtrain, Xtest, ytrain, ytest = train_test_split(features_matrix,\n",
    "                                                target_array,\n",
    "                                                train_size=.5,\n",
    "                                                random_state=1)\n",
    "\n",
    "\n",
    "model = GaussianNB()                       # 2. instantiate model\n",
    "model.fit(Xtrain, ytrain)                  # 3. fit model to data\n",
    "y_model = model.predict(Xtest)             # 4. predict on new data\n",
    "\n",
    "\n",
    "print(\"Features:\", Xtrain.shape)\n",
    "print(\"Labels:\",Xtest.shape)\n",
    "print(\"Holdout features:\", ytrain.shape)\n",
    "print(\"Holdout labels:\", ytest.shape)\n",
    "\n",
    "print(\"The accuracy of this model is: {:.1%}\".format(accuracy_score(ytest, y_model)))"
   ]
  },
  {
   "cell_type": "markdown",
   "metadata": {},
   "source": [
    "### Cross validation\n",
    "\n",
    "* The problem with holdout sets is you have less data for training your model.\n",
    "* In the example above we just randomly divided the data in half and conducted a single trial\n",
    "* Models are hungy for data and they *hate* dieting!\n",
    "* Alternatively, we can use *cross validation* and run multiple trials by swapping the holdout set\n",
    "![Two trials with different validation sets](http://nbviewer.jupyter.org/github/jakevdp/PythonDataScienceHandbook/blob/master/notebooks/figures/05.03-2-fold-CV.png)\n",
    "\n",
    "* You can even carve up the into smaller and smaller sets to conduct more trials\n",
    "\n",
    "![Five trials with different validation sets](http://nbviewer.jupyter.org/github/jakevdp/PythonDataScienceHandbook/blob/master/notebooks/figures/05.03-5-fold-CV.png)\n",
    "\n",
    "* Let's see how our model holds up with cross validation"
   ]
  },
  {
   "cell_type": "code",
   "execution_count": 51,
   "metadata": {},
   "outputs": [
    {
     "name": "stdout",
     "output_type": "stream",
     "text": [
      "The accuracy of the cross-validated model is: 87.6%\n"
     ]
    }
   ],
   "source": [
    "# import the cross validation helper function\n",
    "from sklearn.model_selection import cross_val_score\n",
    "\n",
    "# Split the data into 4 groups and compute the average score \n",
    "scores = cross_val_score(model, features_matrix, target_array, cv=4)\n",
    "print(\"The accuracy of the cross-validated model is: {:.1%}\".format(scores.mean()))\n"
   ]
  },
  {
   "cell_type": "markdown",
   "metadata": {},
   "source": [
    "* Oh, it looks like the accuracy went down, see why cross validation is important\n",
    "* Let's try the *leave-one-out* cross validation \n",
    "* This helper function will create and evaluate 723 models with a different sample held out each time\n",
    "* We can then compute the mean across all 723 results to get the overall performance of the model"
   ]
  },
  {
   "cell_type": "code",
   "execution_count": 52,
   "metadata": {},
   "outputs": [
    {
     "name": "stdout",
     "output_type": "stream",
     "text": [
      "The accuracy of the 723 cross-validated model is: 88.0%\n"
     ]
    }
   ],
   "source": [
    "from sklearn.model_selection import LeaveOneOut\n",
    "\n",
    "number_of_sets = len(features_matrix)\n",
    "scores = cross_val_score(model, \n",
    "                         features_matrix, \n",
    "                         target_array, \n",
    "                         cv=LeaveOneOut())\n",
    "print(\"The accuracy of the {} cross-validated model is: {:.1%}\".format(number_of_sets,\n",
    "                                                                       scores.mean()))"
   ]
  },
  {
   "cell_type": "markdown",
   "metadata": {
    "collapsed": true
   },
   "source": [
    "* Validating models is a complicated, but vitally important process\n",
    "* Note, the kinds of validation discussed in this chapter are all *quantitative* and *mathematical*\n",
    "* How might we *qualitatively* validate models? What might that look like?\n",
    "* Discuss."
   ]
  },
  {
   "cell_type": "code",
   "execution_count": null,
   "metadata": {
    "collapsed": true
   },
   "outputs": [],
   "source": []
  },
  {
   "cell_type": "code",
   "execution_count": null,
   "metadata": {
    "collapsed": true
   },
   "outputs": [],
   "source": []
  },
  {
   "cell_type": "code",
   "execution_count": null,
   "metadata": {
    "collapsed": true
   },
   "outputs": [],
   "source": []
  },
  {
   "cell_type": "code",
   "execution_count": null,
   "metadata": {
    "collapsed": true
   },
   "outputs": [],
   "source": []
  },
  {
   "cell_type": "code",
   "execution_count": null,
   "metadata": {
    "collapsed": true
   },
   "outputs": [],
   "source": []
  },
  {
   "cell_type": "code",
   "execution_count": null,
   "metadata": {
    "collapsed": true
   },
   "outputs": [],
   "source": []
  },
  {
   "cell_type": "markdown",
   "metadata": {},
   "source": [
    "## Unsupervised Learning Example\n",
    "\n",
    "* Sometimes we don't have labels for the data\n",
    "* We can used unsupervised learning to identify structures within the data\n",
    "* Here we will use principal component analysis (PCA) to reduce 5 dimensional data to 2 dimensional data"
   ]
  },
  {
   "cell_type": "code",
   "execution_count": 53,
   "metadata": {},
   "outputs": [
    {
     "data": {
      "text/plain": [
       "(723, 4)"
      ]
     },
     "execution_count": 53,
     "metadata": {},
     "output_type": "execute_result"
    }
   ],
   "source": [
    "feature_list =  ['COSTT4_A', # Average cost of attendance (academic year institutions)\n",
    "                'SATVRMID', # Midpoint of SAT scores at the institution (critical reading)\n",
    "                'SATMTMID', # Midpoint of SAT scores at the institution (math)\n",
    "                'SATWRMID', # Midpoint of SAT scores at the institution (writing)\n",
    "                'CONTROL',  # Control of institution\n",
    "                'INSTNM']   # Name of institution\n",
    "\n",
    "# createa a dataframe with our subset of features & remove null values\n",
    "scorecard_subset = scorecard[feature_list].dropna()\n",
    "\n",
    "# Map the control values to human readable names\n",
    "control_values = {1:\"Public\",\n",
    "                  2:\"Private nonprofit\",\n",
    "                  3:\"Private for-profit\"}\n",
    "scorecard_subset.replace({\"CONTROL\":control_values}, inplace=True)\n",
    "\n",
    "#create a features matix that doesn't include control and institution name'\n",
    "features_matrix = scorecard_subset.drop(['CONTROL', 'INSTNM'], axis=1)\n",
    "features_matrix.shape"
   ]
  },
  {
   "cell_type": "markdown",
   "metadata": {},
   "source": [
    "* We have 723 samples with four features.\n",
    "* Now that we have the data in the right shape, we can train a model with scikit-learn."
   ]
  },
  {
   "cell_type": "code",
   "execution_count": 61,
   "metadata": {},
   "outputs": [
    {
     "data": {
      "text/plain": [
       "array([[ -1.36797091e+04,  -1.12500085e+02],\n",
       "       [ -8.75351374e+03,   8.87950749e+01],\n",
       "       [ -9.87127613e+03,   1.34358326e+02],\n",
       "       ..., \n",
       "       [ -1.02170368e+04,   1.81328760e+02],\n",
       "       [  6.49209106e+03,  -2.63701521e+01],\n",
       "       [ -8.24902076e+03,  -3.85785231e+00]])"
      ]
     },
     "execution_count": 61,
     "metadata": {},
     "output_type": "execute_result"
    }
   ],
   "source": [
    "from sklearn.decomposition import PCA  # 1. Choose the model class\n",
    "model = PCA(n_components=2)            # 2. Instantiate the model with hyperparameters\n",
    "model.fit(features_matrix)             # 3. Fit to data. Look ma, no labels!\n",
    "X_2D = model.transform(features_matrix)# 4. Transform the data into two dimensions \n",
    "X_2D.shape\n",
    "\n",
    "X_2D\n"
   ]
  },
  {
   "cell_type": "markdown",
   "metadata": {},
   "source": [
    "* Since we used PCA to collapse 5D data into 2D, now we can easily visualize it on a scatter plot\n",
    "* PCA and dimensionality reduction is often used for visualizing complex, multidimensional data"
   ]
  },
  {
   "cell_type": "code",
   "execution_count": 60,
   "metadata": {},
   "outputs": [
    {
     "data": {
      "text/plain": [
       "<seaborn.axisgrid.FacetGrid at 0xa4a90a0c>"
      ]
     },
     "execution_count": 60,
     "metadata": {},
     "output_type": "execute_result"
    },
    {
     "data": {
      "image/png": "[encoded data removed]",
      "text/plain": [
       "<matplotlib.figure.Figure at 0xa4a9006c>"
      ]
     },
     "metadata": {},
     "output_type": "display_data"
    }
   ],
   "source": [
    "# Add the principle components back to the orginal data so we can plot it with labels\n",
    "scorecard_subset['PCA1'] = X_2D[:,0]\n",
    "scorecard_subset['PCA2'] = X_2D[:,1]\n",
    "\n",
    "# Plot the principle components with CONTROL as a color value\n",
    "sns.lmplot(\"PCA2\", \"PCA1\", data=scorecard_subset, hue=\"CONTROL\", fit_reg=False)"
   ]
  },
  {
   "cell_type": "markdown",
   "metadata": {},
   "source": [
    "* Impressive! Using PCA we were able to take complex five dimensional data and reduce it to two dimenions.\n",
    "* What we see is a bit of divergence between the Private for-profit schools and the Public schools.\n",
    "* Remember, this is unsupervised learning so the algorithm have any of the data from `CONTROL` as a feature or in a target array."
   ]
  },
  {
   "cell_type": "code",
   "execution_count": 56,
   "metadata": {},
   "outputs": [
    {
     "data": {
      "text/plain": [
       "<seaborn.axisgrid.FacetGrid at 0xa4c0ef0c>"
      ]
     },
     "execution_count": 56,
     "metadata": {},
     "output_type": "execute_result"
    },
    {
     "data": {
      "image/png": "[encoded data removed]",
      "text/plain": [
       "<matplotlib.figure.Figure at 0xa4c692cc>"
      ]
     },
     "metadata": {},
     "output_type": "display_data"
    }
   ],
   "source": [
    "# Look at just 75th percentile SAT readings and cost as a comparison\n",
    "sns.lmplot('SATVR75', 'COSTT4_A', data=scorecard, hue='CONTROL', fit_reg=False)"
   ]
  },
  {
   "cell_type": "markdown",
   "metadata": {},
   "source": [
    "* Even without fancy PCA we can see some structure in the data, but PCA began to pull the data apart.\n",
    "* I bet with additional features we could see more structure"
   ]
  },
  {
   "cell_type": "markdown",
   "metadata": {},
   "source": [
    "### Clustering\n",
    "\n",
    "* Another very popular unsupervised learning technique is clustering.\n",
    "* Clustering lets us find groups within the data without human input.\n",
    "* Most clustering algorithms require you to specify the number of groups *a priori*.\n",
    "* These algorithms are just math and math isn't magic."
   ]
  },
  {
   "cell_type": "code",
   "execution_count": 62,
   "metadata": {
    "collapsed": true
   },
   "outputs": [],
   "source": [
    "# we know from looking at the data there are two groups\n",
    "number_of_groups = 2\n",
    "\n",
    "from sklearn.mixture import GaussianMixture   # 1. Choose the model class\n",
    "model = GaussianMixture(n_components=number_of_groups,\n",
    "            covariance_type='full')           # 2. Instantiate the model with hyperparameters\n",
    "model.fit(features_matrix)                    # 3. Fit to data. Notice y is not specified!\n",
    "y_gmm = model.predict(features_matrix)        # 4. Determine cluster labels"
   ]
  },
  {
   "cell_type": "code",
   "execution_count": 65,
   "metadata": {},
   "outputs": [
    {
     "data": {
      "text/html": [
       "<div>\n",
       "<table border=\"1\" class=\"dataframe\">\n",
       "  <thead>\n",
       "    <tr style=\"text-align: right;\">\n",
       "      <th></th>\n",
       "      <th>COSTT4_A</th>\n",
       "      <th>SATVRMID</th>\n",
       "      <th>SATMTMID</th>\n",
       "      <th>SATWRMID</th>\n",
       "      <th>CONTROL</th>\n",
       "      <th>INSTNM</th>\n",
       "      <th>PCA1</th>\n",
       "      <th>PCA2</th>\n",
       "      <th>cluster</th>\n",
       "    </tr>\n",
       "  </thead>\n",
       "  <tbody>\n",
       "    <tr>\n",
       "      <th>0</th>\n",
       "      <td>21475</td>\n",
       "      <td>424</td>\n",
       "      <td>420</td>\n",
       "      <td>420</td>\n",
       "      <td>Public</td>\n",
       "      <td>Alabama A &amp; M University</td>\n",
       "      <td>-13679.709075</td>\n",
       "      <td>-112.500085</td>\n",
       "      <td>0</td>\n",
       "    </tr>\n",
       "    <tr>\n",
       "      <th>5</th>\n",
       "      <td>26400</td>\n",
       "      <td>555</td>\n",
       "      <td>565</td>\n",
       "      <td>540</td>\n",
       "      <td>Public</td>\n",
       "      <td>The University of Alabama</td>\n",
       "      <td>-8753.513744</td>\n",
       "      <td>88.795075</td>\n",
       "      <td>0</td>\n",
       "    </tr>\n",
       "    <tr>\n",
       "      <th>9</th>\n",
       "      <td>25282</td>\n",
       "      <td>575</td>\n",
       "      <td>588</td>\n",
       "      <td>565</td>\n",
       "      <td>Public</td>\n",
       "      <td>Auburn University</td>\n",
       "      <td>-9871.276131</td>\n",
       "      <td>134.358326</td>\n",
       "      <td>0</td>\n",
       "    </tr>\n",
       "    <tr>\n",
       "      <th>37</th>\n",
       "      <td>22440</td>\n",
       "      <td>548</td>\n",
       "      <td>528</td>\n",
       "      <td>533</td>\n",
       "      <td>Public</td>\n",
       "      <td>University of Montevallo</td>\n",
       "      <td>-12713.612411</td>\n",
       "      <td>80.668124</td>\n",
       "      <td>0</td>\n",
       "    </tr>\n",
       "    <tr>\n",
       "      <th>46</th>\n",
       "      <td>40900</td>\n",
       "      <td>565</td>\n",
       "      <td>558</td>\n",
       "      <td>555</td>\n",
       "      <td>Private nonprofit</td>\n",
       "      <td>Samford University</td>\n",
       "      <td>5746.320898</td>\n",
       "      <td>17.806251</td>\n",
       "      <td>1</td>\n",
       "    </tr>\n",
       "    <tr>\n",
       "      <th>50</th>\n",
       "      <td>18525</td>\n",
       "      <td>510</td>\n",
       "      <td>518</td>\n",
       "      <td>485</td>\n",
       "      <td>Public</td>\n",
       "      <td>University of South Alabama</td>\n",
       "      <td>-16628.866790</td>\n",
       "      <td>47.863858</td>\n",
       "      <td>0</td>\n",
       "    </tr>\n",
       "    <tr>\n",
       "      <th>64</th>\n",
       "      <td>42640</td>\n",
       "      <td>555</td>\n",
       "      <td>503</td>\n",
       "      <td>530</td>\n",
       "      <td>Private nonprofit</td>\n",
       "      <td>Alaska Pacific University</td>\n",
       "      <td>7486.005502</td>\n",
       "      <td>-45.082835</td>\n",
       "      <td>1</td>\n",
       "    </tr>\n",
       "    <tr>\n",
       "      <th>115</th>\n",
       "      <td>41256</td>\n",
       "      <td>545</td>\n",
       "      <td>503</td>\n",
       "      <td>503</td>\n",
       "      <td>Private nonprofit</td>\n",
       "      <td>Prescott College</td>\n",
       "      <td>6101.902338</td>\n",
       "      <td>-58.485126</td>\n",
       "      <td>1</td>\n",
       "    </tr>\n",
       "    <tr>\n",
       "      <th>128</th>\n",
       "      <td>22521</td>\n",
       "      <td>470</td>\n",
       "      <td>510</td>\n",
       "      <td>455</td>\n",
       "      <td>Public</td>\n",
       "      <td>University of Arkansas at Little Rock</td>\n",
       "      <td>-12633.182414</td>\n",
       "      <td>-18.541368</td>\n",
       "      <td>0</td>\n",
       "    </tr>\n",
       "    <tr>\n",
       "      <th>134</th>\n",
       "      <td>33605</td>\n",
       "      <td>505</td>\n",
       "      <td>528</td>\n",
       "      <td>473</td>\n",
       "      <td>Private nonprofit</td>\n",
       "      <td>Lyon College</td>\n",
       "      <td>-1549.128910</td>\n",
       "      <td>-39.958073</td>\n",
       "      <td>1</td>\n",
       "    </tr>\n",
       "    <tr>\n",
       "      <th>138</th>\n",
       "      <td>15409</td>\n",
       "      <td>410</td>\n",
       "      <td>427</td>\n",
       "      <td>411</td>\n",
       "      <td>Public</td>\n",
       "      <td>University of Arkansas at Pine Bluff</td>\n",
       "      <td>-19745.667222</td>\n",
       "      <td>-87.291956</td>\n",
       "      <td>0</td>\n",
       "    </tr>\n",
       "    <tr>\n",
       "      <th>140</th>\n",
       "      <td>19359</td>\n",
       "      <td>460</td>\n",
       "      <td>520</td>\n",
       "      <td>445</td>\n",
       "      <td>Public</td>\n",
       "      <td>Arkansas State University-Main Campus</td>\n",
       "      <td>-15795.167755</td>\n",
       "      <td>-6.122621</td>\n",
       "      <td>0</td>\n",
       "    </tr>\n",
       "    <tr>\n",
       "      <th>141</th>\n",
       "      <td>16518</td>\n",
       "      <td>495</td>\n",
       "      <td>535</td>\n",
       "      <td>495</td>\n",
       "      <td>Public</td>\n",
       "      <td>Arkansas Tech University</td>\n",
       "      <td>-18635.794577</td>\n",
       "      <td>66.927776</td>\n",
       "      <td>0</td>\n",
       "    </tr>\n",
       "    <tr>\n",
       "      <th>146</th>\n",
       "      <td>18354</td>\n",
       "      <td>490</td>\n",
       "      <td>515</td>\n",
       "      <td>475</td>\n",
       "      <td>Public</td>\n",
       "      <td>University of Central Arkansas</td>\n",
       "      <td>-16799.970211</td>\n",
       "      <td>30.270755</td>\n",
       "      <td>0</td>\n",
       "    </tr>\n",
       "    <tr>\n",
       "      <th>147</th>\n",
       "      <td>21616</td>\n",
       "      <td>445</td>\n",
       "      <td>500</td>\n",
       "      <td>450</td>\n",
       "      <td>Private nonprofit</td>\n",
       "      <td>Central Baptist College</td>\n",
       "      <td>-13538.294181</td>\n",
       "      <td>-36.098958</td>\n",
       "      <td>0</td>\n",
       "    </tr>\n",
       "    <tr>\n",
       "      <th>174</th>\n",
       "      <td>35438</td>\n",
       "      <td>495</td>\n",
       "      <td>520</td>\n",
       "      <td>460</td>\n",
       "      <td>Private nonprofit</td>\n",
       "      <td>University of the Ozarks</td>\n",
       "      <td>283.741456</td>\n",
       "      <td>-68.026908</td>\n",
       "      <td>1</td>\n",
       "    </tr>\n",
       "    <tr>\n",
       "      <th>175</th>\n",
       "      <td>10722</td>\n",
       "      <td>490</td>\n",
       "      <td>475</td>\n",
       "      <td>455</td>\n",
       "      <td>Public</td>\n",
       "      <td>University of Arkansas Community College-Morri...</td>\n",
       "      <td>-24432.044154</td>\n",
       "      <td>37.115487</td>\n",
       "      <td>0</td>\n",
       "    </tr>\n",
       "    <tr>\n",
       "      <th>210</th>\n",
       "      <td>45472</td>\n",
       "      <td>515</td>\n",
       "      <td>515</td>\n",
       "      <td>505</td>\n",
       "      <td>Private nonprofit</td>\n",
       "      <td>Azusa Pacific University</td>\n",
       "      <td>10317.787384</td>\n",
       "      <td>-90.015064</td>\n",
       "      <td>1</td>\n",
       "    </tr>\n",
       "    <tr>\n",
       "      <th>215</th>\n",
       "      <td>46162</td>\n",
       "      <td>555</td>\n",
       "      <td>555</td>\n",
       "      <td>550</td>\n",
       "      <td>Private nonprofit</td>\n",
       "      <td>Biola University</td>\n",
       "      <td>11008.180895</td>\n",
       "      <td>-21.742292</td>\n",
       "      <td>1</td>\n",
       "    </tr>\n",
       "    <tr>\n",
       "      <th>223</th>\n",
       "      <td>39523</td>\n",
       "      <td>485</td>\n",
       "      <td>485</td>\n",
       "      <td>475</td>\n",
       "      <td>Private nonprofit</td>\n",
       "      <td>California Baptist University</td>\n",
       "      <td>4368.590237</td>\n",
       "      <td>-108.729755</td>\n",
       "      <td>1</td>\n",
       "    </tr>\n",
       "    <tr>\n",
       "      <th>226</th>\n",
       "      <td>58755</td>\n",
       "      <td>765</td>\n",
       "      <td>785</td>\n",
       "      <td>760</td>\n",
       "      <td>Private nonprofit</td>\n",
       "      <td>California Institute of Technology</td>\n",
       "      <td>23603.077268</td>\n",
       "      <td>283.475221</td>\n",
       "      <td>1</td>\n",
       "    </tr>\n",
       "    <tr>\n",
       "      <th>227</th>\n",
       "      <td>50425</td>\n",
       "      <td>550</td>\n",
       "      <td>550</td>\n",
       "      <td>545</td>\n",
       "      <td>Private nonprofit</td>\n",
       "      <td>California Lutheran University</td>\n",
       "      <td>15271.065843</td>\n",
       "      <td>-54.188591</td>\n",
       "      <td>1</td>\n",
       "    </tr>\n",
       "    <tr>\n",
       "      <th>243</th>\n",
       "      <td>33020</td>\n",
       "      <td>665</td>\n",
       "      <td>705</td>\n",
       "      <td>685</td>\n",
       "      <td>Public</td>\n",
       "      <td>University of California-Berkeley</td>\n",
       "      <td>-2132.338757</td>\n",
       "      <td>280.626042</td>\n",
       "      <td>0</td>\n",
       "    </tr>\n",
       "    <tr>\n",
       "      <th>244</th>\n",
       "      <td>32638</td>\n",
       "      <td>575</td>\n",
       "      <td>630</td>\n",
       "      <td>600</td>\n",
       "      <td>Public</td>\n",
       "      <td>University of California-Davis</td>\n",
       "      <td>-2515.139579</td>\n",
       "      <td>138.960926</td>\n",
       "      <td>0</td>\n",
       "    </tr>\n",
       "    <tr>\n",
       "      <th>245</th>\n",
       "      <td>29759</td>\n",
       "      <td>540</td>\n",
       "      <td>620</td>\n",
       "      <td>565</td>\n",
       "      <td>Public</td>\n",
       "      <td>University of California-Irvine</td>\n",
       "      <td>-5394.355701</td>\n",
       "      <td>109.554194</td>\n",
       "      <td>0</td>\n",
       "    </tr>\n",
       "    <tr>\n",
       "      <th>246</th>\n",
       "      <td>32074</td>\n",
       "      <td>645</td>\n",
       "      <td>680</td>\n",
       "      <td>665</td>\n",
       "      <td>Public</td>\n",
       "      <td>University of California-Los Angeles</td>\n",
       "      <td>-3078.532911</td>\n",
       "      <td>248.274774</td>\n",
       "      <td>0</td>\n",
       "    </tr>\n",
       "    <tr>\n",
       "      <th>247</th>\n",
       "      <td>30174</td>\n",
       "      <td>545</td>\n",
       "      <td>585</td>\n",
       "      <td>555</td>\n",
       "      <td>Public</td>\n",
       "      <td>University of California-Riverside</td>\n",
       "      <td>-4979.489786</td>\n",
       "      <td>83.038593</td>\n",
       "      <td>0</td>\n",
       "    </tr>\n",
       "    <tr>\n",
       "      <th>248</th>\n",
       "      <td>30092</td>\n",
       "      <td>615</td>\n",
       "      <td>695</td>\n",
       "      <td>645</td>\n",
       "      <td>Public</td>\n",
       "      <td>University of California-San Diego</td>\n",
       "      <td>-5060.618034</td>\n",
       "      <td>240.390645</td>\n",
       "      <td>0</td>\n",
       "    </tr>\n",
       "    <tr>\n",
       "      <th>250</th>\n",
       "      <td>33826</td>\n",
       "      <td>595</td>\n",
       "      <td>640</td>\n",
       "      <td>615</td>\n",
       "      <td>Public</td>\n",
       "      <td>University of California-Santa Barbara</td>\n",
       "      <td>-1327.013024</td>\n",
       "      <td>158.004340</td>\n",
       "      <td>0</td>\n",
       "    </tr>\n",
       "    <tr>\n",
       "      <th>251</th>\n",
       "      <td>33036</td>\n",
       "      <td>550</td>\n",
       "      <td>580</td>\n",
       "      <td>555</td>\n",
       "      <td>Public</td>\n",
       "      <td>University of California-Santa Cruz</td>\n",
       "      <td>-2117.534519</td>\n",
       "      <td>66.779775</td>\n",
       "      <td>0</td>\n",
       "    </tr>\n",
       "    <tr>\n",
       "      <th>...</th>\n",
       "      <td>...</td>\n",
       "      <td>...</td>\n",
       "      <td>...</td>\n",
       "      <td>...</td>\n",
       "      <td>...</td>\n",
       "      <td>...</td>\n",
       "      <td>...</td>\n",
       "      <td>...</td>\n",
       "      <td>...</td>\n",
       "    </tr>\n",
       "    <tr>\n",
       "      <th>4111</th>\n",
       "      <td>39312</td>\n",
       "      <td>527</td>\n",
       "      <td>542</td>\n",
       "      <td>485</td>\n",
       "      <td>Private nonprofit</td>\n",
       "      <td>Carroll University</td>\n",
       "      <td>4157.935129</td>\n",
       "      <td>-44.367638</td>\n",
       "      <td>1</td>\n",
       "    </tr>\n",
       "    <tr>\n",
       "      <th>4114</th>\n",
       "      <td>38159</td>\n",
       "      <td>530</td>\n",
       "      <td>522</td>\n",
       "      <td>483</td>\n",
       "      <td>Private nonprofit</td>\n",
       "      <td>Concordia University-Wisconsin</td>\n",
       "      <td>3004.893598</td>\n",
       "      <td>-49.528330</td>\n",
       "      <td>1</td>\n",
       "    </tr>\n",
       "    <tr>\n",
       "      <th>4121</th>\n",
       "      <td>34385</td>\n",
       "      <td>440</td>\n",
       "      <td>452</td>\n",
       "      <td>448</td>\n",
       "      <td>Private nonprofit</td>\n",
       "      <td>Lakeland College</td>\n",
       "      <td>-769.665021</td>\n",
       "      <td>-140.244968</td>\n",
       "      <td>1</td>\n",
       "    </tr>\n",
       "    <tr>\n",
       "      <th>4126</th>\n",
       "      <td>48364</td>\n",
       "      <td>590</td>\n",
       "      <td>605</td>\n",
       "      <td>570</td>\n",
       "      <td>Private nonprofit</td>\n",
       "      <td>Marquette University</td>\n",
       "      <td>13210.479372</td>\n",
       "      <td>26.896927</td>\n",
       "      <td>1</td>\n",
       "    </tr>\n",
       "    <tr>\n",
       "      <th>4140</th>\n",
       "      <td>42703</td>\n",
       "      <td>565</td>\n",
       "      <td>575</td>\n",
       "      <td>565</td>\n",
       "      <td>Private nonprofit</td>\n",
       "      <td>Ripon College</td>\n",
       "      <td>7549.380069</td>\n",
       "      <td>23.807650</td>\n",
       "      <td>1</td>\n",
       "    </tr>\n",
       "    <tr>\n",
       "      <th>4152</th>\n",
       "      <td>16950</td>\n",
       "      <td>495</td>\n",
       "      <td>480</td>\n",
       "      <td>485</td>\n",
       "      <td>Public</td>\n",
       "      <td>University of Wisconsin-Whitewater</td>\n",
       "      <td>-18204.006379</td>\n",
       "      <td>25.506587</td>\n",
       "      <td>0</td>\n",
       "    </tr>\n",
       "    <tr>\n",
       "      <th>4165</th>\n",
       "      <td>23839</td>\n",
       "      <td>610</td>\n",
       "      <td>680</td>\n",
       "      <td>635</td>\n",
       "      <td>Public</td>\n",
       "      <td>University of Wisconsin-Madison</td>\n",
       "      <td>-11313.616920</td>\n",
       "      <td>257.699758</td>\n",
       "      <td>0</td>\n",
       "    </tr>\n",
       "    <tr>\n",
       "      <th>4259</th>\n",
       "      <td>16540</td>\n",
       "      <td>400</td>\n",
       "      <td>390</td>\n",
       "      <td>405</td>\n",
       "      <td>Public</td>\n",
       "      <td>University of the Virgin Islands</td>\n",
       "      <td>-18614.851364</td>\n",
       "      <td>-124.894074</td>\n",
       "      <td>0</td>\n",
       "    </tr>\n",
       "    <tr>\n",
       "      <th>4260</th>\n",
       "      <td>60311</td>\n",
       "      <td>730</td>\n",
       "      <td>745</td>\n",
       "      <td>740</td>\n",
       "      <td>Private nonprofit</td>\n",
       "      <td>Stanford University</td>\n",
       "      <td>25158.750972</td>\n",
       "      <td>219.899587</td>\n",
       "      <td>1</td>\n",
       "    </tr>\n",
       "    <tr>\n",
       "      <th>4261</th>\n",
       "      <td>22879</td>\n",
       "      <td>575</td>\n",
       "      <td>630</td>\n",
       "      <td>575</td>\n",
       "      <td>Public</td>\n",
       "      <td>Purdue University-Main Campus</td>\n",
       "      <td>-12274.073753</td>\n",
       "      <td>178.930579</td>\n",
       "      <td>0</td>\n",
       "    </tr>\n",
       "    <tr>\n",
       "      <th>4385</th>\n",
       "      <td>19858</td>\n",
       "      <td>665</td>\n",
       "      <td>615</td>\n",
       "      <td>635</td>\n",
       "      <td>Public</td>\n",
       "      <td>New College of Florida</td>\n",
       "      <td>-15294.585222</td>\n",
       "      <td>270.745749</td>\n",
       "      <td>0</td>\n",
       "    </tr>\n",
       "    <tr>\n",
       "      <th>4627</th>\n",
       "      <td>22747</td>\n",
       "      <td>490</td>\n",
       "      <td>525</td>\n",
       "      <td>485</td>\n",
       "      <td>Public</td>\n",
       "      <td>University of Washington-Bothell Campus</td>\n",
       "      <td>-12406.973231</td>\n",
       "      <td>17.589667</td>\n",
       "      <td>0</td>\n",
       "    </tr>\n",
       "    <tr>\n",
       "      <th>4628</th>\n",
       "      <td>22120</td>\n",
       "      <td>485</td>\n",
       "      <td>495</td>\n",
       "      <td>460</td>\n",
       "      <td>Public</td>\n",
       "      <td>University of Washington-Tacoma Campus</td>\n",
       "      <td>-13034.158669</td>\n",
       "      <td>-14.258524</td>\n",
       "      <td>0</td>\n",
       "    </tr>\n",
       "    <tr>\n",
       "      <th>4738</th>\n",
       "      <td>34118</td>\n",
       "      <td>435</td>\n",
       "      <td>410</td>\n",
       "      <td>453</td>\n",
       "      <td>Private nonprofit</td>\n",
       "      <td>Watkins College of Art Design &amp; Film</td>\n",
       "      <td>-1036.789054</td>\n",
       "      <td>-163.949940</td>\n",
       "      <td>1</td>\n",
       "    </tr>\n",
       "    <tr>\n",
       "      <th>4753</th>\n",
       "      <td>42076</td>\n",
       "      <td>580</td>\n",
       "      <td>650</td>\n",
       "      <td>590</td>\n",
       "      <td>Private nonprofit</td>\n",
       "      <td>Soka University of America</td>\n",
       "      <td>6922.755505</td>\n",
       "      <td>95.295404</td>\n",
       "      <td>1</td>\n",
       "    </tr>\n",
       "    <tr>\n",
       "      <th>5200</th>\n",
       "      <td>17539</td>\n",
       "      <td>530</td>\n",
       "      <td>520</td>\n",
       "      <td>525</td>\n",
       "      <td>Public</td>\n",
       "      <td>Florida Gulf Coast University</td>\n",
       "      <td>-17614.644172</td>\n",
       "      <td>88.709197</td>\n",
       "      <td>0</td>\n",
       "    </tr>\n",
       "    <tr>\n",
       "      <th>5262</th>\n",
       "      <td>13751</td>\n",
       "      <td>495</td>\n",
       "      <td>505</td>\n",
       "      <td>490</td>\n",
       "      <td>Public</td>\n",
       "      <td>University of Connecticut-Tri-Campus</td>\n",
       "      <td>-21402.861558</td>\n",
       "      <td>61.356766</td>\n",
       "      <td>0</td>\n",
       "    </tr>\n",
       "    <tr>\n",
       "      <th>5263</th>\n",
       "      <td>13942</td>\n",
       "      <td>530</td>\n",
       "      <td>515</td>\n",
       "      <td>520</td>\n",
       "      <td>Public</td>\n",
       "      <td>University of Connecticut-Avery Point</td>\n",
       "      <td>-21211.620755</td>\n",
       "      <td>102.866416</td>\n",
       "      <td>0</td>\n",
       "    </tr>\n",
       "    <tr>\n",
       "      <th>5264</th>\n",
       "      <td>13766</td>\n",
       "      <td>500</td>\n",
       "      <td>490</td>\n",
       "      <td>495</td>\n",
       "      <td>Public</td>\n",
       "      <td>University of Connecticut-Stamford</td>\n",
       "      <td>-21387.875357</td>\n",
       "      <td>57.849497</td>\n",
       "      <td>0</td>\n",
       "    </tr>\n",
       "    <tr>\n",
       "      <th>5457</th>\n",
       "      <td>61956</td>\n",
       "      <td>725</td>\n",
       "      <td>755</td>\n",
       "      <td>723</td>\n",
       "      <td>Private nonprofit</td>\n",
       "      <td>Franklin W Olin College of Engineering</td>\n",
       "      <td>26803.681643</td>\n",
       "      <td>204.163301</td>\n",
       "      <td>1</td>\n",
       "    </tr>\n",
       "    <tr>\n",
       "      <th>5527</th>\n",
       "      <td>39035</td>\n",
       "      <td>585</td>\n",
       "      <td>600</td>\n",
       "      <td>550</td>\n",
       "      <td>Private for-profit</td>\n",
       "      <td>DigiPen Institute of Technology</td>\n",
       "      <td>3881.524836</td>\n",
       "      <td>61.613063</td>\n",
       "      <td>1</td>\n",
       "    </tr>\n",
       "    <tr>\n",
       "      <th>5631</th>\n",
       "      <td>31883</td>\n",
       "      <td>500</td>\n",
       "      <td>520</td>\n",
       "      <td>500</td>\n",
       "      <td>Public</td>\n",
       "      <td>University of California-Merced</td>\n",
       "      <td>-3271.048489</td>\n",
       "      <td>-22.253158</td>\n",
       "      <td>0</td>\n",
       "    </tr>\n",
       "    <tr>\n",
       "      <th>5684</th>\n",
       "      <td>36539</td>\n",
       "      <td>555</td>\n",
       "      <td>545</td>\n",
       "      <td>550</td>\n",
       "      <td>Private nonprofit</td>\n",
       "      <td>Ave Maria University</td>\n",
       "      <td>1385.300457</td>\n",
       "      <td>25.928718</td>\n",
       "      <td>1</td>\n",
       "    </tr>\n",
       "    <tr>\n",
       "      <th>5855</th>\n",
       "      <td>18325</td>\n",
       "      <td>590</td>\n",
       "      <td>570</td>\n",
       "      <td>565</td>\n",
       "      <td>Public</td>\n",
       "      <td>University of South Florida-St Petersburg</td>\n",
       "      <td>-16828.176489</td>\n",
       "      <td>170.521249</td>\n",
       "      <td>0</td>\n",
       "    </tr>\n",
       "    <tr>\n",
       "      <th>5911</th>\n",
       "      <td>32600</td>\n",
       "      <td>500</td>\n",
       "      <td>510</td>\n",
       "      <td>500</td>\n",
       "      <td>Private nonprofit</td>\n",
       "      <td>Visible Music College</td>\n",
       "      <td>-2554.090670</td>\n",
       "      <td>-32.293268</td>\n",
       "      <td>0</td>\n",
       "    </tr>\n",
       "    <tr>\n",
       "      <th>6050</th>\n",
       "      <td>13925</td>\n",
       "      <td>570</td>\n",
       "      <td>550</td>\n",
       "      <td>540</td>\n",
       "      <td>Public</td>\n",
       "      <td>University of South Florida-Sarasota-Manatee</td>\n",
       "      <td>-21228.318497</td>\n",
       "      <td>157.567352</td>\n",
       "      <td>0</td>\n",
       "    </tr>\n",
       "    <tr>\n",
       "      <th>6103</th>\n",
       "      <td>48437</td>\n",
       "      <td>580</td>\n",
       "      <td>530</td>\n",
       "      <td>570</td>\n",
       "      <td>Private nonprofit</td>\n",
       "      <td>The King’s College</td>\n",
       "      <td>13283.214950</td>\n",
       "      <td>-24.265920</td>\n",
       "      <td>1</td>\n",
       "    </tr>\n",
       "    <tr>\n",
       "      <th>6300</th>\n",
       "      <td>24936</td>\n",
       "      <td>535</td>\n",
       "      <td>670</td>\n",
       "      <td>595</td>\n",
       "      <td>Public</td>\n",
       "      <td>University of Minnesota-Rochester</td>\n",
       "      <td>-10217.036750</td>\n",
       "      <td>181.328760</td>\n",
       "      <td>0</td>\n",
       "    </tr>\n",
       "    <tr>\n",
       "      <th>6699</th>\n",
       "      <td>41646</td>\n",
       "      <td>555</td>\n",
       "      <td>520</td>\n",
       "      <td>535</td>\n",
       "      <td>Private nonprofit</td>\n",
       "      <td>John Paul the Great Catholic University</td>\n",
       "      <td>6492.091058</td>\n",
       "      <td>-26.370152</td>\n",
       "      <td>1</td>\n",
       "    </tr>\n",
       "    <tr>\n",
       "      <th>6947</th>\n",
       "      <td>26905</td>\n",
       "      <td>510</td>\n",
       "      <td>505</td>\n",
       "      <td>490</td>\n",
       "      <td>Public</td>\n",
       "      <td>Pennsylvania State University-World Campus</td>\n",
       "      <td>-8249.020764</td>\n",
       "      <td>-3.857852</td>\n",
       "      <td>0</td>\n",
       "    </tr>\n",
       "  </tbody>\n",
       "</table>\n",
       "<p>723 rows × 9 columns</p>\n",
       "</div>"
      ],
      "text/plain": [
       "      COSTT4_A  SATVRMID  SATMTMID  SATWRMID             CONTROL  \\\n",
       "0        21475       424       420       420              Public   \n",
       "5        26400       555       565       540              Public   \n",
       "9        25282       575       588       565              Public   \n",
       "37       22440       548       528       533              Public   \n",
       "46       40900       565       558       555   Private nonprofit   \n",
       "50       18525       510       518       485              Public   \n",
       "64       42640       555       503       530   Private nonprofit   \n",
       "115      41256       545       503       503   Private nonprofit   \n",
       "128      22521       470       510       455              Public   \n",
       "134      33605       505       528       473   Private nonprofit   \n",
       "138      15409       410       427       411              Public   \n",
       "140      19359       460       520       445              Public   \n",
       "141      16518       495       535       495              Public   \n",
       "146      18354       490       515       475              Public   \n",
       "147      21616       445       500       450   Private nonprofit   \n",
       "174      35438       495       520       460   Private nonprofit   \n",
       "175      10722       490       475       455              Public   \n",
       "210      45472       515       515       505   Private nonprofit   \n",
       "215      46162       555       555       550   Private nonprofit   \n",
       "223      39523       485       485       475   Private nonprofit   \n",
       "226      58755       765       785       760   Private nonprofit   \n",
       "227      50425       550       550       545   Private nonprofit   \n",
       "243      33020       665       705       685              Public   \n",
       "244      32638       575       630       600              Public   \n",
       "245      29759       540       620       565              Public   \n",
       "246      32074       645       680       665              Public   \n",
       "247      30174       545       585       555              Public   \n",
       "248      30092       615       695       645              Public   \n",
       "250      33826       595       640       615              Public   \n",
       "251      33036       550       580       555              Public   \n",
       "...        ...       ...       ...       ...                 ...   \n",
       "4111     39312       527       542       485   Private nonprofit   \n",
       "4114     38159       530       522       483   Private nonprofit   \n",
       "4121     34385       440       452       448   Private nonprofit   \n",
       "4126     48364       590       605       570   Private nonprofit   \n",
       "4140     42703       565       575       565   Private nonprofit   \n",
       "4152     16950       495       480       485              Public   \n",
       "4165     23839       610       680       635              Public   \n",
       "4259     16540       400       390       405              Public   \n",
       "4260     60311       730       745       740   Private nonprofit   \n",
       "4261     22879       575       630       575              Public   \n",
       "4385     19858       665       615       635              Public   \n",
       "4627     22747       490       525       485              Public   \n",
       "4628     22120       485       495       460              Public   \n",
       "4738     34118       435       410       453   Private nonprofit   \n",
       "4753     42076       580       650       590   Private nonprofit   \n",
       "5200     17539       530       520       525              Public   \n",
       "5262     13751       495       505       490              Public   \n",
       "5263     13942       530       515       520              Public   \n",
       "5264     13766       500       490       495              Public   \n",
       "5457     61956       725       755       723   Private nonprofit   \n",
       "5527     39035       585       600       550  Private for-profit   \n",
       "5631     31883       500       520       500              Public   \n",
       "5684     36539       555       545       550   Private nonprofit   \n",
       "5855     18325       590       570       565              Public   \n",
       "5911     32600       500       510       500   Private nonprofit   \n",
       "6050     13925       570       550       540              Public   \n",
       "6103     48437       580       530       570   Private nonprofit   \n",
       "6300     24936       535       670       595              Public   \n",
       "6699     41646       555       520       535   Private nonprofit   \n",
       "6947     26905       510       505       490              Public   \n",
       "\n",
       "                                                 INSTNM          PCA1  \\\n",
       "0                              Alabama A & M University -13679.709075   \n",
       "5                             The University of Alabama  -8753.513744   \n",
       "9                                     Auburn University  -9871.276131   \n",
       "37                             University of Montevallo -12713.612411   \n",
       "46                                   Samford University   5746.320898   \n",
       "50                          University of South Alabama -16628.866790   \n",
       "64                            Alaska Pacific University   7486.005502   \n",
       "115                                    Prescott College   6101.902338   \n",
       "128               University of Arkansas at Little Rock -12633.182414   \n",
       "134                                        Lyon College  -1549.128910   \n",
       "138                University of Arkansas at Pine Bluff -19745.667222   \n",
       "140               Arkansas State University-Main Campus -15795.167755   \n",
       "141                            Arkansas Tech University -18635.794577   \n",
       "146                      University of Central Arkansas -16799.970211   \n",
       "147                             Central Baptist College -13538.294181   \n",
       "174                            University of the Ozarks    283.741456   \n",
       "175   University of Arkansas Community College-Morri... -24432.044154   \n",
       "210                            Azusa Pacific University  10317.787384   \n",
       "215                                    Biola University  11008.180895   \n",
       "223                       California Baptist University   4368.590237   \n",
       "226                  California Institute of Technology  23603.077268   \n",
       "227                      California Lutheran University  15271.065843   \n",
       "243                   University of California-Berkeley  -2132.338757   \n",
       "244                      University of California-Davis  -2515.139579   \n",
       "245                     University of California-Irvine  -5394.355701   \n",
       "246                University of California-Los Angeles  -3078.532911   \n",
       "247                  University of California-Riverside  -4979.489786   \n",
       "248                  University of California-San Diego  -5060.618034   \n",
       "250              University of California-Santa Barbara  -1327.013024   \n",
       "251                 University of California-Santa Cruz  -2117.534519   \n",
       "...                                                 ...           ...   \n",
       "4111                                 Carroll University   4157.935129   \n",
       "4114                     Concordia University-Wisconsin   3004.893598   \n",
       "4121                                   Lakeland College   -769.665021   \n",
       "4126                               Marquette University  13210.479372   \n",
       "4140                                      Ripon College   7549.380069   \n",
       "4152                 University of Wisconsin-Whitewater -18204.006379   \n",
       "4165                    University of Wisconsin-Madison -11313.616920   \n",
       "4259                   University of the Virgin Islands -18614.851364   \n",
       "4260                                Stanford University  25158.750972   \n",
       "4261                      Purdue University-Main Campus -12274.073753   \n",
       "4385                             New College of Florida -15294.585222   \n",
       "4627            University of Washington-Bothell Campus -12406.973231   \n",
       "4628             University of Washington-Tacoma Campus -13034.158669   \n",
       "4738               Watkins College of Art Design & Film  -1036.789054   \n",
       "4753                         Soka University of America   6922.755505   \n",
       "5200                      Florida Gulf Coast University -17614.644172   \n",
       "5262               University of Connecticut-Tri-Campus -21402.861558   \n",
       "5263              University of Connecticut-Avery Point -21211.620755   \n",
       "5264                 University of Connecticut-Stamford -21387.875357   \n",
       "5457             Franklin W Olin College of Engineering  26803.681643   \n",
       "5527                    DigiPen Institute of Technology   3881.524836   \n",
       "5631                    University of California-Merced  -3271.048489   \n",
       "5684                               Ave Maria University   1385.300457   \n",
       "5855          University of South Florida-St Petersburg -16828.176489   \n",
       "5911                              Visible Music College  -2554.090670   \n",
       "6050       University of South Florida-Sarasota-Manatee -21228.318497   \n",
       "6103                                 The King’s College  13283.214950   \n",
       "6300                  University of Minnesota-Rochester -10217.036750   \n",
       "6699            John Paul the Great Catholic University   6492.091058   \n",
       "6947         Pennsylvania State University-World Campus  -8249.020764   \n",
       "\n",
       "            PCA2  cluster  \n",
       "0    -112.500085        0  \n",
       "5      88.795075        0  \n",
       "9     134.358326        0  \n",
       "37     80.668124        0  \n",
       "46     17.806251        1  \n",
       "50     47.863858        0  \n",
       "64    -45.082835        1  \n",
       "115   -58.485126        1  \n",
       "128   -18.541368        0  \n",
       "134   -39.958073        1  \n",
       "138   -87.291956        0  \n",
       "140    -6.122621        0  \n",
       "141    66.927776        0  \n",
       "146    30.270755        0  \n",
       "147   -36.098958        0  \n",
       "174   -68.026908        1  \n",
       "175    37.115487        0  \n",
       "210   -90.015064        1  \n",
       "215   -21.742292        1  \n",
       "223  -108.729755        1  \n",
       "226   283.475221        1  \n",
       "227   -54.188591        1  \n",
       "243   280.626042        0  \n",
       "244   138.960926        0  \n",
       "245   109.554194        0  \n",
       "246   248.274774        0  \n",
       "247    83.038593        0  \n",
       "248   240.390645        0  \n",
       "250   158.004340        0  \n",
       "251    66.779775        0  \n",
       "...          ...      ...  \n",
       "4111  -44.367638        1  \n",
       "4114  -49.528330        1  \n",
       "4121 -140.244968        1  \n",
       "4126   26.896927        1  \n",
       "4140   23.807650        1  \n",
       "4152   25.506587        0  \n",
       "4165  257.699758        0  \n",
       "4259 -124.894074        0  \n",
       "4260  219.899587        1  \n",
       "4261  178.930579        0  \n",
       "4385  270.745749        0  \n",
       "4627   17.589667        0  \n",
       "4628  -14.258524        0  \n",
       "4738 -163.949940        1  \n",
       "4753   95.295404        1  \n",
       "5200   88.709197        0  \n",
       "5262   61.356766        0  \n",
       "5263  102.866416        0  \n",
       "5264   57.849497        0  \n",
       "5457  204.163301        1  \n",
       "5527   61.613063        1  \n",
       "5631  -22.253158        0  \n",
       "5684   25.928718        1  \n",
       "5855  170.521249        0  \n",
       "5911  -32.293268        0  \n",
       "6050  157.567352        0  \n",
       "6103  -24.265920        1  \n",
       "6300  181.328760        0  \n",
       "6699  -26.370152        1  \n",
       "6947   -3.857852        0  \n",
       "\n",
       "[723 rows x 9 columns]"
      ]
     },
     "execution_count": 65,
     "metadata": {},
     "output_type": "execute_result"
    }
   ],
   "source": [
    "# Add the cluster labels back to the subset data so we can plot it\n",
    "scorecard_subset['cluster'] = y_gmm\n",
    "scorecard_subset"
   ]
  },
  {
   "cell_type": "code",
   "execution_count": 64,
   "metadata": {},
   "outputs": [
    {
     "data": {
      "text/plain": [
       "<seaborn.axisgrid.FacetGrid at 0xa4800e8c>"
      ]
     },
     "execution_count": 64,
     "metadata": {},
     "output_type": "execute_result"
    },
    {
     "data": {
      "image/png": "[encoded data removed]",
      "text/plain": [
       "<matplotlib.figure.Figure at 0xa4a1d26c>"
      ]
     },
     "metadata": {},
     "output_type": "display_data"
    }
   ],
   "source": [
    "# Plot each cluster and  principle components\n",
    "sns.lmplot(\"PCA1\", \"PCA2\", data=scorecard_subset, hue='CONTROL',\n",
    "           col='cluster', fit_reg=False)"
   ]
  },
  {
   "cell_type": "markdown",
   "metadata": {},
   "source": [
    "* WOWOW! Look at that, the computer has used the magical powers of math to distinguish between (most) public and private universities "
   ]
  },
  {
   "cell_type": "code",
   "execution_count": 68,
   "metadata": {},
   "outputs": [
    {
     "data": {
      "text/plain": [
       "3178                    Summit University of Pennsylvania\n",
       "741                                       Florida College\n",
       "3506                                 Augustana University\n",
       "3480                          North Greenville University\n",
       "1269    Faith Baptist Bible College and Theological Se...\n",
       "967                                   Boise Bible College\n",
       "3571                                   Johnson University\n",
       "944                              Truett-McConnell College\n",
       "3577                                Le Moyne-Owen College\n",
       "2551                                        Davis College\n",
       "1822                                   Madonna University\n",
       "1388                                     Sterling College\n",
       "3365           Reading Hospital School of Health Sciences\n",
       "2571                                   St Francis College\n",
       "725                            Johnson University Florida\n",
       "3674                             Dallas Christian College\n",
       "1530                       Xavier University of Louisiana\n",
       "2086                                College of the Ozarks\n",
       "3423                            York College Pennsylvania\n",
       "3081                    Southwestern Christian University\n",
       "2855                      Cincinnati Christian University\n",
       "4081                               Ohio Valley University\n",
       "5911                                Visible Music College\n",
       "2144                               Rocky Mountain College\n",
       "3161                 Bryn Athyn College of the New Church\n",
       "Name: INSTNM, dtype: object"
      ]
     },
     "execution_count": 68,
     "metadata": {},
     "output_type": "execute_result"
    }
   ],
   "source": [
    "scorecard_subset[(scorecard_subset['cluster'] == 0) & \n",
    "                 (scorecard_subset['CONTROL'] == \"Private nonprofit\")]['INSTNM'].sample(25)"
   ]
  },
  {
   "cell_type": "markdown",
   "metadata": {},
   "source": [
    "* Interesting, it looks like most of the private-nonprofit schools that ended up in the Public school cluster were religious institutions.\n",
    "* The mis-classification is an indication that there might be some other clusters hidden in the data\n",
    "* In data science, there is often a lot of insight in looking at how the model fails"
   ]
  },
  {
   "cell_type": "markdown",
   "metadata": {},
   "source": [
    "### Hyperparameters\n",
    "\n",
    "* Machine learning algorithms all have various parameters you can \n",
    "* They are called hyperparameters because they are specified before training the model\n",
    "* Figuring out the best hyperparameters is more of an art than a science, this is where experience and experimentation come into play\n",
    "* For example, let's see if we can tease out the religious schools that got mixed in with the public schools by setting the number of groups to three."
   ]
  },
  {
   "cell_type": "code",
   "execution_count": 69,
   "metadata": {},
   "outputs": [
    {
     "data": {
      "text/plain": [
       "<seaborn.axisgrid.FacetGrid at 0xa4a82b0c>"
      ]
     },
     "execution_count": 69,
     "metadata": {},
     "output_type": "execute_result"
    },
    {
     "data": {
      "image/png": "[encoded data removed]",
      "text/plain": [
       "<matplotlib.figure.Figure at 0xa47d23ac>"
      ]
     },
     "metadata": {},
     "output_type": "display_data"
    }
   ],
   "source": [
    "# Specify the number of groups through a hyperparameter\n",
    "number_of_groups = 3\n",
    "\n",
    "from sklearn.mixture import GaussianMixture   # 1. Choose the model class\n",
    "model = GaussianMixture(n_components=number_of_groups,\n",
    "            covariance_type='full')           # 2. Instantiate the model with hyperparameters\n",
    "model.fit(features_matrix)                    # 3. Fit to data. Notice y is not specified!\n",
    "y_gmm = model.predict(features_matrix)        # 4. Determine cluster labels\n",
    "\n",
    "# Add the cluster labels back to the subset data so we can plot it\n",
    "scorecard_subset['cluster'] = y_gmm\n",
    "# Plot each cluster and  principle components\n",
    "sns.lmplot(\"PCA1\", \"PCA2\", data=scorecard_subset, hue='CONTROL',\n",
    "           col='cluster', fit_reg=False, col_wrap=3)"
   ]
  },
  {
   "cell_type": "markdown",
   "metadata": {},
   "source": [
    "* Hmm, that didnt' work. Anyone have a guess as to why?"
   ]
  },
  {
   "cell_type": "code",
   "execution_count": null,
   "metadata": {
    "collapsed": true
   },
   "outputs": [],
   "source": []
  },
  {
   "cell_type": "code",
   "execution_count": null,
   "metadata": {
    "collapsed": true
   },
   "outputs": [],
   "source": []
  },
  {
   "cell_type": "code",
   "execution_count": null,
   "metadata": {
    "collapsed": true
   },
   "outputs": [],
   "source": []
  },
  {
   "cell_type": "markdown",
   "metadata": {},
   "source": [
    "* Let's see what schools did and did not get incorporated into the new cluster"
   ]
  },
  {
   "cell_type": "code",
   "execution_count": 71,
   "metadata": {},
   "outputs": [
    {
     "data": {
      "text/plain": [
       "1811                                   Kalamazoo College\n",
       "1242                   Saint Elizabeth School of Nursing\n",
       "330                            Fresno Pacific University\n",
       "1079                                    Lewis University\n",
       "2955                            Ohio Northern University\n",
       "1190                               Huntington University\n",
       "5631                     University of California-Merced\n",
       "386                    The Master's College and Seminary\n",
       "1169                              Bethel College-Indiana\n",
       "1636                                 Bay Path University\n",
       "1551                           University of New England\n",
       "3345                          The University of the Arts\n",
       "1758                                    Wheelock College\n",
       "1762                                      Adrian College\n",
       "1093                                McKendree University\n",
       "3677                                University of Dallas\n",
       "455                            University of the Pacific\n",
       "2516                                      Molloy College\n",
       "2975                                Otterbein University\n",
       "3950                                     Roanoke College\n",
       "3168                                  DeSales University\n",
       "2701                             Gardner-Webb University\n",
       "1666                                     Emerson College\n",
       "2827                           Art Academy of Cincinnati\n",
       "3320    Pennsylvania State University-Penn State Altoona\n",
       "Name: INSTNM, dtype: object"
      ]
     },
     "execution_count": 71,
     "metadata": {},
     "output_type": "execute_result"
    }
   ],
   "source": [
    "# Inspect a specific cluster\n",
    "scorecard_subset[scorecard_subset['cluster'] == 0]['INSTNM'].sample(25)"
   ]
  },
  {
   "cell_type": "code",
   "execution_count": 70,
   "metadata": {},
   "outputs": [
    {
     "data": {
      "text/plain": [
       "1633                                       Babson College\n",
       "460                                 Pepperdine University\n",
       "1012                                University of Chicago\n",
       "901                                      Emory University\n",
       "3249                                    Haverford College\n",
       "3874                                   Middlebury College\n",
       "3976                        Washington and Lee University\n",
       "1752                                     Tufts University\n",
       "3427                                     Brown University\n",
       "1886                                     Carleton College\n",
       "3407                                 Villanova University\n",
       "3634                                Vanderbilt University\n",
       "3268                                    Lafayette College\n",
       "2415    Cooper Union for the Advancement of Science an...\n",
       "795                                   University of Miami\n",
       "2552                                 Pratt Institute-Main\n",
       "1539                                        Colby College\n",
       "1753                                    Wellesley College\n",
       "2480               Jewish Theological Seminary of America\n",
       "274                                    Chapman University\n",
       "464                                        Pomona College\n",
       "392                           Loyola Marymount University\n",
       "697                                   American University\n",
       "510                                       Scripps College\n",
       "2201                                    Dartmouth College\n",
       "Name: INSTNM, dtype: object"
      ]
     },
     "execution_count": 70,
     "metadata": {},
     "output_type": "execute_result"
    }
   ],
   "source": [
    "# Inspect a specific cluster\n",
    "scorecard_subset[scorecard_subset['cluster'] == 1]['INSTNM'].sample(25)"
   ]
  },
  {
   "cell_type": "code",
   "execution_count": 72,
   "metadata": {},
   "outputs": [
    {
     "data": {
      "text/plain": [
       "3146                        Southern Oregon University\n",
       "1957              Southwest Minnesota State University\n",
       "1427                         Kentucky State University\n",
       "748                   Florida International University\n",
       "1571                            Bowie State University\n",
       "3866                              Castleton University\n",
       "5                            The University of Alabama\n",
       "3963      The University of Virginia's College at Wise\n",
       "1618                                 Towson University\n",
       "3872                              Lyndon State College\n",
       "2695                   Elizabeth City State University\n",
       "247                 University of California-Riverside\n",
       "1558                      University of Southern Maine\n",
       "3932                          Norfolk State University\n",
       "2857              University of Cincinnati-Main Campus\n",
       "3449                              Bob Jones University\n",
       "804                        University of North Florida\n",
       "737     Florida Agricultural and Mechanical University\n",
       "2739       University of North Carolina at Chapel Hill\n",
       "1581                        Frostburg State University\n",
       "636               Central Connecticut State University\n",
       "2741        University of North Carolina at Greensboro\n",
       "3785                            Texas State University\n",
       "3789                         Tarleton State University\n",
       "2693                          East Carolina University\n",
       "Name: INSTNM, dtype: object"
      ]
     },
     "execution_count": 72,
     "metadata": {},
     "output_type": "execute_result"
    }
   ],
   "source": [
    "# Inspect a specific cluster\n",
    "scorecard_subset[scorecard_subset['cluster'] == 2]['INSTNM'].sample(25)"
   ]
  },
  {
   "cell_type": "markdown",
   "metadata": {},
   "source": [
    "#### Exercise\n",
    "\n",
    "* Using the clustering code  to create a couple models with a different number of clusters.\n",
    "* Then use the cluster inspection code to see if you can understand why schools got clustered together"
   ]
  },
  {
   "cell_type": "code",
   "execution_count": null,
   "metadata": {
    "collapsed": true
   },
   "outputs": [],
   "source": [
    "### Put your code here"
   ]
  },
  {
   "cell_type": "code",
   "execution_count": null,
   "metadata": {
    "collapsed": true
   },
   "outputs": [],
   "source": []
  },
  {
   "cell_type": "code",
   "execution_count": null,
   "metadata": {
    "collapsed": true
   },
   "outputs": [],
   "source": []
  },
  {
   "cell_type": "code",
   "execution_count": null,
   "metadata": {
    "collapsed": true
   },
   "outputs": [],
   "source": []
  },
  {
   "cell_type": "code",
   "execution_count": null,
   "metadata": {
    "collapsed": true
   },
   "outputs": [],
   "source": []
  },
  {
   "cell_type": "code",
   "execution_count": null,
   "metadata": {
    "collapsed": true
   },
   "outputs": [],
   "source": []
  },
  {
   "cell_type": "code",
   "execution_count": null,
   "metadata": {
    "collapsed": true
   },
   "outputs": [],
   "source": []
  },
  {
   "cell_type": "code",
   "execution_count": null,
   "metadata": {
    "collapsed": true
   },
   "outputs": [],
   "source": []
  },
  {
   "cell_type": "code",
   "execution_count": null,
   "metadata": {
    "collapsed": true
   },
   "outputs": [],
   "source": []
  },
  {
   "cell_type": "code",
   "execution_count": null,
   "metadata": {
    "collapsed": true
   },
   "outputs": [],
   "source": []
  },
  {
   "cell_type": "code",
   "execution_count": 73,
   "metadata": {
    "scrolled": false
   },
   "outputs": [
    {
     "data": {
      "text/plain": [
       "<seaborn.axisgrid.FacetGrid at 0xa476b32c>"
      ]
     },
     "execution_count": 73,
     "metadata": {},
     "output_type": "execute_result"
    },
    {
     "data": {
      "image/png": "[encoded data removed]",
      "text/plain": [
       "<matplotlib.figure.Figure at 0xa4723acc>"
      ]
     },
     "metadata": {},
     "output_type": "display_data"
    }
   ],
   "source": [
    "# We can force as many groups as we want\n",
    "number_of_groups = 30\n",
    "\n",
    "from sklearn.mixture import GaussianMixture   # 1. Choose the model class\n",
    "model = GaussianMixture(n_components=number_of_groups,\n",
    "            covariance_type='full')           # 2. Instantiate the model with hyperparameters\n",
    "model.fit(features_matrix)                    # 3. Fit to data. Notice y is not specified!\n",
    "y_gmm = model.predict(features_matrix)        # 4. Determine cluster labels\n",
    "\n",
    "# Add the cluster labels back to the subset data so we can plot it\n",
    "scorecard_subset['cluster'] = y_gmm\n",
    "# Plot each cluster and  principle components\n",
    "sns.lmplot(\"PCA1\", \"PCA2\", data=scorecard_subset, hue='CONTROL',\n",
    "           col='cluster', fit_reg=False, col_wrap=3)"
   ]
  },
  {
   "cell_type": "code",
   "execution_count": null,
   "metadata": {
    "collapsed": true
   },
   "outputs": [],
   "source": [
    "# Inspect a specific cluster\n",
    "scorecard_subset[scorecard_subset['cluster'] == 19]['INSTNM']"
   ]
  },
  {
   "cell_type": "code",
   "execution_count": null,
   "metadata": {
    "collapsed": true
   },
   "outputs": [],
   "source": [
    "# Inspect a specific cluster\n",
    "scorecard_subset[scorecard_subset['cluster'] == 27]['INSTNM']"
   ]
  },
  {
   "cell_type": "code",
   "execution_count": null,
   "metadata": {
    "collapsed": true
   },
   "outputs": [],
   "source": []
  }
 ],
 "metadata": {
  "kernelspec": {
   "display_name": "Python 3",
   "language": "python",
   "name": "python3"
  },
  "language_info": {
   "codemirror_mode": {
    "name": "ipython",
    "version": 3
   },
   "file_extension": ".py",
   "mimetype": "text/x-python",
   "name": "python",
   "nbconvert_exporter": "python",
   "pygments_lexer": "ipython3",
   "version": "3.5.2"
  }
 },
 "nbformat": 4,
 "nbformat_minor": 2
}
