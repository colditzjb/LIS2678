{
 "cells": [
  {
   "cell_type": "markdown",
   "metadata": {},
   "source": [
    "# Lecture Two - May 30th, 2017\n",
    "\n",
    "\n",
    "\n",
    "## A quick review of last week\n",
    "\n",
    "### Markdown\n",
    "```\n",
    "# Header 1\n",
    "## Header 2\n",
    "\n",
    "* list item\n",
    "* another list item\n",
    "\n",
    "[A link](http://google.com\n",
    "```\n",
    "\n",
    "### Python data types\n",
    "\n",
    "* integers - 5\n",
    "* strings - \"hello world\"\n",
    "* floats - 5.3\n",
    "\n",
    "### Variables and assignment\n",
    "```\n",
    "a = 17\n",
    "\n",
    "underscore_for_spaces = \"good, mnemonic variables\"\n",
    "```"
   ]
  },
  {
   "cell_type": "markdown",
   "metadata": {},
   "source": [
    "## Conditional expressions\n",
    "\n",
    "* Use *logical operators* (<, >, !=, is, is not)\n",
    "* Allow us to *control the flow of execution*\n",
    "* if true then do this, else do that"
   ]
  },
  {
   "cell_type": "code",
   "execution_count": null,
   "metadata": {
    "collapsed": false
   },
   "outputs": [],
   "source": [
    "# testing for equality\n",
    "5 == 5"
   ]
  },
  {
   "cell_type": "code",
   "execution_count": 1,
   "metadata": {
    "collapsed": false
   },
   "outputs": [
    {
     "data": {
      "text/plain": [
       "False"
      ]
     },
     "execution_count": 1,
     "metadata": {},
     "output_type": "execute_result"
    }
   ],
   "source": [
    "5 == 6"
   ]
  },
  {
   "cell_type": "markdown",
   "metadata": {},
   "source": [
    "* Note the double equals sign"
   ]
  },
  {
   "cell_type": "code",
   "execution_count": null,
   "metadata": {
    "collapsed": false
   },
   "outputs": [],
   "source": [
    "if 5 == 5:\n",
    "    print(\"Yup, five is five\")"
   ]
  },
  {
   "cell_type": "code",
   "execution_count": null,
   "metadata": {
    "collapsed": true
   },
   "outputs": [],
   "source": [
    "if 5 == 6:\n",
    "    print(\"five is six, huh?\")"
   ]
  },
  {
   "cell_type": "markdown",
   "metadata": {},
   "source": [
    "* No print because 5 doesn't equal 6"
   ]
  },
  {
   "cell_type": "code",
   "execution_count": null,
   "metadata": {
    "collapsed": false
   },
   "outputs": [],
   "source": [
    "if 5 != 6:\n",
    "    print(\"five is NOT six, whew\")"
   ]
  },
  {
   "cell_type": "code",
   "execution_count": null,
   "metadata": {
    "collapsed": true
   },
   "outputs": [],
   "source": [
    "if 5 > 6:\n",
    "    print(\"five is greater than six, what?\")"
   ]
  },
  {
   "cell_type": "markdown",
   "metadata": {},
   "source": [
    "### Alternative execution\n",
    "\n",
    "* if true do this, else do that "
   ]
  },
  {
   "cell_type": "code",
   "execution_count": null,
   "metadata": {
    "collapsed": false
   },
   "outputs": [],
   "source": [
    "if 5 > 6:\n",
    "    print(\"nothing makes sense\")\n",
    "else:\n",
    "    print(\"everything is as it should be\")"
   ]
  },
  {
   "cell_type": "markdown",
   "metadata": {},
   "source": [
    "#### EXERCISE: assign values to X and Y to create different outcomes"
   ]
  },
  {
   "cell_type": "code",
   "execution_count": 4,
   "metadata": {
    "collapsed": false
   },
   "outputs": [
    {
     "name": "stdout",
     "output_type": "stream",
     "text": [
      "x is less than y\n"
     ]
    }
   ],
   "source": [
    "x = 'string'\n",
    "y = 'strong'\n",
    "\n",
    "if x < y:\n",
    "    print('x is less than y')\n",
    "elif x > y:\n",
    "    print('x is greater than y')\n",
    "else:\n",
    "    print('x and y are equal')"
   ]
  },
  {
   "cell_type": "markdown",
   "metadata": {},
   "source": [
    "## Functions\n",
    "\n",
    "* Allow you to re-used blocks of code without re-writing it every time\n",
    "* Functions have a name followed by parentheses.\n",
    "* You have already seen a couple functions, what are they?\n",
    "* You *call* functions and you can pass *arguments* to a function.\n"
   ]
  },
  {
   "cell_type": "code",
   "execution_count": null,
   "metadata": {
    "collapsed": false
   },
   "outputs": [],
   "source": [
    "# what is the python data type of 5\n",
    "type(5)"
   ]
  },
  {
   "cell_type": "code",
   "execution_count": null,
   "metadata": {
    "collapsed": false
   },
   "outputs": [],
   "source": [
    "# what is the python data type of \"herp derp\"\n",
    "type('herp derp')"
   ]
  },
  {
   "cell_type": "code",
   "execution_count": 5,
   "metadata": {
    "collapsed": false
   },
   "outputs": [
    {
     "data": {
      "text/plain": [
       "11"
      ]
     },
     "execution_count": 5,
     "metadata": {},
     "output_type": "execute_result"
    }
   ],
   "source": [
    "# this function tells you the length of things\n",
    "len(\"hello world\")"
   ]
  },
  {
   "cell_type": "code",
   "execution_count": 6,
   "metadata": {
    "collapsed": false
   },
   "outputs": [
    {
     "name": "stdout",
     "output_type": "stream",
     "text": [
      "0.9331162732309348\n",
      "0.7234111215353556\n",
      "0.9967754166212884\n",
      "0.7523091719121922\n",
      "0.8154971662629833\n",
      "0.5083858644250937\n",
      "0.3923374170912629\n",
      "0.25076671013960705\n",
      "0.06199208692293234\n",
      "0.6691847059455593\n"
     ]
    }
   ],
   "source": [
    "import random\n",
    "\n",
    "for i in range(10):\n",
    "    x = random.random()\n",
    "    print(x)"
   ]
  },
  {
   "cell_type": "code",
   "execution_count": 32,
   "metadata": {
    "collapsed": false
   },
   "outputs": [
    {
     "data": {
      "text/plain": [
       "-0.0721466792100649"
      ]
     },
     "execution_count": 32,
     "metadata": {},
     "output_type": "execute_result"
    }
   ],
   "source": [
    "random.uniform(-1,1)\n"
   ]
  },
  {
   "cell_type": "code",
   "execution_count": null,
   "metadata": {
    "collapsed": false
   },
   "outputs": [],
   "source": [
    "random.randint(5, 10)"
   ]
  },
  {
   "cell_type": "markdown",
   "metadata": {},
   "source": [
    "### Creating your own functions\n",
    "\n",
    "* We have been using existing functions `type()`, `print()`, `random.random()` \n",
    "* Sometimes the function we need doesn't exist\n",
    "* Python lets you create your own functions"
   ]
  },
  {
   "cell_type": "code",
   "execution_count": null,
   "metadata": {
    "collapsed": true
   },
   "outputs": [],
   "source": [
    "def print_lyrics():\n",
    "    print(\"I'm a lumberjack, and I'm okay.\")\n",
    "    print('I sleep all night and I work all day.')"
   ]
  },
  {
   "cell_type": "markdown",
   "metadata": {},
   "source": [
    "* Functions can have arguements as well"
   ]
  },
  {
   "cell_type": "code",
   "execution_count": 34,
   "metadata": {
    "collapsed": false
   },
   "outputs": [
    {
     "name": "stdout",
     "output_type": "stream",
     "text": [
      "None\n",
      "None\n"
     ]
    }
   ],
   "source": [
    "def print_twice(thing_to_print):\n",
    "    print(thing_to_print)\n",
    "    print(thing_to_print)\n",
    "    \n",
    "print_twice(None)"
   ]
  },
  {
   "cell_type": "markdown",
   "metadata": {},
   "source": [
    "#### EXERCISES"
   ]
  },
  {
   "cell_type": "raw",
   "metadata": {},
   "source": [
    "What is the purpose of the \"def\" keyword in Python?\n",
    "\n",
    "a) It is slang that means \"the following code is really cool\"\n",
    "b) It indicates the start of a function\n",
    "c) It indicates that the following indented section of code is to be stored for later\n",
    "d) b and c are both true\n",
    "e) None of the above"
   ]
  },
  {
   "cell_type": "markdown",
   "metadata": {},
   "source": [
    "What will the following code cell print out?"
   ]
  },
  {
   "cell_type": "code",
   "execution_count": null,
   "metadata": {
    "collapsed": false
   },
   "outputs": [],
   "source": [
    "def fred():\n",
    "   print(\"Zap\")\n",
    "\n",
    "def jane():\n",
    "   print(\"ABC\")\n",
    "\n",
    "jane()\n",
    "fred()\n",
    "jane()"
   ]
  },
  {
   "cell_type": "raw",
   "metadata": {},
   "source": [
    "a) Zap ABC jane fred jane\n",
    "b) Zap ABC Zap\n",
    "c) ABC Zap jane\n",
    "d) ABC Zap ABC\n",
    "e) Zap Zap Zap"
   ]
  },
  {
   "cell_type": "markdown",
   "metadata": {},
   "source": [
    "Rewrite the pay computation in the cell below with time-and-a-half for overtime and create a function called `computepay` which takes two parameters (hours and rate)."
   ]
  },
  {
   "cell_type": "code",
   "execution_count": 37,
   "metadata": {
    "collapsed": false
   },
   "outputs": [
    {
     "name": "stdout",
     "output_type": "stream",
     "text": [
      "410.0\n"
     ]
    }
   ],
   "source": [
    "hours = 41.0\n",
    "rate = 10\n",
    "pay = hours * rate\n",
    "print(pay)"
   ]
  },
  {
   "cell_type": "code",
   "execution_count": 54,
   "metadata": {
    "collapsed": false
   },
   "outputs": [
    {
     "data": {
      "text/plain": [
       "33"
      ]
     },
     "execution_count": 54,
     "metadata": {},
     "output_type": "execute_result"
    }
   ],
   "source": [
    "\n"
   ]
  },
  {
   "cell_type": "code",
   "execution_count": 64,
   "metadata": {
    "collapsed": false
   },
   "outputs": [
    {
     "name": "stdout",
     "output_type": "stream",
     "text": [
      "415.0\n"
     ]
    }
   ],
   "source": [
    "def computepay(hours, rate):\n",
    "    hours = hours + (hours%40)*0.5\n",
    "    pay = hours * rate\n",
    "    print(pay)\n",
    "    \n",
    "computepay(41, 10)"
   ]
  },
  {
   "cell_type": "markdown",
   "metadata": {},
   "source": [
    "## Iteration\n",
    "\n",
    "* Iteration allows your program to loop, like functions, this reduces the amount of code you must write\n",
    "* \n",
    "\n",
    "### `while` loops are pretty good..."
   ]
  },
  {
   "cell_type": "code",
   "execution_count": null,
   "metadata": {
    "collapsed": false
   },
   "outputs": [],
   "source": [
    "n = 5\n",
    "while n > 0:\n",
    "    print(n)\n",
    "    n = n - 1\n",
    "print('Blastoff!')"
   ]
  },
  {
   "cell_type": "markdown",
   "metadata": {
    "collapsed": true
   },
   "source": [
    "### but `for` loops are your *real* friend\n",
    "\n",
    "* for loops let you iterate over a set or collection of items individually"
   ]
  },
  {
   "cell_type": "code",
   "execution_count": null,
   "metadata": {
    "collapsed": false
   },
   "outputs": [],
   "source": [
    "friends = ['Joseph', 'Glenn', 'Sally'] #this is the python list syntax\n",
    "for friend in friends:\n",
    "    print('Happy New Year:', friend)\n",
    "print('Done!')"
   ]
  },
  {
   "cell_type": "markdown",
   "metadata": {
    "collapsed": true
   },
   "source": [
    "* loops let you do computations on things"
   ]
  },
  {
   "cell_type": "code",
   "execution_count": null,
   "metadata": {
    "collapsed": false
   },
   "outputs": [],
   "source": [
    "count = 0\n",
    "for itervar in [3, 41, 12, 9, 74, 15]:\n",
    "    count = count + 1\n",
    "print('Count: ', count)"
   ]
  },
  {
   "cell_type": "code",
   "execution_count": null,
   "metadata": {
    "collapsed": false
   },
   "outputs": [],
   "source": [
    "total = 0\n",
    "for itervar in [3, 41, 12, 9, 74, 15]:\n",
    "    total = total + itervar\n",
    "print('Total: ', total)\n"
   ]
  },
  {
   "cell_type": "markdown",
   "metadata": {
    "collapsed": true
   },
   "source": [
    "#### Exercise\n",
    "\n",
    "Write the code that computes the average of the list of numbers in the `numbers` variable."
   ]
  },
  {
   "cell_type": "code",
   "execution_count": 61,
   "metadata": {
    "collapsed": false
   },
   "outputs": [
    {
     "name": "stdout",
     "output_type": "stream",
     "text": [
      "Average:  25.666666666666668\n"
     ]
    }
   ],
   "source": [
    "numbers = [3, 41, 12, 9, 74, 15]\n",
    "\n",
    "# write your code here\n",
    "N=0\n",
    "total=0\n",
    "for n in numbers:\n",
    "    N += 1\n",
    "    total += n \n",
    "average = total/N\n",
    "\n",
    "print('Average: ', average)\n",
    "\n"
   ]
  },
  {
   "cell_type": "markdown",
   "metadata": {},
   "source": [
    "## Strings\n",
    "\n",
    "* Strings are "
   ]
  },
  {
   "cell_type": "markdown",
   "metadata": {},
   "source": [
    "### Indexing strings\n",
    "\n",
    "* Strings are sequences of characters\n",
    "* You can select specific characters by their *index*\n"
   ]
  },
  {
   "cell_type": "code",
   "execution_count": 65,
   "metadata": {
    "collapsed": true
   },
   "outputs": [],
   "source": [
    "fruit = \"apple\"\n",
    "letter = fruit[1]"
   ]
  },
  {
   "cell_type": "markdown",
   "metadata": {},
   "source": [
    "What character do you think this code will print?"
   ]
  },
  {
   "cell_type": "code",
   "execution_count": 66,
   "metadata": {
    "collapsed": false
   },
   "outputs": [
    {
     "name": "stdout",
     "output_type": "stream",
     "text": [
      "p\n"
     ]
    }
   ],
   "source": [
    "print(letter)"
   ]
  },
  {
   "cell_type": "markdown",
   "metadata": {},
   "source": [
    "#### Exercise\n",
    "\n",
    "Create a string and try and try and grab the last letter of the string. Try a *negative* number. What happens?"
   ]
  },
  {
   "cell_type": "code",
   "execution_count": 78,
   "metadata": {
    "collapsed": false
   },
   "outputs": [
    {
     "name": "stdout",
     "output_type": "stream",
     "text": [
      "apple\n"
     ]
    }
   ],
   "source": [
    "print(fruit[0:])"
   ]
  },
  {
   "cell_type": "markdown",
   "metadata": {},
   "source": [
    "### Slicing strings\n",
    "\n",
    "* You can select specific parts of a string using a syntax called *slicing*\n",
    "* Slicing is *very* useful, you will see it again soon when we talk about lists"
   ]
  },
  {
   "cell_type": "code",
   "execution_count": null,
   "metadata": {
    "collapsed": false
   },
   "outputs": [],
   "source": [
    "# select the first three characters of the string\n",
    "fruit[0:3]\n"
   ]
  },
  {
   "cell_type": "code",
   "execution_count": null,
   "metadata": {
    "collapsed": false
   },
   "outputs": [],
   "source": [
    "# select the third and fourth characters in the string\n",
    "print(fruit)\n",
    "fruit[2:4]"
   ]
  },
  {
   "cell_type": "markdown",
   "metadata": {
    "collapsed": true
   },
   "source": [
    "#### Exercise\n",
    "\n",
    "Create a string and try a couple different slices, see what you get."
   ]
  },
  {
   "cell_type": "code",
   "execution_count": null,
   "metadata": {
    "collapsed": true
   },
   "outputs": [],
   "source": []
  },
  {
   "cell_type": "code",
   "execution_count": null,
   "metadata": {
    "collapsed": true
   },
   "outputs": [],
   "source": []
  },
  {
   "cell_type": "markdown",
   "metadata": {},
   "source": [
    "### The `in` operator\n",
    "\n",
    "* The `in` keyword is a bit of python *sugar* that makes python easy on the eyes. \n",
    "* You can use it with strings to see if a substring is ***in*** another string."
   ]
  },
  {
   "cell_type": "code",
   "execution_count": 83,
   "metadata": {
    "collapsed": false
   },
   "outputs": [
    {
     "data": {
      "text/plain": [
       "False"
      ]
     },
     "execution_count": 83,
     "metadata": {},
     "output_type": "execute_result"
    }
   ],
   "source": [
    "'a' in 'banana'[0]"
   ]
  },
  {
   "cell_type": "code",
   "execution_count": 80,
   "metadata": {
    "collapsed": false
   },
   "outputs": [
    {
     "data": {
      "text/plain": [
       "False"
      ]
     },
     "execution_count": 80,
     "metadata": {},
     "output_type": "execute_result"
    }
   ],
   "source": [
    "'herpyderp' in 'salad dressing'"
   ]
  },
  {
   "cell_type": "code",
   "execution_count": 84,
   "metadata": {
    "collapsed": false
   },
   "outputs": [
    {
     "data": {
      "text/plain": [
       "True"
      ]
     },
     "execution_count": 84,
     "metadata": {},
     "output_type": "execute_result"
    }
   ],
   "source": [
    "# works with variables too\n",
    "a = \"app\"\n",
    "fruit = \"apple\"\n",
    "a in fruit"
   ]
  },
  {
   "cell_type": "markdown",
   "metadata": {},
   "source": [
    "### String comparison\n",
    "\n",
    "* You can use conditional expressions with strings to manage flow control\n",
    "* Usually you will use an *equality test* (`==`) to see if two strings are the same."
   ]
  },
  {
   "cell_type": "code",
   "execution_count": null,
   "metadata": {
    "collapsed": false
   },
   "outputs": [],
   "source": [
    "word = \"banana\"\n",
    "\n",
    "if word == \"banana\":\n",
    "    print(\"banana is the word\")\n",
    "else:\n",
    "    print(\"not a banana\")"
   ]
  },
  {
   "cell_type": "markdown",
   "metadata": {},
   "source": [
    "* You can also use other comparison operators, which can sometimes produce weird results"
   ]
  },
  {
   "cell_type": "code",
   "execution_count": null,
   "metadata": {
    "collapsed": false
   },
   "outputs": [],
   "source": [
    "word = \"banana\"\n",
    "if word < 'banana':\n",
    "    print('Your word, ' + word + ', comes before banana.')\n",
    "elif word > 'banana':\n",
    "    print('Your word, ' + word + ', comes after banana.')\n",
    "else:\n",
    "    print('All right, bananas.')"
   ]
  },
  {
   "cell_type": "code",
   "execution_count": null,
   "metadata": {
    "collapsed": false
   },
   "outputs": [],
   "source": [
    "word = \"Pinapple\"\n",
    "\n",
    "if word < 'banana':\n",
    "    print('Your word, ' + word + ', comes before banana.')\n",
    "elif word > 'banana':\n",
    "    print('Your word, ' + word + ', comes after banana.')\n",
    "else:\n",
    "    print('All right, bananas.')"
   ]
  },
  {
   "cell_type": "markdown",
   "metadata": {},
   "source": [
    "* This has to do with the [Unicode](https://en.wikipedia.org/wiki/Unicode) value of the first letter in each word. The character \"P\" comes before the character \"b\""
   ]
  },
  {
   "cell_type": "code",
   "execution_count": null,
   "metadata": {
    "collapsed": false
   },
   "outputs": [],
   "source": [
    "# look up the unicode value for the first character \n",
    "print(ord(\"b\"))\n",
    "print(ord(\"P\"))"
   ]
  },
  {
   "cell_type": "markdown",
   "metadata": {},
   "source": [
    "### `string` methods\n",
    "\n",
    "* *Methods* are functions built into the *objects* \n",
    "* When you create a string you create an *instance* of a `string` object (what we see when you run `type()`)\n",
    "* Instances of a string object have a bunch of methods for doing things to strings"
   ]
  },
  {
   "cell_type": "code",
   "execution_count": 86,
   "metadata": {
    "collapsed": false
   },
   "outputs": [
    {
     "data": {
      "text/plain": [
       "str"
      ]
     },
     "execution_count": 86,
     "metadata": {},
     "output_type": "execute_result"
    }
   ],
   "source": [
    "# create a string object and confirm its type\n",
    "my_stringy_string = \"howdy pardner!\"\n",
    "type(my_stringy_string)"
   ]
  },
  {
   "cell_type": "code",
   "execution_count": 87,
   "metadata": {
    "collapsed": false
   },
   "outputs": [
    {
     "data": {
      "text/plain": [
       "['__add__',\n",
       " '__class__',\n",
       " '__contains__',\n",
       " '__delattr__',\n",
       " '__dir__',\n",
       " '__doc__',\n",
       " '__eq__',\n",
       " '__format__',\n",
       " '__ge__',\n",
       " '__getattribute__',\n",
       " '__getitem__',\n",
       " '__getnewargs__',\n",
       " '__gt__',\n",
       " '__hash__',\n",
       " '__init__',\n",
       " '__iter__',\n",
       " '__le__',\n",
       " '__len__',\n",
       " '__lt__',\n",
       " '__mod__',\n",
       " '__mul__',\n",
       " '__ne__',\n",
       " '__new__',\n",
       " '__reduce__',\n",
       " '__reduce_ex__',\n",
       " '__repr__',\n",
       " '__rmod__',\n",
       " '__rmul__',\n",
       " '__setattr__',\n",
       " '__sizeof__',\n",
       " '__str__',\n",
       " '__subclasshook__',\n",
       " 'capitalize',\n",
       " 'casefold',\n",
       " 'center',\n",
       " 'count',\n",
       " 'encode',\n",
       " 'endswith',\n",
       " 'expandtabs',\n",
       " 'find',\n",
       " 'format',\n",
       " 'format_map',\n",
       " 'index',\n",
       " 'isalnum',\n",
       " 'isalpha',\n",
       " 'isdecimal',\n",
       " 'isdigit',\n",
       " 'isidentifier',\n",
       " 'islower',\n",
       " 'isnumeric',\n",
       " 'isprintable',\n",
       " 'isspace',\n",
       " 'istitle',\n",
       " 'isupper',\n",
       " 'join',\n",
       " 'ljust',\n",
       " 'lower',\n",
       " 'lstrip',\n",
       " 'maketrans',\n",
       " 'partition',\n",
       " 'replace',\n",
       " 'rfind',\n",
       " 'rindex',\n",
       " 'rjust',\n",
       " 'rpartition',\n",
       " 'rsplit',\n",
       " 'rstrip',\n",
       " 'split',\n",
       " 'splitlines',\n",
       " 'startswith',\n",
       " 'strip',\n",
       " 'swapcase',\n",
       " 'title',\n",
       " 'translate',\n",
       " 'upper',\n",
       " 'zfill']"
      ]
     },
     "execution_count": 87,
     "metadata": {},
     "output_type": "execute_result"
    }
   ],
   "source": [
    "# look and see what methods are available to strings\n",
    "dir(my_stringy_string)"
   ]
  },
  {
   "cell_type": "markdown",
   "metadata": {},
   "source": [
    "* Read the [documentation](https://docs.python.org/3.5/library/stdtypes.html#string-methods) to see a description of what these methods do.\n",
    "* You can run them using by using the *dot notation* syntax"
   ]
  },
  {
   "cell_type": "code",
   "execution_count": null,
   "metadata": {
    "collapsed": false
   },
   "outputs": [],
   "source": [
    "word = \"banana\"\n",
    "word.upper()"
   ]
  },
  {
   "cell_type": "markdown",
   "metadata": {},
   "source": [
    "* You can chain string methods together, as long as they return a string\n",
    "* This is one of those times you have to really think like a computer"
   ]
  },
  {
   "cell_type": "code",
   "execution_count": 88,
   "metadata": {
    "collapsed": false
   },
   "outputs": [
    {
     "data": {
      "text/plain": [
       "False"
      ]
     },
     "execution_count": 88,
     "metadata": {},
     "output_type": "execute_result"
    }
   ],
   "source": [
    "line = \"Have a new day\"\n",
    "line.startswith('h')"
   ]
  },
  {
   "cell_type": "code",
   "execution_count": null,
   "metadata": {
    "collapsed": false
   },
   "outputs": [],
   "source": [
    "line.lower()"
   ]
  },
  {
   "cell_type": "code",
   "execution_count": 92,
   "metadata": {
    "collapsed": false
   },
   "outputs": [
    {
     "data": {
      "text/plain": [
       "True"
      ]
     },
     "execution_count": 92,
     "metadata": {},
     "output_type": "execute_result"
    }
   ],
   "source": [
    "str(line.lower().startswith(\"h\")).lower().startswith(\"t\")"
   ]
  },
  {
   "cell_type": "markdown",
   "metadata": {},
   "source": [
    "#### Exercise\n",
    "\n",
    "Create a string and then look at the [string methods documentation](https://docs.python.org/3.5/library/stdtypes.html#string-methods) try five different methods."
   ]
  },
  {
   "cell_type": "code",
   "execution_count": 100,
   "metadata": {
    "collapsed": false
   },
   "outputs": [],
   "source": [
    "len('a string of len(19)')\n",
    "s = 'a string of len(19)'"
   ]
  },
  {
   "cell_type": "code",
   "execution_count": 102,
   "metadata": {
    "collapsed": false
   },
   "outputs": [
    {
     "data": {
      "text/plain": [
       "'A string of len(19)'"
      ]
     },
     "execution_count": 102,
     "metadata": {},
     "output_type": "execute_result"
    }
   ],
   "source": [
    "s.capitalize()"
   ]
  },
  {
   "cell_type": "code",
   "execution_count": null,
   "metadata": {
    "collapsed": true
   },
   "outputs": [],
   "source": []
  },
  {
   "cell_type": "code",
   "execution_count": null,
   "metadata": {
    "collapsed": true
   },
   "outputs": [],
   "source": []
  },
  {
   "cell_type": "code",
   "execution_count": null,
   "metadata": {
    "collapsed": true
   },
   "outputs": [],
   "source": []
  },
  {
   "cell_type": "markdown",
   "metadata": {},
   "source": [
    "## Files\n",
    "\n",
    "* Up to now we haven't really been doing much with data, only what we type into the notebooks (short strings and numbers)\n",
    "* Open files is where python becomes useful for processing larger amounts of data and information\n",
    "* Go download the example files from the Python for Everybobdy website\n",
    "    * http://www.py4e.com/code3/mbox-short.txt\n",
    "* Go back to the Jupyter Notebook dashboard and upload the mbox-short.txt file to the same directory as this notebook."
   ]
  },
  {
   "cell_type": "code",
   "execution_count": 103,
   "metadata": {
    "collapsed": false
   },
   "outputs": [
    {
     "name": "stdout",
     "output_type": "stream",
     "text": [
      "--2017-05-30 14:10:40--  http://www.py4e.com/code3/mbox-short.txt\n",
      "Resolving www.py4e.com (www.py4e.com)... 104.27.159.166, 104.27.158.166, 2400:cb00:2048:1::681b:9fa6, ...\n",
      "Connecting to www.py4e.com (www.py4e.com)|104.27.159.166|:80... connected.\n",
      "HTTP request sent, awaiting response... 301 Moved Permanently\n",
      "Location: https://www.py4e.com/code3/mbox-short.txt [following]\n",
      "--2017-05-30 14:10:40--  https://www.py4e.com/code3/mbox-short.txt\n",
      "Connecting to www.py4e.com (www.py4e.com)|104.27.159.166|:443... connected.\n",
      "HTTP request sent, awaiting response... 200 OK\n",
      "Length: unspecified [text/plain]\n",
      "Saving to: ‘mbox-short.txt’\n",
      "\n",
      "    [ <=>                                   ] 94,626      --.-K/s   in 0.03s   \n",
      "\n",
      "2017-05-30 14:10:40 (3.34 MB/s) - ‘mbox-short.txt’ saved [94626]\n",
      "\n"
     ]
    }
   ],
   "source": [
    "# This is a shortcut using unix tools to download the file\n",
    "!wget http://www.py4e.com/code3/mbox-short.txt"
   ]
  },
  {
   "cell_type": "code",
   "execution_count": 104,
   "metadata": {
    "collapsed": false
   },
   "outputs": [
    {
     "name": "stdout",
     "output_type": "stream",
     "text": [
      "From stephen.marquard@uct.ac.za Sat Jan  5 09:14:16 2008\r\n",
      "Return-Path: <postmaster@collab.sakaiproject.org>\r\n",
      "Received: from murder (mail.umich.edu [141.211.14.90])\r\n",
      "\t by frankenstein.mail.umich.edu (Cyrus v2.3.8) with LMTPA;\r\n",
      "\t Sat, 05 Jan 2008 09:14:16 -0500\r\n",
      "X-Sieve: CMU Sieve 2.3\r\n",
      "Received: from murder ([unix socket])\r\n",
      "\t by mail.umich.edu (Cyrus v2.2.12) with LMTPA;\r\n",
      "\t Sat, 05 Jan 2008 09:14:16 -0500\r\n",
      "Received: from holes.mr.itd.umich.edu (holes.mr.itd.umich.edu [141.211.14.79])\r\n"
     ]
    }
   ],
   "source": [
    "# use the unix command head to see the first ten lines of the file\n",
    "!head mbox-short.txt"
   ]
  },
  {
   "cell_type": "code",
   "execution_count": 105,
   "metadata": {
    "collapsed": false
   },
   "outputs": [
    {
     "name": "stdout",
     "output_type": "stream",
     "text": [
      "<_io.TextIOWrapper name='mbox-short.txt' mode='r' encoding='UTF-8'>\n"
     ]
    }
   ],
   "source": [
    "# open a connection to the file\n",
    "file_handler = open('mbox-short.txt')\n",
    "print(file_handler)\n",
    "file_handler.close() # be sure to close it!"
   ]
  },
  {
   "cell_type": "markdown",
   "metadata": {},
   "source": [
    "* When working with files it is really important to understand the *newline* character\n",
    "* A newline is represented in a string by `\\n`\n",
    "* This is useful for processing a text file line-by-line"
   ]
  },
  {
   "cell_type": "code",
   "execution_count": null,
   "metadata": {
    "collapsed": false
   },
   "outputs": [],
   "source": [
    "# A string with a newline in it\n",
    "print(\"Hello\\nWorld!\")"
   ]
  },
  {
   "cell_type": "markdown",
   "metadata": {},
   "source": [
    "* We can use the [repr() function](https://docs.python.org/3/library/functions.html#repr) to see the raw string from the file"
   ]
  },
  {
   "cell_type": "code",
   "execution_count": 106,
   "metadata": {
    "collapsed": false
   },
   "outputs": [
    {
     "name": "stdout",
     "output_type": "stream",
     "text": [
      "'Hello\\nWorld!'\n"
     ]
    }
   ],
   "source": [
    "print(repr(\"Hello\\nWorld!\"))"
   ]
  },
  {
   "cell_type": "markdown",
   "metadata": {},
   "source": [
    "### Reading Files\n",
    "\n",
    "* A file handle is not the file, it is a pointer to the file\n",
    "* This is how python can read HUGE files\n",
    "* We can loop over each line of a file with a loop"
   ]
  },
  {
   "cell_type": "code",
   "execution_count": null,
   "metadata": {
    "collapsed": false
   },
   "outputs": [],
   "source": [
    "# count the number of lines in the text file\n",
    "fhand = open('mbox-short.txt')\n",
    "count = 0\n",
    "for line in fhand:\n",
    "    count = count + 1\n",
    "fhand.close()\n",
    "print(count)"
   ]
  },
  {
   "cell_type": "markdown",
   "metadata": {},
   "source": [
    "### Searching through a file\n",
    "\n",
    "* You can use this pattern of looping over lines of a file to find particular lines"
   ]
  },
  {
   "cell_type": "code",
   "execution_count": 108,
   "metadata": {
    "collapsed": false
   },
   "outputs": [
    {
     "name": "stdout",
     "output_type": "stream",
     "text": [
      "'From: stephen.marquard@uct.ac.za\\n'\n",
      "'From: louis@media.berkeley.edu\\n'\n",
      "'From: zqian@umich.edu\\n'\n",
      "'From: rjlowe@iupui.edu\\n'\n",
      "'From: zqian@umich.edu\\n'\n",
      "'From: rjlowe@iupui.edu\\n'\n",
      "'From: cwen@iupui.edu\\n'\n",
      "'From: cwen@iupui.edu\\n'\n",
      "'From: gsilver@umich.edu\\n'\n",
      "'From: gsilver@umich.edu\\n'\n",
      "'From: zqian@umich.edu\\n'\n",
      "'From: gsilver@umich.edu\\n'\n",
      "'From: wagnermr@iupui.edu\\n'\n",
      "'From: zqian@umich.edu\\n'\n",
      "'From: antranig@caret.cam.ac.uk\\n'\n",
      "'From: gopal.ramasammycook@gmail.com\\n'\n",
      "'From: david.horwitz@uct.ac.za\\n'\n",
      "'From: david.horwitz@uct.ac.za\\n'\n",
      "'From: david.horwitz@uct.ac.za\\n'\n",
      "'From: david.horwitz@uct.ac.za\\n'\n",
      "'From: stephen.marquard@uct.ac.za\\n'\n",
      "'From: louis@media.berkeley.edu\\n'\n",
      "'From: louis@media.berkeley.edu\\n'\n",
      "'From: ray@media.berkeley.edu\\n'\n",
      "'From: cwen@iupui.edu\\n'\n",
      "'From: cwen@iupui.edu\\n'\n",
      "'From: cwen@iupui.edu\\n'\n"
     ]
    }
   ],
   "source": [
    "# use the repr() function to \n",
    "fhand = open('mbox-short.txt')\n",
    "for line in fhand:\n",
    "    if line.startswith('From:') :\n",
    "        print(repr(line))\n",
    "fhand.close()"
   ]
  },
  {
   "cell_type": "code",
   "execution_count": 107,
   "metadata": {
    "collapsed": false
   },
   "outputs": [
    {
     "name": "stdout",
     "output_type": "stream",
     "text": [
      "From: stephen.marquard@uct.ac.za\n",
      "\n",
      "From: louis@media.berkeley.edu\n",
      "\n",
      "From: zqian@umich.edu\n",
      "\n",
      "From: rjlowe@iupui.edu\n",
      "\n",
      "From: zqian@umich.edu\n",
      "\n",
      "From: rjlowe@iupui.edu\n",
      "\n",
      "From: cwen@iupui.edu\n",
      "\n",
      "From: cwen@iupui.edu\n",
      "\n",
      "From: gsilver@umich.edu\n",
      "\n",
      "From: gsilver@umich.edu\n",
      "\n",
      "From: zqian@umich.edu\n",
      "\n",
      "From: gsilver@umich.edu\n",
      "\n",
      "From: wagnermr@iupui.edu\n",
      "\n",
      "From: zqian@umich.edu\n",
      "\n",
      "From: antranig@caret.cam.ac.uk\n",
      "\n",
      "From: gopal.ramasammycook@gmail.com\n",
      "\n",
      "From: david.horwitz@uct.ac.za\n",
      "\n",
      "From: david.horwitz@uct.ac.za\n",
      "\n",
      "From: david.horwitz@uct.ac.za\n",
      "\n",
      "From: david.horwitz@uct.ac.za\n",
      "\n",
      "From: stephen.marquard@uct.ac.za\n",
      "\n",
      "From: louis@media.berkeley.edu\n",
      "\n",
      "From: louis@media.berkeley.edu\n",
      "\n",
      "From: ray@media.berkeley.edu\n",
      "\n",
      "From: cwen@iupui.edu\n",
      "\n",
      "From: cwen@iupui.edu\n",
      "\n",
      "From: cwen@iupui.edu\n",
      "\n"
     ]
    }
   ],
   "source": [
    "# print all the From: lines in the file mbox-short.txt\n",
    "fhand = open('mbox-short.txt')\n",
    "for line in fhand:\n",
    "    if line.startswith('From:') :\n",
    "        print(line)\n",
    "fhand.close()"
   ]
  },
  {
   "cell_type": "markdown",
   "metadata": {},
   "source": [
    "* Why are we getting extra newlines?!"
   ]
  },
  {
   "cell_type": "code",
   "execution_count": null,
   "metadata": {
    "collapsed": false
   },
   "outputs": [],
   "source": [
    "# There are a couple ways to deal with this\n",
    "fhand = open('mbox-short.txt')\n",
    "for line in fhand:\n",
    "    if line.startswith('From:') :\n",
    "        print(line, end='') # modify the print function's behavior\n",
    "        #print(line.rstrip()) # modify the string to remove newlines \n",
    "fhand.close()"
   ]
  },
  {
   "cell_type": "markdown",
   "metadata": {},
   "source": [
    "#### Exercise\n",
    "\n",
    "Create a program that will search the file `mbox-short.txt` for a word you specify and print lines containing that word. "
   ]
  },
  {
   "cell_type": "code",
   "execution_count": 129,
   "metadata": {
    "collapsed": false
   },
   "outputs": [
    {
     "ename": "TypeError",
     "evalue": "'in <string>' requires string as left operand, not list",
     "output_type": "error",
     "traceback": [
      "\u001b[0;31m---------------------------------------------------------------------------\u001b[0m",
      "\u001b[0;31mTypeError\u001b[0m                                 Traceback (most recent call last)",
      "\u001b[0;32m<ipython-input-129-cad16bcddab4>\u001b[0m in \u001b[0;36m<module>\u001b[0;34m()\u001b[0m\n\u001b[1;32m      9\u001b[0m \u001b[0;34m\u001b[0m\u001b[0m\n\u001b[1;32m     10\u001b[0m \u001b[0;31m#fhand.close()\u001b[0m\u001b[0;34m\u001b[0m\u001b[0;34m\u001b[0m\u001b[0m\n\u001b[0;32m---> 11\u001b[0;31m \u001b[0msearch\u001b[0m\u001b[0;34m(\u001b[0m\u001b[0;34m)\u001b[0m\u001b[0;34m\u001b[0m\u001b[0m\n\u001b[0m",
      "\u001b[0;32m<ipython-input-129-cad16bcddab4>\u001b[0m in \u001b[0;36msearch\u001b[0;34m(stuff)\u001b[0m\n\u001b[1;32m      4\u001b[0m     \u001b[0;32mwith\u001b[0m \u001b[0mopen\u001b[0m\u001b[0;34m(\u001b[0m\u001b[0;34m'mbox-short.txt'\u001b[0m\u001b[0;34m)\u001b[0m \u001b[0;32mas\u001b[0m \u001b[0mfhand\u001b[0m\u001b[0;34m:\u001b[0m\u001b[0;34m\u001b[0m\u001b[0m\n\u001b[1;32m      5\u001b[0m         \u001b[0;32mfor\u001b[0m \u001b[0mline\u001b[0m \u001b[0;32min\u001b[0m \u001b[0mfhand\u001b[0m\u001b[0;34m:\u001b[0m\u001b[0;34m\u001b[0m\u001b[0m\n\u001b[0;32m----> 6\u001b[0;31m             \u001b[0;32mif\u001b[0m \u001b[0mstuff\u001b[0m \u001b[0;32min\u001b[0m \u001b[0mline\u001b[0m\u001b[0;34m:\u001b[0m\u001b[0;34m\u001b[0m\u001b[0m\n\u001b[0m\u001b[1;32m      7\u001b[0m                 \u001b[0mprint\u001b[0m\u001b[0;34m(\u001b[0m\u001b[0mline\u001b[0m\u001b[0;34m,\u001b[0m \u001b[0mend\u001b[0m\u001b[0;34m=\u001b[0m\u001b[0;34m''\u001b[0m\u001b[0;34m)\u001b[0m \u001b[0;31m# modify the print function's behavior\u001b[0m\u001b[0;34m\u001b[0m\u001b[0m\n\u001b[1;32m      8\u001b[0m                 \u001b[0;31m#print(line.rstrip()) # modify the string to remove newlines\u001b[0m\u001b[0;34m\u001b[0m\u001b[0;34m\u001b[0m\u001b[0m\n",
      "\u001b[0;31mTypeError\u001b[0m: 'in <string>' requires string as left operand, not list"
     ]
    }
   ],
   "source": [
    "#fhand = open('mbox-short.txt')\n",
    "\n",
    "def search(stuff = ['From', 'To']):\n",
    "    with open('mbox-short.txt') as fhand:\n",
    "        for line in fhand:\n",
    "            if stuff in line:\n",
    "                print(line, end='') # modify the print function's behavior\n",
    "                #print(line.rstrip()) # modify the string to remove newlines \n",
    "\n",
    "#fhand.close()\n",
    "search()"
   ]
  },
  {
   "cell_type": "markdown",
   "metadata": {
    "collapsed": true
   },
   "source": [
    "### Lists\n",
    "\n",
    "* Lists are a very important data type in python\n",
    "* You will be using lists *a lot*\n",
    "* Recognize a list by the square brackets (`[` and `]`) - *but don't confuse with slicing*\n"
   ]
  },
  {
   "cell_type": "code",
   "execution_count": null,
   "metadata": {
    "collapsed": true
   },
   "outputs": [],
   "source": []
  },
  {
   "cell_type": "code",
   "execution_count": null,
   "metadata": {
    "collapsed": false
   },
   "outputs": [],
   "source": [
    "[1, 3, \"derp\", [\"a\", \"nested\", \"list\", \"of\", \"strings\"]]"
   ]
  },
  {
   "cell_type": "markdown",
   "metadata": {},
   "source": [
    "### Lists are mutable\n",
    "\n",
    "* Thats right, you can change them"
   ]
  },
  {
   "cell_type": "code",
   "execution_count": null,
   "metadata": {
    "collapsed": false
   },
   "outputs": [],
   "source": [
    "numbers = [17, 123]\n",
    "print(numbers)\n",
    "numbers[1] = 5\n",
    "print(numbers)"
   ]
  },
  {
   "cell_type": "markdown",
   "metadata": {},
   "source": [
    "### Searching and traversing a list\n",
    "\n",
    "* You can also use the `in` keyword to look for things"
   ]
  },
  {
   "cell_type": "code",
   "execution_count": 120,
   "metadata": {
    "collapsed": false
   },
   "outputs": [
    {
     "data": {
      "text/plain": [
       "True"
      ]
     },
     "execution_count": 120,
     "metadata": {},
     "output_type": "execute_result"
    }
   ],
   "source": [
    "cheeses = ['Cheddar', 'Edam', 'Gouda', 'Brie', \"Pepper Jack\"]\n",
    "\"Edam\" in cheeses"
   ]
  },
  {
   "cell_type": "code",
   "execution_count": null,
   "metadata": {
    "collapsed": false
   },
   "outputs": [],
   "source": [
    "\"chedder\" in cheeses"
   ]
  },
  {
   "cell_type": "markdown",
   "metadata": {},
   "source": [
    "* Use a `for` loop to iterate over list items\n",
    "* You will do this *a lot*\n"
   ]
  },
  {
   "cell_type": "code",
   "execution_count": 125,
   "metadata": {
    "collapsed": false
   },
   "outputs": [
    {
     "name": "stdout",
     "output_type": "stream",
     "text": [
      "Cheddar\n",
      "Edam\n",
      "Gouda\n",
      "Brie\n",
      "Pepper Jack\n"
     ]
    }
   ],
   "source": [
    "# loop over items in a list\n",
    "for cheese in cheeses:\n",
    "    print(cheese.strip('\\n'))"
   ]
  },
  {
   "cell_type": "code",
   "execution_count": null,
   "metadata": {
    "collapsed": false
   },
   "outputs": [],
   "source": [
    "# loop over items with index values\n",
    "for i in range(len(cheeses)):\n",
    "    print(\"Iteration number: \", i)\n",
    "    print(cheeses[i])"
   ]
  },
  {
   "cell_type": "code",
   "execution_count": null,
   "metadata": {
    "collapsed": false
   },
   "outputs": [],
   "source": [
    "# Here is a more pythonic way to do this\n",
    "for i, cheese in enumerate(cheeses):\n",
    "    print(\"Iteration number: \", i)\n",
    "    print(cheeses[i])\n",
    "    print(cheese)"
   ]
  },
  {
   "cell_type": "markdown",
   "metadata": {},
   "source": [
    "* How does that work?!\n",
    "* It uses something called \"unpacking\"\n",
    "* the enumerate function returns two values each loop, the index and the value\n",
    "\n",
    "### List operations"
   ]
  },
  {
   "cell_type": "code",
   "execution_count": null,
   "metadata": {
    "collapsed": false
   },
   "outputs": [],
   "source": [
    "a = [1, 2, 3]\n",
    "b = [4, 5, 6]\n",
    "c = a + b\n",
    "print(c)"
   ]
  },
  {
   "cell_type": "code",
   "execution_count": null,
   "metadata": {
    "collapsed": false
   },
   "outputs": [],
   "source": [
    "print([0] * 4)\n",
    "print([1, 2, 3] * 3)"
   ]
  },
  {
   "cell_type": "markdown",
   "metadata": {},
   "source": [
    "* Notice, this doesn't change the individual values\n",
    "* We'll cover doing math on lists later when we talk about Pandas\n",
    "\n",
    "### List slices\n",
    "\n",
    "* Slices allow you to get subsets of lists, just like we did with strings above\n",
    "* Don't get cross-eyed from all the square brackets"
   ]
  },
  {
   "cell_type": "code",
   "execution_count": null,
   "metadata": {
    "collapsed": true
   },
   "outputs": [],
   "source": [
    "t = ['a', 'b', 'c', 'd', 'e', 'f']"
   ]
  },
  {
   "cell_type": "code",
   "execution_count": null,
   "metadata": {
    "collapsed": false
   },
   "outputs": [],
   "source": [
    "# slice out the second and third elements\n",
    "t[1:3]"
   ]
  },
  {
   "cell_type": "code",
   "execution_count": null,
   "metadata": {
    "collapsed": false
   },
   "outputs": [],
   "source": [
    "# slice out the first four elements\n",
    "t[:4]"
   ]
  },
  {
   "cell_type": "code",
   "execution_count": null,
   "metadata": {
    "collapsed": false
   },
   "outputs": [],
   "source": [
    "# Same as above\n",
    "t[0:4]"
   ]
  },
  {
   "cell_type": "code",
   "execution_count": null,
   "metadata": {
    "collapsed": false
   },
   "outputs": [],
   "source": [
    "# slice out all the elemnts past the fourth element\n",
    "t[3:]"
   ]
  },
  {
   "cell_type": "markdown",
   "metadata": {},
   "source": [
    "### List Methods\n",
    "\n",
    "* Like strings, list objects have methods for manipulating their contents\n",
    "* Check out the [documentation](https://docs.python.org/3.5/tutorial/datastructures.html) for more information\n",
    "* `append`, `extend` are useful for building lists"
   ]
  },
  {
   "cell_type": "code",
   "execution_count": null,
   "metadata": {
    "collapsed": false
   },
   "outputs": [],
   "source": [
    "# use append to add items to a list\n",
    "t = ['a', 'b', 'c']\n",
    "t.append('d')\n",
    "print(t)"
   ]
  },
  {
   "cell_type": "code",
   "execution_count": null,
   "metadata": {
    "collapsed": false
   },
   "outputs": [],
   "source": [
    "# but only for single items\n",
    "t = ['a', 'b', 'c']\n",
    "t1 = ['e', 'f', 'h']\n",
    "t.append(t1)\n",
    "print(t)"
   ]
  },
  {
   "cell_type": "code",
   "execution_count": null,
   "metadata": {
    "collapsed": false
   },
   "outputs": [],
   "source": [
    "# use extend for appending lists to lists\n",
    "t = ['a', 'b', 'c']\n",
    "t1 = ['e', 'f', 'h']\n",
    "t.extend(t1)\n",
    "print(t)"
   ]
  },
  {
   "cell_type": "markdown",
   "metadata": {},
   "source": [
    "### Lists and Strings\n",
    "\n",
    "* When you are doing data processing you will often break strings into lists\n",
    "* The `split()` string method breaks up a string based"
   ]
  },
  {
   "cell_type": "code",
   "execution_count": null,
   "metadata": {
    "collapsed": false
   },
   "outputs": [],
   "source": [
    "# split a string into a list\n",
    "s = 'pining for the fjords'\n",
    "t = s.split() # default is split on spaces\n",
    "print(t)"
   ]
  },
  {
   "cell_type": "code",
   "execution_count": null,
   "metadata": {
    "collapsed": false
   },
   "outputs": [],
   "source": [
    "# split a comma separated string into a lsit\n",
    "s = \"a,comma,separated,list,of,words\"\n",
    "t = s.split(',')\n",
    "print(t)"
   ]
  },
  {
   "cell_type": "code",
   "execution_count": null,
   "metadata": {
    "collapsed": false
   },
   "outputs": [],
   "source": [
    "# use join to transform a list of items into a single string\n",
    "\n",
    "s1 = \",\".join(t)\n",
    "print(s1)"
   ]
  },
  {
   "cell_type": "markdown",
   "metadata": {},
   "source": [
    "* What is up with that funky syntax?\n",
    "* That is because `join()` is a string method, not a list method\n",
    "* The `join()` takes a list of string and concatinates them using the instance as the separator. \n",
    "* Computers."
   ]
  },
  {
   "cell_type": "markdown",
   "metadata": {},
   "source": [
    "#### Exercise\n",
    "\n",
    "Write a function that reads the `mbox-short.txt` file and prints the email address of the person the message is from."
   ]
  },
  {
   "cell_type": "code",
   "execution_count": 145,
   "metadata": {
    "collapsed": false
   },
   "outputs": [
    {
     "name": "stdout",
     "output_type": "stream",
     "text": [
      "stephen.marquard@uct.ac.za\n",
      "louis@media.berkeley.edu\n",
      "zqian@umich.edu\n",
      "rjlowe@iupui.edu\n",
      "zqian@umich.edu\n",
      "rjlowe@iupui.edu\n",
      "cwen@iupui.edu\n",
      "cwen@iupui.edu\n",
      "gsilver@umich.edu\n",
      "gsilver@umich.edu\n",
      "zqian@umich.edu\n",
      "gsilver@umich.edu\n",
      "wagnermr@iupui.edu\n",
      "zqian@umich.edu\n",
      "antranig@caret.cam.ac.uk\n",
      "gopal.ramasammycook@gmail.com\n",
      "david.horwitz@uct.ac.za\n",
      "david.horwitz@uct.ac.za\n",
      "david.horwitz@uct.ac.za\n",
      "david.horwitz@uct.ac.za\n",
      "stephen.marquard@uct.ac.za\n",
      "louis@media.berkeley.edu\n",
      "louis@media.berkeley.edu\n",
      "ray@media.berkeley.edu\n",
      "cwen@iupui.edu\n",
      "cwen@iupui.edu\n",
      "cwen@iupui.edu\n"
     ]
    }
   ],
   "source": [
    "def search(term = 'From:'):\n",
    "    with open('mbox-short.txt') as fhand:\n",
    "        for line in fhand:\n",
    "            if term in line:\n",
    "                stuff = line.split(' ')\n",
    "                print(stuff[1].strip('\\n'))\n",
    "\n",
    "search()"
   ]
  },
  {
   "cell_type": "markdown",
   "metadata": {},
   "source": [
    "### Dictionaries\n",
    "\n",
    "* Dictionaries are the other python data type that is *super* useful for dealing with data\n",
    "* Where lists are useful for dealing with ordered data, dictionaries are useful dealing with unordered, but named data.\n",
    "* Dicitonaries contain a set of *key-value* pairs\n",
    "* You will know you are dealing with a dictionary because of the curly braces (`{` and `}`)"
   ]
  },
  {
   "cell_type": "code",
   "execution_count": null,
   "metadata": {
    "collapsed": false
   },
   "outputs": [],
   "source": [
    "eng2sp = dict() # create empty dictionary\n",
    "print(eng2sp)"
   ]
  },
  {
   "cell_type": "code",
   "execution_count": null,
   "metadata": {
    "collapsed": false
   },
   "outputs": [],
   "source": [
    "# add a key-value pair to the dictionary\n",
    "eng2sp['one'] = 'uno'\n",
    "print(eng2sp)"
   ]
  },
  {
   "cell_type": "code",
   "execution_count": null,
   "metadata": {
    "collapsed": false
   },
   "outputs": [],
   "source": [
    "# create a multi key-value dictionary \n",
    "eng2sp = {'one': 'uno', 'two': 'dos', 'three': 'tres'}\n",
    "print(eng2sp)"
   ]
  },
  {
   "cell_type": "code",
   "execution_count": null,
   "metadata": {
    "collapsed": false
   },
   "outputs": [],
   "source": [
    "print(eng2sp['one'])\n",
    "print(eng2sp['three'])"
   ]
  },
  {
   "cell_type": "markdown",
   "metadata": {},
   "source": [
    "### Dictionary as a set of counters\n",
    "\n"
   ]
  },
  {
   "cell_type": "code",
   "execution_count": null,
   "metadata": {
    "collapsed": false
   },
   "outputs": [],
   "source": [
    "word = 'brontosaurus'\n",
    "d = dict()\n",
    "for c in word: \n",
    "    if c not in d: \n",
    "        d[c] = 1 \n",
    "    else: \n",
    "        d[c] = d[c] + 1 \n",
    "print(d)"
   ]
  },
  {
   "cell_type": "markdown",
   "metadata": {},
   "source": [
    "#### Exercise\n",
    "\n",
    "Write a program that counts the number of emails people wrote in `mbox-short.txt`.\n",
    "Do the same with days of the week."
   ]
  },
  {
   "cell_type": "code",
   "execution_count": null,
   "metadata": {
    "collapsed": true
   },
   "outputs": [],
   "source": []
  }
 ],
 "metadata": {
  "anaconda-cloud": {},
  "kernelspec": {
   "display_name": "Python 3",
   "language": "python",
   "name": "python3"
  },
  "language_info": {
   "codemirror_mode": {
    "name": "ipython",
    "version": 3
   },
   "file_extension": ".py",
   "mimetype": "text/x-python",
   "name": "python",
   "nbconvert_exporter": "python",
   "pygments_lexer": "ipython3",
   "version": "3.5.2"
  }
 },
 "nbformat": 4,
 "nbformat_minor": 1
}
