{
 "cells": [
  {
   "cell_type": "markdown",
   "metadata": {},
   "source": [
    "# Lecture Three - June 6th, 2017\n",
    "\n",
    "* Python Dictionaries homework assignment\n",
    "* Data Cleaner, Data Carpenter, Data Janitor?\n",
    "* Dive into Pandas"
   ]
  },
  {
   "cell_type": "markdown",
   "metadata": {},
   "source": [
    "## Python Dictionaries Homework\n",
    "\n",
    "Write a program that counts the number of emails people wrote in `mbox-short.txt`.\n",
    "**Extra Credit:** Do the same with days of the week.\n",
    "\n",
    "Think about breaking this problem into a set of steps. \n",
    "* First, loop through the `mbox-short.txt` file line by line looking for lines with email addresses and days the week.\n",
    "* Second, split the string into parts and slice out the email addresses and days of the week.\n",
    "* Third, adapt the \"Dictionary as a set of counters\" code from the book, but instead of counting words you are counting email addresses (and then days of the week). \n",
    "\n",
    "*Hint*: The lines you want to parse from the mbox file look like:\n",
    "```\n",
    "From stephen.marquard@uct.ac.za Sat Jan  5 09:14:16 2008\n",
    "```\n",
    "\n"
   ]
  },
  {
   "cell_type": "code",
   "execution_count": null,
   "metadata": {
    "collapsed": true
   },
   "outputs": [],
   "source": [
    "# \"Search\" function takes 2 arguments:\n",
    "# \"n\" is an integer corresponding to an element's position in a line (space separated) \n",
    "# \"term\" is a unique string that identifies lines to grab within mbox-short.txt\n",
    "def search(n, term = 'From '):\n",
    "    d=dict()\n",
    "    with open('mbox-short.txt') as fhand:\n",
    "        for line in fhand:\n",
    "            if term in line:\n",
    "                e = line.split(' ')\n",
    "                #print(e)\n",
    "                if e[n] not in d: \n",
    "                    d[e[n]] = 1 \n",
    "                else: \n",
    "                    d[e[n]] += 1 \n",
    "    return d # Return dictionary with counts \n",
    "\n",
    "# Run Search(i) for i=1 (email) and i=2 (day of week) and print results\n",
    "for i in [1,2]:\n",
    "    print(search(i),'\\n')"
   ]
  },
  {
   "cell_type": "markdown",
   "metadata": {},
   "source": [
    "## Data Cleaner, Data Carpenter, Data Janitor?\n",
    "\n",
    "* Let's discuss the readings\n",
    "* What is the kind of work these articles were talkig about? Can you give some examples?\n",
    "* What do you think about this role, do you think this is work a librarian could/should do?\n"
   ]
  },
  {
   "cell_type": "markdown",
   "metadata": {},
   "source": [
    "## Dive into Pandas\n",
    "\n",
    "\n",
    "* Pandas is a third party library for doing data analysis\n",
    "* It is a foundational component of Python data science\n",
    "* Developed by someone in the finance industry, but is now used by everyone\n",
    "* Vanilla Python can do many of the same things, but Pandas is *faster*\n",
    "* The core of Pandas are the data structures"
   ]
  },
  {
   "cell_type": "markdown",
   "metadata": {},
   "source": [
    "### Pandas Data Structures\n",
    "\n",
    "* To understand Pandas, which is hard, you need to start with three data structures\n",
    "    * Series - For one dimensional data\n",
    "    * Dataframe - For two dimensional data\n",
    "    * Index - For naming, selecting, and transforming data within a Pandas Series or Dataframe "
   ]
  },
  {
   "cell_type": "markdown",
   "metadata": {},
   "source": [
    "### Series\n",
    "\n",
    "* A one-dimensional array of indexed data (like a list)\n",
    "* Kind of like a blend of a Python list and dictionary\n",
    "* You can create them from a Python list\n",
    "\n",
    "### Dataframe\n",
    "\n",
    "* A two-dimensional matrix of indexed data (like a spreadsheet)\n",
    "\n",
    "### Index\n",
    "\n",
    "* Used for series and both x- and y-axes of dataframes\n"
   ]
  },
  {
   "cell_type": "code",
   "execution_count": 1,
   "metadata": {
    "collapsed": true
   },
   "outputs": [],
   "source": [
    "import pandas as pd"
   ]
  },
  {
   "cell_type": "code",
   "execution_count": 2,
   "metadata": {},
   "outputs": [
    {
     "data": {
      "text/plain": [
       "0    0.25\n",
       "1    0.50\n",
       "2    0.75\n",
       "3    1.00\n",
       "dtype: float64"
      ]
     },
     "execution_count": 2,
     "metadata": {},
     "output_type": "execute_result"
    }
   ],
   "source": [
    "my_list = [0.25, 0.5, 0.75, 1.0]\n",
    "data = pd.Series(my_list)\n",
    "data"
   ]
  },
  {
   "cell_type": "markdown",
   "metadata": {},
   "source": [
    "* You can index a Series just like a list\n",
    "* Use index notation to grab the 2nd element of `data`"
   ]
  },
  {
   "cell_type": "code",
   "execution_count": 5,
   "metadata": {},
   "outputs": [
    {
     "name": "stdout",
     "output_type": "stream",
     "text": [
      "0.5\n",
      "0.5\n"
     ]
    }
   ],
   "source": [
    "# hit: the 2nd element is 0.50\n",
    "# your code here\n",
    "print(my_list[1])\n",
    "print(data[1])\n"
   ]
  },
  {
   "cell_type": "markdown",
   "metadata": {},
   "source": [
    "* You can also slice Series as well\n",
    "* Use slices to grab the 2nd and 3rd elements of this series"
   ]
  },
  {
   "cell_type": "code",
   "execution_count": 13,
   "metadata": {},
   "outputs": [
    {
     "name": "stdout",
     "output_type": "stream",
     "text": [
      "[0.5, 0.75]\n",
      "1    0.50\n",
      "2    0.75\n",
      "dtype: float64\n"
     ]
    }
   ],
   "source": [
    "# hint: the 2nd & 3rd elements are 0.50 and 0.75\n",
    "# your code here\n",
    "print(my_list[1:3])\n",
    "print(data[1:3])\n"
   ]
  },
  {
   "cell_type": "markdown",
   "metadata": {},
   "source": [
    "* Series also act like Python dictionaries, ordered python dictionaries"
   ]
  },
  {
   "cell_type": "code",
   "execution_count": 14,
   "metadata": {},
   "outputs": [
    {
     "data": {
      "text/plain": [
       "California    38332521\n",
       "Florida       19552860\n",
       "Illinois      12882135\n",
       "New York      19651127\n",
       "Texas         26448193\n",
       "dtype: int64"
      ]
     },
     "execution_count": 14,
     "metadata": {},
     "output_type": "execute_result"
    }
   ],
   "source": [
    "population_dict = {'California': 38332521,\n",
    "                   'Texas': 26448193,\n",
    "                   'New York': 19651127,\n",
    "                   'Florida': 19552860,\n",
    "                   'Illinois': 12882135}\n",
    "population = pd.Series(population_dict)\n",
    "population"
   ]
  },
  {
   "cell_type": "markdown",
   "metadata": {},
   "source": [
    "* You can use indexing and slicing like above, but now with keys instead of numbers!\n"
   ]
  },
  {
   "cell_type": "code",
   "execution_count": null,
   "metadata": {
    "collapsed": true
   },
   "outputs": [],
   "source": [
    "population['California']"
   ]
  },
  {
   "cell_type": "markdown",
   "metadata": {},
   "source": [
    "* Like a Python dictionary, a Series is a list of key/value pairs\n",
    "* But these are *ordered*, which means you can do slicing\n",
    "* Try slicing this series, but with keys instead of numbers!\n",
    "\n",
    "__Note: Use _\\.loc()_ and _\\.iloc()_ because they are explicitly documented and behavior is well-understood. But, it still works without these options.__"
   ]
  },
  {
   "cell_type": "code",
   "execution_count": 18,
   "metadata": {},
   "outputs": [
    {
     "name": "stdout",
     "output_type": "stream",
     "text": [
      "California    38332521\n",
      "Florida       19552860\n",
      "dtype: int64\n",
      "California    38332521\n",
      "dtype: int64\n"
     ]
    }
   ],
   "source": [
    "# Hint: Use the same : notation, but use the state names listed above\n",
    "# Your code here:\n",
    "print(population.loc['California':'Florida'])\n",
    "print(population.iloc[0:1])\n"
   ]
  },
  {
   "cell_type": "markdown",
   "metadata": {},
   "source": [
    "* There are a couple ways of creating `Series` objects"
   ]
  },
  {
   "cell_type": "code",
   "execution_count": 19,
   "metadata": {},
   "outputs": [
    {
     "data": {
      "text/plain": [
       "0    2\n",
       "1    4\n",
       "2    6\n",
       "dtype: int64"
      ]
     },
     "execution_count": 19,
     "metadata": {},
     "output_type": "execute_result"
    }
   ],
   "source": [
    "# From a list with an implicit index\n",
    "pd.Series([2, 4, 6])"
   ]
  },
  {
   "cell_type": "code",
   "execution_count": 20,
   "metadata": {},
   "outputs": [
    {
     "data": {
      "text/plain": [
       "a    2\n",
       "b    4\n",
       "c    6\n",
       "dtype: int64"
      ]
     },
     "execution_count": 20,
     "metadata": {},
     "output_type": "execute_result"
    }
   ],
   "source": [
    "# From a list with an *explicit* index\n",
    "pd.Series([2, 4, 6], index=['a','b','c'])"
   ]
  },
  {
   "cell_type": "code",
   "execution_count": 21,
   "metadata": {},
   "outputs": [
    {
     "data": {
      "text/plain": [
       "1    b\n",
       "2    a\n",
       "3    c\n",
       "dtype: object"
      ]
     },
     "execution_count": 21,
     "metadata": {},
     "output_type": "execute_result"
    }
   ],
   "source": [
    "# From a dictionary so keys are the index and get sorded by keys\n",
    "pd.Series({2:'a', 1:'b', 3:'c'})"
   ]
  },
  {
   "cell_type": "markdown",
   "metadata": {},
   "source": [
    "### DataFrame\n",
    "\n",
    "* `DataFrames` are the real workhorse of Pandas and Python Data Science\n",
    "* We will be spending a lot of time with data inside of Dataframes, so buckle up!\n",
    "* `DataFrames` contain two-dimensional data, just like an Excel spreadsheet\n",
    "* In practice, a `DataFrame` is a bunch of `Series` lined up next to each other\n",
    " * They must have the same keys"
   ]
  },
  {
   "cell_type": "code",
   "execution_count": 22,
   "metadata": {},
   "outputs": [
    {
     "data": {
      "text/plain": [
       "California    38332521\n",
       "Florida       19552860\n",
       "Illinois      12882135\n",
       "New York      19651127\n",
       "Texas         26448193\n",
       "dtype: int64"
      ]
     },
     "execution_count": 22,
     "metadata": {},
     "output_type": "execute_result"
    }
   ],
   "source": [
    "# Start with our population Series\n",
    "population"
   ]
  },
  {
   "cell_type": "code",
   "execution_count": 23,
   "metadata": {},
   "outputs": [
    {
     "data": {
      "text/plain": [
       "California    423967\n",
       "Florida       170312\n",
       "Illinois      149995\n",
       "New York      141297\n",
       "Texas         695662\n",
       "dtype: int64"
      ]
     },
     "execution_count": 23,
     "metadata": {},
     "output_type": "execute_result"
    }
   ],
   "source": [
    "# Then create an area Series\n",
    "area_dict = {'Illinois': 149995, 'California': 423967, \n",
    "             'Texas': 695662, 'Florida': 170312, \n",
    "             'New York': 141297}\n",
    "area = pd.Series(area_dict)\n",
    "area"
   ]
  },
  {
   "cell_type": "code",
   "execution_count": 34,
   "metadata": {},
   "outputs": [
    {
     "name": "stdout",
     "output_type": "stream",
     "text": [
      "              area  population\n",
      "California  423967    38332521\n",
      "Florida     170312    19552860\n",
      "Illinois    149995    12882135\n",
      "New York    141297    19651127\n",
      "Texas       695662    26448193\n",
      "              area  population   test\n",
      "California  423967    38332521    NaN\n",
      "Florida     170312    19552860    NaN\n",
      "Illinois    149995    12882135    NaN\n",
      "New York    141297    19651127    NaN\n",
      "Texas       695662    26448193    NaN\n",
      "california     NaN         NaN  90210\n"
     ]
    },
    {
     "data": {
      "text/html": [
       "<div>\n",
       "<table border=\"1\" class=\"dataframe\">\n",
       "  <thead>\n",
       "    <tr style=\"text-align: right;\">\n",
       "      <th></th>\n",
       "      <th>area</th>\n",
       "      <th>population</th>\n",
       "      <th>test</th>\n",
       "    </tr>\n",
       "  </thead>\n",
       "  <tbody>\n",
       "    <tr>\n",
       "      <th>California</th>\n",
       "      <td>423967</td>\n",
       "      <td>38332521</td>\n",
       "      <td>NaN</td>\n",
       "    </tr>\n",
       "    <tr>\n",
       "      <th>Florida</th>\n",
       "      <td>170312</td>\n",
       "      <td>19552860</td>\n",
       "      <td>NaN</td>\n",
       "    </tr>\n",
       "    <tr>\n",
       "      <th>Illinois</th>\n",
       "      <td>149995</td>\n",
       "      <td>12882135</td>\n",
       "      <td>NaN</td>\n",
       "    </tr>\n",
       "    <tr>\n",
       "      <th>New York</th>\n",
       "      <td>141297</td>\n",
       "      <td>19651127</td>\n",
       "      <td>NaN</td>\n",
       "    </tr>\n",
       "    <tr>\n",
       "      <th>Texas</th>\n",
       "      <td>695662</td>\n",
       "      <td>26448193</td>\n",
       "      <td>NaN</td>\n",
       "    </tr>\n",
       "    <tr>\n",
       "      <th>california</th>\n",
       "      <td>NaN</td>\n",
       "      <td>NaN</td>\n",
       "      <td>90210</td>\n",
       "    </tr>\n",
       "  </tbody>\n",
       "</table>\n",
       "</div>"
      ],
      "text/plain": [
       "              area  population   test\n",
       "California  423967    38332521    NaN\n",
       "Florida     170312    19552860    NaN\n",
       "Illinois    149995    12882135    NaN\n",
       "New York    141297    19651127    NaN\n",
       "Texas       695662    26448193    NaN\n",
       "california     NaN         NaN  90210"
      ]
     },
     "execution_count": 34,
     "metadata": {},
     "output_type": "execute_result"
    }
   ],
   "source": [
    "# Now mash them together into a DataFrame\n",
    "states = pd.DataFrame({'population': population,\n",
    "                       'area': area})\n",
    "print(states)\n",
    "\n",
    "states = pd.DataFrame({'population': population,\n",
    "                       'area': area,\n",
    "                       'test':{'California': None,\n",
    "                               'california': 90210}})\n",
    "\n",
    "print(states)\n",
    "states"
   ]
  },
  {
   "cell_type": "markdown",
   "metadata": {},
   "source": [
    "* Pandas automatically lines everything up because they have shared index values"
   ]
  },
  {
   "cell_type": "code",
   "execution_count": 35,
   "metadata": {},
   "outputs": [
    {
     "name": "stdout",
     "output_type": "stream",
     "text": [
      "Index(['California', 'Florida', 'Illinois', 'New York', 'Texas'], dtype='object')\n",
      "Index(['California', 'Florida', 'Illinois', 'New York', 'Texas'], dtype='object')\n",
      "Index(['California', 'Florida', 'Illinois', 'New York', 'Texas', 'california'], dtype='object')\n"
     ]
    }
   ],
   "source": [
    "print(area.index)\n",
    "print(population.index)\n",
    "print(states.index)"
   ]
  },
  {
   "cell_type": "markdown",
   "metadata": {},
   "source": [
    "* A `DataFrame` actually has two indexes\n",
    "* One for the rows (as seen above)\n",
    "* An another for the columes"
   ]
  },
  {
   "cell_type": "code",
   "execution_count": 36,
   "metadata": {},
   "outputs": [
    {
     "data": {
      "text/plain": [
       "Index(['area', 'population', 'test'], dtype='object')"
      ]
     },
     "execution_count": 36,
     "metadata": {},
     "output_type": "execute_result"
    }
   ],
   "source": [
    "states.columns"
   ]
  },
  {
   "cell_type": "markdown",
   "metadata": {},
   "source": [
    "## Indexes\n",
    "\n",
    "* Pandas `Series` and `DataFrames` are containers for data\n",
    "* Index (and Indexing) are the mechanism to make that data retrievable\n",
    "* In a `Series` the index is the key to each value in the list\n",
    "* In a `DataFrame` the index is the column headers, but also row headers\n",
    "* Indexing allows you to merge or join disparate datasets together"
   ]
  },
  {
   "cell_type": "markdown",
   "metadata": {},
   "source": [
    "## Coding Exercise \n",
    "\n",
    "Let's write script that parses information out of the `mbox-short.txt` file and puts it into a Pandas Dataframe.\n",
    "\n",
    "* Start with the python dictionaries homework assignment.\n",
    "* Parse every piece of information into a dictionary\n",
    "* Aggregate all of those dictionaries into a list\n",
    "* Create a Pandas DataFrame from that list of dictionaries\n",
    "\n",
    "\n",
    "Transform this:\n",
    "```\n",
    "From stephen.marquard@uct.ac.za Sat Jan  5 09:14:16 2008\n",
    "```\n",
    "into this:\n",
    "```\n",
    "{'year': '2008', 'month': 'Jan', 'dayofweek': 'Sat', 'address': 'stephen.marquard@uct.ac.za', 'day': '5', 'time': '09:14:16'}\n",
    "```\n",
    "into this:\n",
    "```\n",
    "address      stephen.marquard@uct.ac.za\n",
    "day                                   5\n",
    "dayofweek                           Sat\n",
    "month                               Jan\n",
    "time                           09:14:16\n",
    "year                               2008\n",
    "Name: 0, dtype: object\n",
    "```\n"
   ]
  },
  {
   "cell_type": "markdown",
   "metadata": {},
   "source": [
    "* Download the data manually with [this link](http://www.py4e.com/code3/mbox-short.txt) or run the cell below if you are on JupyterHUb"
   ]
  },
  {
   "cell_type": "code",
   "execution_count": 68,
   "metadata": {},
   "outputs": [
    {
     "name": "stdout",
     "output_type": "stream",
     "text": [
      "--2017-06-06 14:37:16--  http://www.py4e.com/code3/mbox.txt\n",
      "Resolving www.py4e.com (www.py4e.com)... 104.27.159.166, 104.27.158.166, 2400:cb00:2048:1::681b:9fa6, ...\n",
      "Connecting to www.py4e.com (www.py4e.com)|104.27.159.166|:80... connected.\n",
      "HTTP request sent, awaiting response... 301 Moved Permanently\n",
      "Location: https://www.py4e.com/code3/mbox.txt [following]\n",
      "--2017-06-06 14:37:16--  https://www.py4e.com/code3/mbox.txt\n",
      "Connecting to www.py4e.com (www.py4e.com)|104.27.159.166|:443... connected.\n",
      "HTTP request sent, awaiting response... 200 OK\n",
      "Length: unspecified [text/plain]\n",
      "Saving to: ‘mbox.txt’\n",
      "\n",
      "mbox.txt                [               <=>  ]   6.38M  2.21MB/s    in 2.9s    \n",
      "\n",
      "2017-06-06 14:37:19 (2.21 MB/s) - ‘mbox.txt’ saved [6687002]\n",
      "\n"
     ]
    }
   ],
   "source": [
    "!wget http://www.py4e.com/code3/mbox.txt"
   ]
  },
  {
   "cell_type": "code",
   "execution_count": null,
   "metadata": {
    "collapsed": true,
    "scrolled": false
   },
   "outputs": [],
   "source": [
    "!head -n 10 mbox-short.txt"
   ]
  },
  {
   "cell_type": "code",
   "execution_count": 71,
   "metadata": {},
   "outputs": [
    {
     "data": {
      "text/html": [
       "<div>\n",
       "<table border=\"1\" class=\"dataframe\">\n",
       "  <thead>\n",
       "    <tr style=\"text-align: right;\">\n",
       "      <th></th>\n",
       "      <th>address</th>\n",
       "      <th>dayofweek</th>\n",
       "      <th>month</th>\n",
       "      <th>day</th>\n",
       "      <th>time</th>\n",
       "      <th>year</th>\n",
       "    </tr>\n",
       "  </thead>\n",
       "  <tbody>\n",
       "    <tr>\n",
       "      <th>0</th>\n",
       "      <td>stephen.marquard@uct.ac.za</td>\n",
       "      <td>Sat</td>\n",
       "      <td>Jan</td>\n",
       "      <td>5</td>\n",
       "      <td>09:14:16</td>\n",
       "      <td>2008</td>\n",
       "    </tr>\n",
       "    <tr>\n",
       "      <th>1</th>\n",
       "      <td>louis@media.berkeley.edu</td>\n",
       "      <td>Fri</td>\n",
       "      <td>Jan</td>\n",
       "      <td>4</td>\n",
       "      <td>18:10:48</td>\n",
       "      <td>2008</td>\n",
       "    </tr>\n",
       "    <tr>\n",
       "      <th>2</th>\n",
       "      <td>zqian@umich.edu</td>\n",
       "      <td>Fri</td>\n",
       "      <td>Jan</td>\n",
       "      <td>4</td>\n",
       "      <td>16:10:39</td>\n",
       "      <td>2008</td>\n",
       "    </tr>\n",
       "    <tr>\n",
       "      <th>3</th>\n",
       "      <td>rjlowe@iupui.edu</td>\n",
       "      <td>Fri</td>\n",
       "      <td>Jan</td>\n",
       "      <td>4</td>\n",
       "      <td>15:46:24</td>\n",
       "      <td>2008</td>\n",
       "    </tr>\n",
       "    <tr>\n",
       "      <th>4</th>\n",
       "      <td>zqian@umich.edu</td>\n",
       "      <td>Fri</td>\n",
       "      <td>Jan</td>\n",
       "      <td>4</td>\n",
       "      <td>15:03:18</td>\n",
       "      <td>2008</td>\n",
       "    </tr>\n",
       "    <tr>\n",
       "      <th>5</th>\n",
       "      <td>rjlowe@iupui.edu</td>\n",
       "      <td>Fri</td>\n",
       "      <td>Jan</td>\n",
       "      <td>4</td>\n",
       "      <td>14:50:18</td>\n",
       "      <td>2008</td>\n",
       "    </tr>\n",
       "    <tr>\n",
       "      <th>6</th>\n",
       "      <td>cwen@iupui.edu</td>\n",
       "      <td>Fri</td>\n",
       "      <td>Jan</td>\n",
       "      <td>4</td>\n",
       "      <td>11:37:30</td>\n",
       "      <td>2008</td>\n",
       "    </tr>\n",
       "    <tr>\n",
       "      <th>7</th>\n",
       "      <td>cwen@iupui.edu</td>\n",
       "      <td>Fri</td>\n",
       "      <td>Jan</td>\n",
       "      <td>4</td>\n",
       "      <td>11:35:08</td>\n",
       "      <td>2008</td>\n",
       "    </tr>\n",
       "    <tr>\n",
       "      <th>8</th>\n",
       "      <td>gsilver@umich.edu</td>\n",
       "      <td>Fri</td>\n",
       "      <td>Jan</td>\n",
       "      <td>4</td>\n",
       "      <td>11:12:37</td>\n",
       "      <td>2008</td>\n",
       "    </tr>\n",
       "    <tr>\n",
       "      <th>9</th>\n",
       "      <td>gsilver@umich.edu</td>\n",
       "      <td>Fri</td>\n",
       "      <td>Jan</td>\n",
       "      <td>4</td>\n",
       "      <td>11:11:52</td>\n",
       "      <td>2008</td>\n",
       "    </tr>\n",
       "    <tr>\n",
       "      <th>10</th>\n",
       "      <td>zqian@umich.edu</td>\n",
       "      <td>Fri</td>\n",
       "      <td>Jan</td>\n",
       "      <td>4</td>\n",
       "      <td>11:11:03</td>\n",
       "      <td>2008</td>\n",
       "    </tr>\n",
       "    <tr>\n",
       "      <th>11</th>\n",
       "      <td>gsilver@umich.edu</td>\n",
       "      <td>Fri</td>\n",
       "      <td>Jan</td>\n",
       "      <td>4</td>\n",
       "      <td>11:10:22</td>\n",
       "      <td>2008</td>\n",
       "    </tr>\n",
       "    <tr>\n",
       "      <th>12</th>\n",
       "      <td>wagnermr@iupui.edu</td>\n",
       "      <td>Fri</td>\n",
       "      <td>Jan</td>\n",
       "      <td>4</td>\n",
       "      <td>10:38:42</td>\n",
       "      <td>2008</td>\n",
       "    </tr>\n",
       "    <tr>\n",
       "      <th>13</th>\n",
       "      <td>zqian@umich.edu</td>\n",
       "      <td>Fri</td>\n",
       "      <td>Jan</td>\n",
       "      <td>4</td>\n",
       "      <td>10:17:43</td>\n",
       "      <td>2008</td>\n",
       "    </tr>\n",
       "    <tr>\n",
       "      <th>14</th>\n",
       "      <td>antranig@caret.cam.ac.uk</td>\n",
       "      <td>Fri</td>\n",
       "      <td>Jan</td>\n",
       "      <td>4</td>\n",
       "      <td>10:04:14</td>\n",
       "      <td>2008</td>\n",
       "    </tr>\n",
       "    <tr>\n",
       "      <th>15</th>\n",
       "      <td>gopal.ramasammycook@gmail.com</td>\n",
       "      <td>Fri</td>\n",
       "      <td>Jan</td>\n",
       "      <td>4</td>\n",
       "      <td>09:05:31</td>\n",
       "      <td>2008</td>\n",
       "    </tr>\n",
       "    <tr>\n",
       "      <th>16</th>\n",
       "      <td>david.horwitz@uct.ac.za</td>\n",
       "      <td>Fri</td>\n",
       "      <td>Jan</td>\n",
       "      <td>4</td>\n",
       "      <td>07:02:32</td>\n",
       "      <td>2008</td>\n",
       "    </tr>\n",
       "    <tr>\n",
       "      <th>17</th>\n",
       "      <td>david.horwitz@uct.ac.za</td>\n",
       "      <td>Fri</td>\n",
       "      <td>Jan</td>\n",
       "      <td>4</td>\n",
       "      <td>06:08:27</td>\n",
       "      <td>2008</td>\n",
       "    </tr>\n",
       "    <tr>\n",
       "      <th>18</th>\n",
       "      <td>david.horwitz@uct.ac.za</td>\n",
       "      <td>Fri</td>\n",
       "      <td>Jan</td>\n",
       "      <td>4</td>\n",
       "      <td>04:49:08</td>\n",
       "      <td>2008</td>\n",
       "    </tr>\n",
       "    <tr>\n",
       "      <th>19</th>\n",
       "      <td>david.horwitz@uct.ac.za</td>\n",
       "      <td>Fri</td>\n",
       "      <td>Jan</td>\n",
       "      <td>4</td>\n",
       "      <td>04:33:44</td>\n",
       "      <td>2008</td>\n",
       "    </tr>\n",
       "    <tr>\n",
       "      <th>20</th>\n",
       "      <td>stephen.marquard@uct.ac.za</td>\n",
       "      <td>Fri</td>\n",
       "      <td>Jan</td>\n",
       "      <td>4</td>\n",
       "      <td>04:07:34</td>\n",
       "      <td>2008</td>\n",
       "    </tr>\n",
       "    <tr>\n",
       "      <th>21</th>\n",
       "      <td>louis@media.berkeley.edu</td>\n",
       "      <td>Thu</td>\n",
       "      <td>Jan</td>\n",
       "      <td>3</td>\n",
       "      <td>19:51:21</td>\n",
       "      <td>2008</td>\n",
       "    </tr>\n",
       "    <tr>\n",
       "      <th>22</th>\n",
       "      <td>louis@media.berkeley.edu</td>\n",
       "      <td>Thu</td>\n",
       "      <td>Jan</td>\n",
       "      <td>3</td>\n",
       "      <td>17:18:23</td>\n",
       "      <td>2008</td>\n",
       "    </tr>\n",
       "    <tr>\n",
       "      <th>23</th>\n",
       "      <td>ray@media.berkeley.edu</td>\n",
       "      <td>Thu</td>\n",
       "      <td>Jan</td>\n",
       "      <td>3</td>\n",
       "      <td>17:07:00</td>\n",
       "      <td>2008</td>\n",
       "    </tr>\n",
       "    <tr>\n",
       "      <th>24</th>\n",
       "      <td>cwen@iupui.edu</td>\n",
       "      <td>Thu</td>\n",
       "      <td>Jan</td>\n",
       "      <td>3</td>\n",
       "      <td>16:34:40</td>\n",
       "      <td>2008</td>\n",
       "    </tr>\n",
       "    <tr>\n",
       "      <th>25</th>\n",
       "      <td>cwen@iupui.edu</td>\n",
       "      <td>Thu</td>\n",
       "      <td>Jan</td>\n",
       "      <td>3</td>\n",
       "      <td>16:29:07</td>\n",
       "      <td>2008</td>\n",
       "    </tr>\n",
       "    <tr>\n",
       "      <th>26</th>\n",
       "      <td>cwen@iupui.edu</td>\n",
       "      <td>Thu</td>\n",
       "      <td>Jan</td>\n",
       "      <td>3</td>\n",
       "      <td>16:23:48</td>\n",
       "      <td>2008</td>\n",
       "    </tr>\n",
       "  </tbody>\n",
       "</table>\n",
       "</div>"
      ],
      "text/plain": [
       "                          address dayofweek month day      time  year\n",
       "0      stephen.marquard@uct.ac.za       Sat   Jan   5  09:14:16  2008\n",
       "1        louis@media.berkeley.edu       Fri   Jan   4  18:10:48  2008\n",
       "2                 zqian@umich.edu       Fri   Jan   4  16:10:39  2008\n",
       "3                rjlowe@iupui.edu       Fri   Jan   4  15:46:24  2008\n",
       "4                 zqian@umich.edu       Fri   Jan   4  15:03:18  2008\n",
       "5                rjlowe@iupui.edu       Fri   Jan   4  14:50:18  2008\n",
       "6                  cwen@iupui.edu       Fri   Jan   4  11:37:30  2008\n",
       "7                  cwen@iupui.edu       Fri   Jan   4  11:35:08  2008\n",
       "8               gsilver@umich.edu       Fri   Jan   4  11:12:37  2008\n",
       "9               gsilver@umich.edu       Fri   Jan   4  11:11:52  2008\n",
       "10                zqian@umich.edu       Fri   Jan   4  11:11:03  2008\n",
       "11              gsilver@umich.edu       Fri   Jan   4  11:10:22  2008\n",
       "12             wagnermr@iupui.edu       Fri   Jan   4  10:38:42  2008\n",
       "13                zqian@umich.edu       Fri   Jan   4  10:17:43  2008\n",
       "14       antranig@caret.cam.ac.uk       Fri   Jan   4  10:04:14  2008\n",
       "15  gopal.ramasammycook@gmail.com       Fri   Jan   4  09:05:31  2008\n",
       "16        david.horwitz@uct.ac.za       Fri   Jan   4  07:02:32  2008\n",
       "17        david.horwitz@uct.ac.za       Fri   Jan   4  06:08:27  2008\n",
       "18        david.horwitz@uct.ac.za       Fri   Jan   4  04:49:08  2008\n",
       "19        david.horwitz@uct.ac.za       Fri   Jan   4  04:33:44  2008\n",
       "20     stephen.marquard@uct.ac.za       Fri   Jan   4  04:07:34  2008\n",
       "21       louis@media.berkeley.edu       Thu   Jan   3  19:51:21  2008\n",
       "22       louis@media.berkeley.edu       Thu   Jan   3  17:18:23  2008\n",
       "23         ray@media.berkeley.edu       Thu   Jan   3  17:07:00  2008\n",
       "24                 cwen@iupui.edu       Thu   Jan   3  16:34:40  2008\n",
       "25                 cwen@iupui.edu       Thu   Jan   3  16:29:07  2008\n",
       "26                 cwen@iupui.edu       Thu   Jan   3  16:23:48  2008"
      ]
     },
     "execution_count": 71,
     "metadata": {},
     "output_type": "execute_result"
    }
   ],
   "source": [
    "# Put email parsing code here\n",
    "\n",
    "mbox_lists = []\n",
    "n=0\n",
    "with open('mbox-short.txt') as mbox:\n",
    "    for line in mbox:\n",
    "        if 'From ' in line:\n",
    "            n+=1\n",
    "            row = line.split()\n",
    "            \"\"\"\n",
    "            mbox_dict[n] = {'address': mbox_dict[1],\n",
    "                            'dayofweek': mbox_dict[2],\n",
    "                            'month': mbox_dict[3],\n",
    "                            'day': mbox_dict[4],\n",
    "                            'time': mbox_dict[5],\n",
    "                            'year': mbox_dict[6]}\n",
    "            \"\"\"\n",
    "            mbox_lists.append(row[1:])\n",
    "            \n",
    "\n",
    "            \n",
    "parsed_email_data = pd.DataFrame(mbox_lists, columns=['address',\n",
    "                                                      'dayofweek',\n",
    "                                                      'month',\n",
    "                                                      'day',\n",
    "                                                      'time',\n",
    "                                                      'year'])\n",
    "\n",
    "parsed_email_data\n"
   ]
  },
  {
   "cell_type": "code",
   "execution_count": 70,
   "metadata": {
    "collapsed": true
   },
   "outputs": [],
   "source": [
    "# writing the DataFrame to a CSV file\n",
    "parsed_email_data.to_csv(\"parsed-emails.csv\", index=False)"
   ]
  },
  {
   "cell_type": "markdown",
   "metadata": {
    "collapsed": true
   },
   "source": [
    "## Doing Stuff with Pandas\n",
    "\n",
    "* Once your data is in a Pandas `DataFrame` you can easily use a ton of analytical tools\n",
    "* You just have to get your data to fit into a dataframe\n",
    "* Getting data to fit is a big part of the \"data janitor\" work...it is the craft of data carpentry\n",
    "* However, as we will see, there is still a lot of carpentry work to do once your data fits into a `DataFrame`"
   ]
  },
  {
   "cell_type": "markdown",
   "metadata": {},
   "source": [
    "# Here's the CSV reader!"
   ]
  },
  {
   "cell_type": "code",
   "execution_count": 57,
   "metadata": {},
   "outputs": [
    {
     "data": {
      "text/html": [
       "<div>\n",
       "<table border=\"1\" class=\"dataframe\">\n",
       "  <thead>\n",
       "    <tr style=\"text-align: right;\">\n",
       "      <th></th>\n",
       "      <th>address</th>\n",
       "      <th>dayofweek</th>\n",
       "      <th>month</th>\n",
       "      <th>day</th>\n",
       "      <th>time</th>\n",
       "      <th>year</th>\n",
       "    </tr>\n",
       "  </thead>\n",
       "  <tbody>\n",
       "    <tr>\n",
       "      <th>0</th>\n",
       "      <td>stephen.marquard@uct.ac.za</td>\n",
       "      <td>Sat</td>\n",
       "      <td>Jan</td>\n",
       "      <td>5</td>\n",
       "      <td>09:14:16</td>\n",
       "      <td>2008</td>\n",
       "    </tr>\n",
       "    <tr>\n",
       "      <th>1</th>\n",
       "      <td>louis@media.berkeley.edu</td>\n",
       "      <td>Fri</td>\n",
       "      <td>Jan</td>\n",
       "      <td>4</td>\n",
       "      <td>18:10:48</td>\n",
       "      <td>2008</td>\n",
       "    </tr>\n",
       "    <tr>\n",
       "      <th>2</th>\n",
       "      <td>zqian@umich.edu</td>\n",
       "      <td>Fri</td>\n",
       "      <td>Jan</td>\n",
       "      <td>4</td>\n",
       "      <td>16:10:39</td>\n",
       "      <td>2008</td>\n",
       "    </tr>\n",
       "    <tr>\n",
       "      <th>3</th>\n",
       "      <td>rjlowe@iupui.edu</td>\n",
       "      <td>Fri</td>\n",
       "      <td>Jan</td>\n",
       "      <td>4</td>\n",
       "      <td>15:46:24</td>\n",
       "      <td>2008</td>\n",
       "    </tr>\n",
       "    <tr>\n",
       "      <th>4</th>\n",
       "      <td>zqian@umich.edu</td>\n",
       "      <td>Fri</td>\n",
       "      <td>Jan</td>\n",
       "      <td>4</td>\n",
       "      <td>15:03:18</td>\n",
       "      <td>2008</td>\n",
       "    </tr>\n",
       "    <tr>\n",
       "      <th>5</th>\n",
       "      <td>rjlowe@iupui.edu</td>\n",
       "      <td>Fri</td>\n",
       "      <td>Jan</td>\n",
       "      <td>4</td>\n",
       "      <td>14:50:18</td>\n",
       "      <td>2008</td>\n",
       "    </tr>\n",
       "    <tr>\n",
       "      <th>6</th>\n",
       "      <td>cwen@iupui.edu</td>\n",
       "      <td>Fri</td>\n",
       "      <td>Jan</td>\n",
       "      <td>4</td>\n",
       "      <td>11:37:30</td>\n",
       "      <td>2008</td>\n",
       "    </tr>\n",
       "    <tr>\n",
       "      <th>7</th>\n",
       "      <td>cwen@iupui.edu</td>\n",
       "      <td>Fri</td>\n",
       "      <td>Jan</td>\n",
       "      <td>4</td>\n",
       "      <td>11:35:08</td>\n",
       "      <td>2008</td>\n",
       "    </tr>\n",
       "    <tr>\n",
       "      <th>8</th>\n",
       "      <td>gsilver@umich.edu</td>\n",
       "      <td>Fri</td>\n",
       "      <td>Jan</td>\n",
       "      <td>4</td>\n",
       "      <td>11:12:37</td>\n",
       "      <td>2008</td>\n",
       "    </tr>\n",
       "    <tr>\n",
       "      <th>9</th>\n",
       "      <td>gsilver@umich.edu</td>\n",
       "      <td>Fri</td>\n",
       "      <td>Jan</td>\n",
       "      <td>4</td>\n",
       "      <td>11:11:52</td>\n",
       "      <td>2008</td>\n",
       "    </tr>\n",
       "    <tr>\n",
       "      <th>10</th>\n",
       "      <td>zqian@umich.edu</td>\n",
       "      <td>Fri</td>\n",
       "      <td>Jan</td>\n",
       "      <td>4</td>\n",
       "      <td>11:11:03</td>\n",
       "      <td>2008</td>\n",
       "    </tr>\n",
       "    <tr>\n",
       "      <th>11</th>\n",
       "      <td>gsilver@umich.edu</td>\n",
       "      <td>Fri</td>\n",
       "      <td>Jan</td>\n",
       "      <td>4</td>\n",
       "      <td>11:10:22</td>\n",
       "      <td>2008</td>\n",
       "    </tr>\n",
       "    <tr>\n",
       "      <th>12</th>\n",
       "      <td>wagnermr@iupui.edu</td>\n",
       "      <td>Fri</td>\n",
       "      <td>Jan</td>\n",
       "      <td>4</td>\n",
       "      <td>10:38:42</td>\n",
       "      <td>2008</td>\n",
       "    </tr>\n",
       "    <tr>\n",
       "      <th>13</th>\n",
       "      <td>zqian@umich.edu</td>\n",
       "      <td>Fri</td>\n",
       "      <td>Jan</td>\n",
       "      <td>4</td>\n",
       "      <td>10:17:43</td>\n",
       "      <td>2008</td>\n",
       "    </tr>\n",
       "    <tr>\n",
       "      <th>14</th>\n",
       "      <td>antranig@caret.cam.ac.uk</td>\n",
       "      <td>Fri</td>\n",
       "      <td>Jan</td>\n",
       "      <td>4</td>\n",
       "      <td>10:04:14</td>\n",
       "      <td>2008</td>\n",
       "    </tr>\n",
       "    <tr>\n",
       "      <th>15</th>\n",
       "      <td>gopal.ramasammycook@gmail.com</td>\n",
       "      <td>Fri</td>\n",
       "      <td>Jan</td>\n",
       "      <td>4</td>\n",
       "      <td>09:05:31</td>\n",
       "      <td>2008</td>\n",
       "    </tr>\n",
       "    <tr>\n",
       "      <th>16</th>\n",
       "      <td>david.horwitz@uct.ac.za</td>\n",
       "      <td>Fri</td>\n",
       "      <td>Jan</td>\n",
       "      <td>4</td>\n",
       "      <td>07:02:32</td>\n",
       "      <td>2008</td>\n",
       "    </tr>\n",
       "    <tr>\n",
       "      <th>17</th>\n",
       "      <td>david.horwitz@uct.ac.za</td>\n",
       "      <td>Fri</td>\n",
       "      <td>Jan</td>\n",
       "      <td>4</td>\n",
       "      <td>06:08:27</td>\n",
       "      <td>2008</td>\n",
       "    </tr>\n",
       "    <tr>\n",
       "      <th>18</th>\n",
       "      <td>david.horwitz@uct.ac.za</td>\n",
       "      <td>Fri</td>\n",
       "      <td>Jan</td>\n",
       "      <td>4</td>\n",
       "      <td>04:49:08</td>\n",
       "      <td>2008</td>\n",
       "    </tr>\n",
       "    <tr>\n",
       "      <th>19</th>\n",
       "      <td>david.horwitz@uct.ac.za</td>\n",
       "      <td>Fri</td>\n",
       "      <td>Jan</td>\n",
       "      <td>4</td>\n",
       "      <td>04:33:44</td>\n",
       "      <td>2008</td>\n",
       "    </tr>\n",
       "    <tr>\n",
       "      <th>20</th>\n",
       "      <td>stephen.marquard@uct.ac.za</td>\n",
       "      <td>Fri</td>\n",
       "      <td>Jan</td>\n",
       "      <td>4</td>\n",
       "      <td>04:07:34</td>\n",
       "      <td>2008</td>\n",
       "    </tr>\n",
       "    <tr>\n",
       "      <th>21</th>\n",
       "      <td>louis@media.berkeley.edu</td>\n",
       "      <td>Thu</td>\n",
       "      <td>Jan</td>\n",
       "      <td>3</td>\n",
       "      <td>19:51:21</td>\n",
       "      <td>2008</td>\n",
       "    </tr>\n",
       "    <tr>\n",
       "      <th>22</th>\n",
       "      <td>louis@media.berkeley.edu</td>\n",
       "      <td>Thu</td>\n",
       "      <td>Jan</td>\n",
       "      <td>3</td>\n",
       "      <td>17:18:23</td>\n",
       "      <td>2008</td>\n",
       "    </tr>\n",
       "    <tr>\n",
       "      <th>23</th>\n",
       "      <td>ray@media.berkeley.edu</td>\n",
       "      <td>Thu</td>\n",
       "      <td>Jan</td>\n",
       "      <td>3</td>\n",
       "      <td>17:07:00</td>\n",
       "      <td>2008</td>\n",
       "    </tr>\n",
       "    <tr>\n",
       "      <th>24</th>\n",
       "      <td>cwen@iupui.edu</td>\n",
       "      <td>Thu</td>\n",
       "      <td>Jan</td>\n",
       "      <td>3</td>\n",
       "      <td>16:34:40</td>\n",
       "      <td>2008</td>\n",
       "    </tr>\n",
       "    <tr>\n",
       "      <th>25</th>\n",
       "      <td>cwen@iupui.edu</td>\n",
       "      <td>Thu</td>\n",
       "      <td>Jan</td>\n",
       "      <td>3</td>\n",
       "      <td>16:29:07</td>\n",
       "      <td>2008</td>\n",
       "    </tr>\n",
       "    <tr>\n",
       "      <th>26</th>\n",
       "      <td>cwen@iupui.edu</td>\n",
       "      <td>Thu</td>\n",
       "      <td>Jan</td>\n",
       "      <td>3</td>\n",
       "      <td>16:23:48</td>\n",
       "      <td>2008</td>\n",
       "    </tr>\n",
       "  </tbody>\n",
       "</table>\n",
       "</div>"
      ],
      "text/plain": [
       "                          address dayofweek month  day      time  year\n",
       "0      stephen.marquard@uct.ac.za       Sat   Jan    5  09:14:16  2008\n",
       "1        louis@media.berkeley.edu       Fri   Jan    4  18:10:48  2008\n",
       "2                 zqian@umich.edu       Fri   Jan    4  16:10:39  2008\n",
       "3                rjlowe@iupui.edu       Fri   Jan    4  15:46:24  2008\n",
       "4                 zqian@umich.edu       Fri   Jan    4  15:03:18  2008\n",
       "5                rjlowe@iupui.edu       Fri   Jan    4  14:50:18  2008\n",
       "6                  cwen@iupui.edu       Fri   Jan    4  11:37:30  2008\n",
       "7                  cwen@iupui.edu       Fri   Jan    4  11:35:08  2008\n",
       "8               gsilver@umich.edu       Fri   Jan    4  11:12:37  2008\n",
       "9               gsilver@umich.edu       Fri   Jan    4  11:11:52  2008\n",
       "10                zqian@umich.edu       Fri   Jan    4  11:11:03  2008\n",
       "11              gsilver@umich.edu       Fri   Jan    4  11:10:22  2008\n",
       "12             wagnermr@iupui.edu       Fri   Jan    4  10:38:42  2008\n",
       "13                zqian@umich.edu       Fri   Jan    4  10:17:43  2008\n",
       "14       antranig@caret.cam.ac.uk       Fri   Jan    4  10:04:14  2008\n",
       "15  gopal.ramasammycook@gmail.com       Fri   Jan    4  09:05:31  2008\n",
       "16        david.horwitz@uct.ac.za       Fri   Jan    4  07:02:32  2008\n",
       "17        david.horwitz@uct.ac.za       Fri   Jan    4  06:08:27  2008\n",
       "18        david.horwitz@uct.ac.za       Fri   Jan    4  04:49:08  2008\n",
       "19        david.horwitz@uct.ac.za       Fri   Jan    4  04:33:44  2008\n",
       "20     stephen.marquard@uct.ac.za       Fri   Jan    4  04:07:34  2008\n",
       "21       louis@media.berkeley.edu       Thu   Jan    3  19:51:21  2008\n",
       "22       louis@media.berkeley.edu       Thu   Jan    3  17:18:23  2008\n",
       "23         ray@media.berkeley.edu       Thu   Jan    3  17:07:00  2008\n",
       "24                 cwen@iupui.edu       Thu   Jan    3  16:34:40  2008\n",
       "25                 cwen@iupui.edu       Thu   Jan    3  16:29:07  2008\n",
       "26                 cwen@iupui.edu       Thu   Jan    3  16:23:48  2008"
      ]
     },
     "execution_count": 57,
     "metadata": {},
     "output_type": "execute_result"
    }
   ],
   "source": [
    "# Open up the email\n",
    "parsed_email_data = pd.read_csv(\"parsed-emails.csv\")\n",
    "parsed_email_data"
   ]
  },
  {
   "cell_type": "code",
   "execution_count": null,
   "metadata": {
    "collapsed": true
   },
   "outputs": [],
   "source": []
  },
  {
   "cell_type": "markdown",
   "metadata": {},
   "source": [
    "* This dataframe allows us ask questions of the data, if you know how to ask.\n",
    "* `value_counts()` is a `Series` method that tabulates the number of values.\n",
    "* First we need to extract the column we want"
   ]
  },
  {
   "cell_type": "code",
   "execution_count": 58,
   "metadata": {},
   "outputs": [
    {
     "data": {
      "text/plain": [
       "0     Sat\n",
       "1     Fri\n",
       "2     Fri\n",
       "3     Fri\n",
       "4     Fri\n",
       "5     Fri\n",
       "6     Fri\n",
       "7     Fri\n",
       "8     Fri\n",
       "9     Fri\n",
       "10    Fri\n",
       "11    Fri\n",
       "12    Fri\n",
       "13    Fri\n",
       "14    Fri\n",
       "15    Fri\n",
       "16    Fri\n",
       "17    Fri\n",
       "18    Fri\n",
       "19    Fri\n",
       "20    Fri\n",
       "21    Thu\n",
       "22    Thu\n",
       "23    Thu\n",
       "24    Thu\n",
       "25    Thu\n",
       "26    Thu\n",
       "Name: dayofweek, dtype: object"
      ]
     },
     "execution_count": 58,
     "metadata": {},
     "output_type": "execute_result"
    }
   ],
   "source": [
    "parsed_email_data['dayofweek']"
   ]
  },
  {
   "cell_type": "code",
   "execution_count": 59,
   "metadata": {},
   "outputs": [
    {
     "data": {
      "text/plain": [
       "Fri    20\n",
       "Thu     6\n",
       "Sat     1\n",
       "Name: dayofweek, dtype: int64"
      ]
     },
     "execution_count": 59,
     "metadata": {},
     "output_type": "execute_result"
    }
   ],
   "source": [
    "parsed_email_data['dayofweek'].value_counts()"
   ]
  },
  {
   "cell_type": "markdown",
   "metadata": {},
   "source": [
    "#### Exercise\n",
    "\n",
    "* Answer the following questions: \n",
    "    * Who wrote the most emails?\n",
    "    * What month is the most popular?\n",
    "    * How many emails per year?"
   ]
  },
  {
   "cell_type": "code",
   "execution_count": 61,
   "metadata": {},
   "outputs": [
    {
     "data": {
      "text/plain": [
       "cwen@iupui.edu                   5\n",
       "zqian@umich.edu                  4\n",
       "david.horwitz@uct.ac.za          4\n",
       "louis@media.berkeley.edu         3\n",
       "gsilver@umich.edu                3\n",
       "rjlowe@iupui.edu                 2\n",
       "stephen.marquard@uct.ac.za       2\n",
       "gopal.ramasammycook@gmail.com    1\n",
       "ray@media.berkeley.edu           1\n",
       "wagnermr@iupui.edu               1\n",
       "antranig@caret.cam.ac.uk         1\n",
       "Name: address, dtype: int64"
      ]
     },
     "execution_count": 61,
     "metadata": {},
     "output_type": "execute_result"
    }
   ],
   "source": [
    "# Who wrote the most emails?\n",
    "parsed_email_data['address'].value_counts()"
   ]
  },
  {
   "cell_type": "code",
   "execution_count": 62,
   "metadata": {},
   "outputs": [
    {
     "data": {
      "text/plain": [
       "Jan    27\n",
       "Name: month, dtype: int64"
      ]
     },
     "execution_count": 62,
     "metadata": {},
     "output_type": "execute_result"
    }
   ],
   "source": [
    "# What month is the most popular?\n",
    "parsed_email_data['month'].value_counts()"
   ]
  },
  {
   "cell_type": "code",
   "execution_count": 63,
   "metadata": {},
   "outputs": [
    {
     "data": {
      "text/plain": [
       "2008    27\n",
       "Name: year, dtype: int64"
      ]
     },
     "execution_count": 63,
     "metadata": {},
     "output_type": "execute_result"
    }
   ],
   "source": [
    "# How many emails per year?\n",
    "parsed_email_data['year'].value_counts()"
   ]
  },
  {
   "cell_type": "markdown",
   "metadata": {},
   "source": [
    "* What if we wanted to tabulate the number of institutions\n",
    "* There are multiple ways of doing this, a Python way and a Pandas way\n",
    "* First, lets try the Python way"
   ]
  },
  {
   "cell_type": "code",
   "execution_count": 64,
   "metadata": {},
   "outputs": [
    {
     "name": "stdout",
     "output_type": "stream",
     "text": [
      "stephen.marquard@uct.ac.za\n",
      "louis@media.berkeley.edu\n",
      "zqian@umich.edu\n",
      "rjlowe@iupui.edu\n",
      "zqian@umich.edu\n",
      "rjlowe@iupui.edu\n",
      "cwen@iupui.edu\n",
      "cwen@iupui.edu\n",
      "gsilver@umich.edu\n",
      "gsilver@umich.edu\n",
      "zqian@umich.edu\n",
      "gsilver@umich.edu\n",
      "wagnermr@iupui.edu\n",
      "zqian@umich.edu\n",
      "antranig@caret.cam.ac.uk\n",
      "gopal.ramasammycook@gmail.com\n",
      "david.horwitz@uct.ac.za\n",
      "david.horwitz@uct.ac.za\n",
      "david.horwitz@uct.ac.za\n",
      "david.horwitz@uct.ac.za\n",
      "stephen.marquard@uct.ac.za\n",
      "louis@media.berkeley.edu\n",
      "louis@media.berkeley.edu\n",
      "ray@media.berkeley.edu\n",
      "cwen@iupui.edu\n",
      "cwen@iupui.edu\n",
      "cwen@iupui.edu\n"
     ]
    }
   ],
   "source": [
    "# Start by looping over all the email address\n",
    "\n",
    "# Make the series into a list, for maximum python\n",
    "email_list = parsed_email_data['address'].tolist()\n",
    "# loop over the list and print the email\n",
    "for email in email_list:\n",
    "    print(email)"
   ]
  },
  {
   "cell_type": "code",
   "execution_count": 65,
   "metadata": {},
   "outputs": [
    {
     "name": "stdout",
     "output_type": "stream",
     "text": [
      "['stephen.marquard', 'uct.ac.za']\n",
      "['louis', 'media.berkeley.edu']\n",
      "['zqian', 'umich.edu']\n",
      "['rjlowe', 'iupui.edu']\n",
      "['zqian', 'umich.edu']\n",
      "['rjlowe', 'iupui.edu']\n",
      "['cwen', 'iupui.edu']\n",
      "['cwen', 'iupui.edu']\n",
      "['gsilver', 'umich.edu']\n",
      "['gsilver', 'umich.edu']\n",
      "['zqian', 'umich.edu']\n",
      "['gsilver', 'umich.edu']\n",
      "['wagnermr', 'iupui.edu']\n",
      "['zqian', 'umich.edu']\n",
      "['antranig', 'caret.cam.ac.uk']\n",
      "['gopal.ramasammycook', 'gmail.com']\n",
      "['david.horwitz', 'uct.ac.za']\n",
      "['david.horwitz', 'uct.ac.za']\n",
      "['david.horwitz', 'uct.ac.za']\n",
      "['david.horwitz', 'uct.ac.za']\n",
      "['stephen.marquard', 'uct.ac.za']\n",
      "['louis', 'media.berkeley.edu']\n",
      "['louis', 'media.berkeley.edu']\n",
      "['ray', 'media.berkeley.edu']\n",
      "['cwen', 'iupui.edu']\n",
      "['cwen', 'iupui.edu']\n",
      "['cwen', 'iupui.edu']\n"
     ]
    }
   ],
   "source": [
    "# Python way of getting institutions\n",
    "\n",
    "# Make the series into a list, for maximum python\n",
    "email_list = parsed_email_data['address'].tolist()\n",
    "# loop over the list and print the email\n",
    "for email in email_list:\n",
    "    # split the emails into a list of name and institution\n",
    "    split_email = email.split(\"@\")\n",
    "    print(split_email)\n"
   ]
  },
  {
   "cell_type": "code",
   "execution_count": 66,
   "metadata": {},
   "outputs": [
    {
     "name": "stdout",
     "output_type": "stream",
     "text": [
      "uct.ac.za\n",
      "media.berkeley.edu\n",
      "umich.edu\n",
      "iupui.edu\n",
      "umich.edu\n",
      "iupui.edu\n",
      "iupui.edu\n",
      "iupui.edu\n",
      "umich.edu\n",
      "umich.edu\n",
      "umich.edu\n",
      "umich.edu\n",
      "iupui.edu\n",
      "umich.edu\n",
      "caret.cam.ac.uk\n",
      "gmail.com\n",
      "uct.ac.za\n",
      "uct.ac.za\n",
      "uct.ac.za\n",
      "uct.ac.za\n",
      "uct.ac.za\n",
      "media.berkeley.edu\n",
      "media.berkeley.edu\n",
      "media.berkeley.edu\n",
      "iupui.edu\n",
      "iupui.edu\n",
      "iupui.edu\n"
     ]
    }
   ],
   "source": [
    "# Python way of getting institutions\n",
    "\n",
    "# Make the series into a list, for maximum python\n",
    "email_list = parsed_email_data['address'].tolist()\n",
    "# loop over the list and print the email\n",
    "for email in email_list:\n",
    "    # split the emails into a list of name and institution\n",
    "    split_email = email.split(\"@\")\n",
    "    # print the second item in the list, the institution\n",
    "    print(split_email[1])"
   ]
  },
  {
   "cell_type": "markdown",
   "metadata": {},
   "source": [
    "* There must be some bad data in the list\n",
    "* We'll have to write some code to find the bad data as it is looping"
   ]
  },
  {
   "cell_type": "code",
   "execution_count": null,
   "metadata": {
    "collapsed": true
   },
   "outputs": [],
   "source": [
    "# Python way of getting institutions\n",
    "\n",
    "for email in parsed_email_data['address']:\n",
    "    split_email = email.split(\"@\")\n",
    "    if len(split_email) < 2:\n",
    "        # print the bad example\n",
    "        print(email)\n",
    "    else:\n",
    "        continue\n",
    "\n"
   ]
  },
  {
   "cell_type": "code",
   "execution_count": null,
   "metadata": {
    "collapsed": true
   },
   "outputs": [],
   "source": [
    "# Another way of doing this with error handling\n",
    "\n",
    "# an empty list to contain the data\n",
    "institutions = []\n",
    "# loop over the address, Pandas series behave like lists\n",
    "for email in parsed_email_data['address']:\n",
    "    \n",
    "    # try to parse the email addresses and append just the institution to the list\n",
    "    try:\n",
    "        institution = email.split(\"@\")[1]\n",
    "        institutions.append(institution)\n",
    "    except:\n",
    "        # If there is an error, this code executes instead\n",
    "        print(\"The bad email is: \", email)\n",
    "\n",
    "# print the first ten items in the institutions list\n",
    "print(\"First ten institutions:\")\n",
    "print(institutions[0:10])\n",
    "\n",
    "# Then we could write a dictionary counter...but there is a better way!"
   ]
  },
  {
   "cell_type": "markdown",
   "metadata": {},
   "source": [
    "### Vectorized String Operations\n",
    "\n",
    "* There is a Pandas way of doing this that is much more terse and compact\n",
    "* Pandas has a set of String operations that do much painful work for you\n",
    "* Especially handling bad data!"
   ]
  },
  {
   "cell_type": "code",
   "execution_count": null,
   "metadata": {
    "collapsed": true
   },
   "outputs": [],
   "source": [
    "data = ['peter', 'Paul', 'MARY', 'gUIDO']\n",
    "\n",
    "for s in data:\n",
    "    print(s.capitalize())"
   ]
  },
  {
   "cell_type": "markdown",
   "metadata": {},
   "source": [
    "* But like above, this breaks very easily with missing values"
   ]
  },
  {
   "cell_type": "code",
   "execution_count": 72,
   "metadata": {},
   "outputs": [
    {
     "name": "stdout",
     "output_type": "stream",
     "text": [
      "Peter\n",
      "Paul\n"
     ]
    },
    {
     "ename": "AttributeError",
     "evalue": "'NoneType' object has no attribute 'capitalize'",
     "output_type": "error",
     "traceback": [
      "\u001b[0;31m---------------------------------------------------------------------------\u001b[0m",
      "\u001b[0;31mAttributeError\u001b[0m                            Traceback (most recent call last)",
      "\u001b[0;32m<ipython-input-72-c79e087d4129>\u001b[0m in \u001b[0;36m<module>\u001b[0;34m()\u001b[0m\n\u001b[1;32m      2\u001b[0m \u001b[0;34m\u001b[0m\u001b[0m\n\u001b[1;32m      3\u001b[0m \u001b[0;32mfor\u001b[0m \u001b[0ms\u001b[0m \u001b[0;32min\u001b[0m \u001b[0mdata\u001b[0m\u001b[0;34m:\u001b[0m\u001b[0;34m\u001b[0m\u001b[0m\n\u001b[0;32m----> 4\u001b[0;31m     \u001b[0mprint\u001b[0m\u001b[0;34m(\u001b[0m\u001b[0ms\u001b[0m\u001b[0;34m.\u001b[0m\u001b[0mcapitalize\u001b[0m\u001b[0;34m(\u001b[0m\u001b[0;34m)\u001b[0m\u001b[0;34m)\u001b[0m\u001b[0;34m\u001b[0m\u001b[0m\n\u001b[0m",
      "\u001b[0;31mAttributeError\u001b[0m: 'NoneType' object has no attribute 'capitalize'"
     ]
    }
   ],
   "source": [
    "data = ['peter', 'Paul', None, 'MARY', 'gUIDO']\n",
    "\n",
    "for s in data:\n",
    "    print(s.capitalize())"
   ]
  },
  {
   "cell_type": "markdown",
   "metadata": {},
   "source": [
    "* The Pandas library has *vectorized string operations* that handle missing data"
   ]
  },
  {
   "cell_type": "code",
   "execution_count": 73,
   "metadata": {},
   "outputs": [
    {
     "data": {
      "text/plain": [
       "0    peter\n",
       "1     Paul\n",
       "2     None\n",
       "3     MARY\n",
       "4    gUIDO\n",
       "dtype: object"
      ]
     },
     "execution_count": 73,
     "metadata": {},
     "output_type": "execute_result"
    }
   ],
   "source": [
    "names = pd.Series(data)\n",
    "names"
   ]
  },
  {
   "cell_type": "code",
   "execution_count": 74,
   "metadata": {},
   "outputs": [
    {
     "data": {
      "text/plain": [
       "0    Peter\n",
       "1     Paul\n",
       "2     None\n",
       "3     Mary\n",
       "4    Guido\n",
       "dtype: object"
      ]
     },
     "execution_count": 74,
     "metadata": {},
     "output_type": "execute_result"
    }
   ],
   "source": [
    "names.str.capitalize()\n"
   ]
  },
  {
   "cell_type": "markdown",
   "metadata": {},
   "source": [
    "* Look ma! No errors!\n",
    "* Pandas includes a a bunch of methods for doing things to strings.\n",
    "\n",
    "|             |                  |                  |                  |\n",
    "|-------------|------------------|------------------|------------------|\n",
    "|``len()``    | ``lower()``      | ``translate()``  | ``islower()``    | \n",
    "|``ljust()``  | ``upper()``      | ``startswith()`` | ``isupper()``    | \n",
    "|``rjust()``  | ``find()``       | ``endswith()``   | ``isnumeric()``  | \n",
    "|``center()`` | ``rfind()``      | ``isalnum()``    | ``isdecimal()``  | \n",
    "|``zfill()``  | ``index()``      | ``isalpha()``    | ``split()``      | \n",
    "|``strip()``  | ``rindex()``     | ``isdigit()``    | ``rsplit()``     | \n",
    "|``rstrip()`` | ``capitalize()`` | ``isspace()``    | ``partition()``  | \n",
    "|``lstrip()`` |  ``swapcase()``  |  ``istitle()``   | ``rpartition()`` |\n",
    "\n",
    "#### Exercise\n",
    "\n",
    "* In the cells below, try three of the string operations listed above on the Pandas Series `monte`\n",
    "* Remember, you can hit tab to autocomplete and shift-tab to see documentation"
   ]
  },
  {
   "cell_type": "code",
   "execution_count": 75,
   "metadata": {
    "collapsed": true
   },
   "outputs": [],
   "source": [
    "monte = pd.Series(['Graham Chapman', 'John Cleese', 'Terry Gilliam',\n",
    "                   'Eric Idle', 'Terry Jones', 'Michael Palin'])"
   ]
  },
  {
   "cell_type": "code",
   "execution_count": 87,
   "metadata": {},
   "outputs": [
    {
     "data": {
      "text/plain": [
       "0    000000Graham Chapman\n",
       "1    000000000John Cleese\n",
       "2    0000000Terry Gilliam\n",
       "3    00000000000Eric Idle\n",
       "4    000000000Terry Jones\n",
       "5    0000000Michael Palin\n",
       "dtype: object"
      ]
     },
     "execution_count": 87,
     "metadata": {},
     "output_type": "execute_result"
    }
   ],
   "source": [
    "# First\n",
    "monte.str.zfill(20)"
   ]
  },
  {
   "cell_type": "code",
   "execution_count": 81,
   "metadata": {},
   "outputs": [
    {
     "data": {
      "text/plain": [
       "0    True\n",
       "1    True\n",
       "2    True\n",
       "3    True\n",
       "4    True\n",
       "5    True\n",
       "dtype: bool"
      ]
     },
     "execution_count": 81,
     "metadata": {},
     "output_type": "execute_result"
    }
   ],
   "source": [
    "# Second\n",
    "monte.str.istitle()"
   ]
  },
  {
   "cell_type": "code",
   "execution_count": 83,
   "metadata": {},
   "outputs": [
    {
     "data": {
      "text/plain": [
       "0    gRAHAM cHAPMAN\n",
       "1       jOHN cLEESE\n",
       "2     tERRY gILLIAM\n",
       "3         eRIC iDLE\n",
       "4       tERRY jONES\n",
       "5     mICHAEL pALIN\n",
       "dtype: object"
      ]
     },
     "execution_count": 83,
     "metadata": {},
     "output_type": "execute_result"
    }
   ],
   "source": [
    "# Third\n",
    "monte.str.swapcase()"
   ]
  },
  {
   "cell_type": "code",
   "execution_count": null,
   "metadata": {
    "collapsed": true
   },
   "outputs": [],
   "source": []
  },
  {
   "cell_type": "code",
   "execution_count": null,
   "metadata": {
    "collapsed": true
   },
   "outputs": [],
   "source": []
  },
  {
   "cell_type": "code",
   "execution_count": null,
   "metadata": {
    "collapsed": true
   },
   "outputs": [],
   "source": []
  },
  {
   "cell_type": "markdown",
   "metadata": {},
   "source": [
    "* So now lets try tabulating the number of institutions the Pandas way"
   ]
  },
  {
   "cell_type": "code",
   "execution_count": 90,
   "metadata": {},
   "outputs": [
    {
     "data": {
      "text/plain": [
       "0        [stephen.marquard, uct.ac.za]\n",
       "1          [louis, media.berkeley.edu]\n",
       "2                   [zqian, umich.edu]\n",
       "3                  [rjlowe, iupui.edu]\n",
       "4                   [zqian, umich.edu]\n",
       "5                  [rjlowe, iupui.edu]\n",
       "6                    [cwen, iupui.edu]\n",
       "7                    [cwen, iupui.edu]\n",
       "8                 [gsilver, umich.edu]\n",
       "9                 [gsilver, umich.edu]\n",
       "10                  [zqian, umich.edu]\n",
       "11                [gsilver, umich.edu]\n",
       "12               [wagnermr, iupui.edu]\n",
       "13                  [zqian, umich.edu]\n",
       "14         [antranig, caret.cam.ac.uk]\n",
       "15    [gopal.ramasammycook, gmail.com]\n",
       "16          [david.horwitz, uct.ac.za]\n",
       "17          [david.horwitz, uct.ac.za]\n",
       "18          [david.horwitz, uct.ac.za]\n",
       "19          [david.horwitz, uct.ac.za]\n",
       "20       [stephen.marquard, uct.ac.za]\n",
       "21         [louis, media.berkeley.edu]\n",
       "22         [louis, media.berkeley.edu]\n",
       "23           [ray, media.berkeley.edu]\n",
       "24                   [cwen, iupui.edu]\n",
       "25                   [cwen, iupui.edu]\n",
       "26                   [cwen, iupui.edu]\n",
       "dtype: object"
      ]
     },
     "execution_count": 90,
     "metadata": {},
     "output_type": "execute_result"
    }
   ],
   "source": [
    "# use a vectorized string operation over the email addresses\n",
    "parsed_email_data['address'].str.split(\"@\")"
   ]
  },
  {
   "cell_type": "markdown",
   "metadata": {},
   "source": [
    "* Now we have a Series of list objects (you can tell from the square brackets)\n",
    "* Lets get just the 2nd element of those lists. We can do that with [vectorized item access](http://nbviewer.jupyter.org/github/jakevdp/PythonDataScienceHandbook/blob/master/notebooks/03.10-Working-With-Strings.ipynb#Vectorized-item-access-and-slicing)"
   ]
  },
  {
   "cell_type": "code",
   "execution_count": 91,
   "metadata": {},
   "outputs": [
    {
     "data": {
      "text/plain": [
       "0              uct.ac.za\n",
       "1     media.berkeley.edu\n",
       "2              umich.edu\n",
       "3              iupui.edu\n",
       "4              umich.edu\n",
       "5              iupui.edu\n",
       "6              iupui.edu\n",
       "7              iupui.edu\n",
       "8              umich.edu\n",
       "9              umich.edu\n",
       "10             umich.edu\n",
       "11             umich.edu\n",
       "12             iupui.edu\n",
       "13             umich.edu\n",
       "14       caret.cam.ac.uk\n",
       "15             gmail.com\n",
       "16             uct.ac.za\n",
       "17             uct.ac.za\n",
       "18             uct.ac.za\n",
       "19             uct.ac.za\n",
       "20             uct.ac.za\n",
       "21    media.berkeley.edu\n",
       "22    media.berkeley.edu\n",
       "23    media.berkeley.edu\n",
       "24             iupui.edu\n",
       "25             iupui.edu\n",
       "26             iupui.edu\n",
       "dtype: object"
      ]
     },
     "execution_count": 91,
     "metadata": {},
     "output_type": "execute_result"
    }
   ],
   "source": [
    "# \n",
    "parsed_email_data['address'].str.split(\"@\").str.get(1)"
   ]
  },
  {
   "cell_type": "code",
   "execution_count": 93,
   "metadata": {},
   "outputs": [
    {
     "data": {
      "text/plain": [
       "iupui.edu             8\n",
       "umich.edu             7\n",
       "uct.ac.za             6\n",
       "media.berkeley.edu    4\n",
       "gmail.com             1\n",
       "caret.cam.ac.uk       1\n",
       "dtype: int64"
      ]
     },
     "execution_count": 93,
     "metadata": {},
     "output_type": "execute_result"
    }
   ],
   "source": [
    "institutions = parsed_email_data['address'].str.split(\"@\").str.get(1)\n",
    "institutions.value_counts()"
   ]
  },
  {
   "cell_type": "code",
   "execution_count": 95,
   "metadata": {},
   "outputs": [
    {
     "data": {
      "text/html": [
       "<div>\n",
       "<table border=\"1\" class=\"dataframe\">\n",
       "  <thead>\n",
       "    <tr style=\"text-align: right;\">\n",
       "      <th></th>\n",
       "      <th>address</th>\n",
       "      <th>dayofweek</th>\n",
       "      <th>month</th>\n",
       "      <th>day</th>\n",
       "      <th>time</th>\n",
       "      <th>year</th>\n",
       "      <th>institution</th>\n",
       "    </tr>\n",
       "  </thead>\n",
       "  <tbody>\n",
       "    <tr>\n",
       "      <th>0</th>\n",
       "      <td>stephen.marquard@uct.ac.za</td>\n",
       "      <td>Sat</td>\n",
       "      <td>Jan</td>\n",
       "      <td>5</td>\n",
       "      <td>09:14:16</td>\n",
       "      <td>2008</td>\n",
       "      <td>uct.ac.za</td>\n",
       "    </tr>\n",
       "    <tr>\n",
       "      <th>1</th>\n",
       "      <td>louis@media.berkeley.edu</td>\n",
       "      <td>Fri</td>\n",
       "      <td>Jan</td>\n",
       "      <td>4</td>\n",
       "      <td>18:10:48</td>\n",
       "      <td>2008</td>\n",
       "      <td>media.berkeley.edu</td>\n",
       "    </tr>\n",
       "    <tr>\n",
       "      <th>2</th>\n",
       "      <td>zqian@umich.edu</td>\n",
       "      <td>Fri</td>\n",
       "      <td>Jan</td>\n",
       "      <td>4</td>\n",
       "      <td>16:10:39</td>\n",
       "      <td>2008</td>\n",
       "      <td>umich.edu</td>\n",
       "    </tr>\n",
       "    <tr>\n",
       "      <th>3</th>\n",
       "      <td>rjlowe@iupui.edu</td>\n",
       "      <td>Fri</td>\n",
       "      <td>Jan</td>\n",
       "      <td>4</td>\n",
       "      <td>15:46:24</td>\n",
       "      <td>2008</td>\n",
       "      <td>iupui.edu</td>\n",
       "    </tr>\n",
       "    <tr>\n",
       "      <th>4</th>\n",
       "      <td>zqian@umich.edu</td>\n",
       "      <td>Fri</td>\n",
       "      <td>Jan</td>\n",
       "      <td>4</td>\n",
       "      <td>15:03:18</td>\n",
       "      <td>2008</td>\n",
       "      <td>umich.edu</td>\n",
       "    </tr>\n",
       "    <tr>\n",
       "      <th>5</th>\n",
       "      <td>rjlowe@iupui.edu</td>\n",
       "      <td>Fri</td>\n",
       "      <td>Jan</td>\n",
       "      <td>4</td>\n",
       "      <td>14:50:18</td>\n",
       "      <td>2008</td>\n",
       "      <td>iupui.edu</td>\n",
       "    </tr>\n",
       "    <tr>\n",
       "      <th>6</th>\n",
       "      <td>cwen@iupui.edu</td>\n",
       "      <td>Fri</td>\n",
       "      <td>Jan</td>\n",
       "      <td>4</td>\n",
       "      <td>11:37:30</td>\n",
       "      <td>2008</td>\n",
       "      <td>iupui.edu</td>\n",
       "    </tr>\n",
       "    <tr>\n",
       "      <th>7</th>\n",
       "      <td>cwen@iupui.edu</td>\n",
       "      <td>Fri</td>\n",
       "      <td>Jan</td>\n",
       "      <td>4</td>\n",
       "      <td>11:35:08</td>\n",
       "      <td>2008</td>\n",
       "      <td>iupui.edu</td>\n",
       "    </tr>\n",
       "    <tr>\n",
       "      <th>8</th>\n",
       "      <td>gsilver@umich.edu</td>\n",
       "      <td>Fri</td>\n",
       "      <td>Jan</td>\n",
       "      <td>4</td>\n",
       "      <td>11:12:37</td>\n",
       "      <td>2008</td>\n",
       "      <td>umich.edu</td>\n",
       "    </tr>\n",
       "    <tr>\n",
       "      <th>9</th>\n",
       "      <td>gsilver@umich.edu</td>\n",
       "      <td>Fri</td>\n",
       "      <td>Jan</td>\n",
       "      <td>4</td>\n",
       "      <td>11:11:52</td>\n",
       "      <td>2008</td>\n",
       "      <td>umich.edu</td>\n",
       "    </tr>\n",
       "    <tr>\n",
       "      <th>10</th>\n",
       "      <td>zqian@umich.edu</td>\n",
       "      <td>Fri</td>\n",
       "      <td>Jan</td>\n",
       "      <td>4</td>\n",
       "      <td>11:11:03</td>\n",
       "      <td>2008</td>\n",
       "      <td>umich.edu</td>\n",
       "    </tr>\n",
       "    <tr>\n",
       "      <th>11</th>\n",
       "      <td>gsilver@umich.edu</td>\n",
       "      <td>Fri</td>\n",
       "      <td>Jan</td>\n",
       "      <td>4</td>\n",
       "      <td>11:10:22</td>\n",
       "      <td>2008</td>\n",
       "      <td>umich.edu</td>\n",
       "    </tr>\n",
       "    <tr>\n",
       "      <th>12</th>\n",
       "      <td>wagnermr@iupui.edu</td>\n",
       "      <td>Fri</td>\n",
       "      <td>Jan</td>\n",
       "      <td>4</td>\n",
       "      <td>10:38:42</td>\n",
       "      <td>2008</td>\n",
       "      <td>iupui.edu</td>\n",
       "    </tr>\n",
       "    <tr>\n",
       "      <th>13</th>\n",
       "      <td>zqian@umich.edu</td>\n",
       "      <td>Fri</td>\n",
       "      <td>Jan</td>\n",
       "      <td>4</td>\n",
       "      <td>10:17:43</td>\n",
       "      <td>2008</td>\n",
       "      <td>umich.edu</td>\n",
       "    </tr>\n",
       "    <tr>\n",
       "      <th>14</th>\n",
       "      <td>antranig@caret.cam.ac.uk</td>\n",
       "      <td>Fri</td>\n",
       "      <td>Jan</td>\n",
       "      <td>4</td>\n",
       "      <td>10:04:14</td>\n",
       "      <td>2008</td>\n",
       "      <td>caret.cam.ac.uk</td>\n",
       "    </tr>\n",
       "    <tr>\n",
       "      <th>15</th>\n",
       "      <td>gopal.ramasammycook@gmail.com</td>\n",
       "      <td>Fri</td>\n",
       "      <td>Jan</td>\n",
       "      <td>4</td>\n",
       "      <td>09:05:31</td>\n",
       "      <td>2008</td>\n",
       "      <td>gmail.com</td>\n",
       "    </tr>\n",
       "    <tr>\n",
       "      <th>16</th>\n",
       "      <td>david.horwitz@uct.ac.za</td>\n",
       "      <td>Fri</td>\n",
       "      <td>Jan</td>\n",
       "      <td>4</td>\n",
       "      <td>07:02:32</td>\n",
       "      <td>2008</td>\n",
       "      <td>uct.ac.za</td>\n",
       "    </tr>\n",
       "    <tr>\n",
       "      <th>17</th>\n",
       "      <td>david.horwitz@uct.ac.za</td>\n",
       "      <td>Fri</td>\n",
       "      <td>Jan</td>\n",
       "      <td>4</td>\n",
       "      <td>06:08:27</td>\n",
       "      <td>2008</td>\n",
       "      <td>uct.ac.za</td>\n",
       "    </tr>\n",
       "    <tr>\n",
       "      <th>18</th>\n",
       "      <td>david.horwitz@uct.ac.za</td>\n",
       "      <td>Fri</td>\n",
       "      <td>Jan</td>\n",
       "      <td>4</td>\n",
       "      <td>04:49:08</td>\n",
       "      <td>2008</td>\n",
       "      <td>uct.ac.za</td>\n",
       "    </tr>\n",
       "    <tr>\n",
       "      <th>19</th>\n",
       "      <td>david.horwitz@uct.ac.za</td>\n",
       "      <td>Fri</td>\n",
       "      <td>Jan</td>\n",
       "      <td>4</td>\n",
       "      <td>04:33:44</td>\n",
       "      <td>2008</td>\n",
       "      <td>uct.ac.za</td>\n",
       "    </tr>\n",
       "    <tr>\n",
       "      <th>20</th>\n",
       "      <td>stephen.marquard@uct.ac.za</td>\n",
       "      <td>Fri</td>\n",
       "      <td>Jan</td>\n",
       "      <td>4</td>\n",
       "      <td>04:07:34</td>\n",
       "      <td>2008</td>\n",
       "      <td>uct.ac.za</td>\n",
       "    </tr>\n",
       "    <tr>\n",
       "      <th>21</th>\n",
       "      <td>louis@media.berkeley.edu</td>\n",
       "      <td>Thu</td>\n",
       "      <td>Jan</td>\n",
       "      <td>3</td>\n",
       "      <td>19:51:21</td>\n",
       "      <td>2008</td>\n",
       "      <td>media.berkeley.edu</td>\n",
       "    </tr>\n",
       "    <tr>\n",
       "      <th>22</th>\n",
       "      <td>louis@media.berkeley.edu</td>\n",
       "      <td>Thu</td>\n",
       "      <td>Jan</td>\n",
       "      <td>3</td>\n",
       "      <td>17:18:23</td>\n",
       "      <td>2008</td>\n",
       "      <td>media.berkeley.edu</td>\n",
       "    </tr>\n",
       "    <tr>\n",
       "      <th>23</th>\n",
       "      <td>ray@media.berkeley.edu</td>\n",
       "      <td>Thu</td>\n",
       "      <td>Jan</td>\n",
       "      <td>3</td>\n",
       "      <td>17:07:00</td>\n",
       "      <td>2008</td>\n",
       "      <td>media.berkeley.edu</td>\n",
       "    </tr>\n",
       "    <tr>\n",
       "      <th>24</th>\n",
       "      <td>cwen@iupui.edu</td>\n",
       "      <td>Thu</td>\n",
       "      <td>Jan</td>\n",
       "      <td>3</td>\n",
       "      <td>16:34:40</td>\n",
       "      <td>2008</td>\n",
       "      <td>iupui.edu</td>\n",
       "    </tr>\n",
       "    <tr>\n",
       "      <th>25</th>\n",
       "      <td>cwen@iupui.edu</td>\n",
       "      <td>Thu</td>\n",
       "      <td>Jan</td>\n",
       "      <td>3</td>\n",
       "      <td>16:29:07</td>\n",
       "      <td>2008</td>\n",
       "      <td>iupui.edu</td>\n",
       "    </tr>\n",
       "    <tr>\n",
       "      <th>26</th>\n",
       "      <td>cwen@iupui.edu</td>\n",
       "      <td>Thu</td>\n",
       "      <td>Jan</td>\n",
       "      <td>3</td>\n",
       "      <td>16:23:48</td>\n",
       "      <td>2008</td>\n",
       "      <td>iupui.edu</td>\n",
       "    </tr>\n",
       "  </tbody>\n",
       "</table>\n",
       "</div>"
      ],
      "text/plain": [
       "                          address dayofweek month day      time  year  \\\n",
       "0      stephen.marquard@uct.ac.za       Sat   Jan   5  09:14:16  2008   \n",
       "1        louis@media.berkeley.edu       Fri   Jan   4  18:10:48  2008   \n",
       "2                 zqian@umich.edu       Fri   Jan   4  16:10:39  2008   \n",
       "3                rjlowe@iupui.edu       Fri   Jan   4  15:46:24  2008   \n",
       "4                 zqian@umich.edu       Fri   Jan   4  15:03:18  2008   \n",
       "5                rjlowe@iupui.edu       Fri   Jan   4  14:50:18  2008   \n",
       "6                  cwen@iupui.edu       Fri   Jan   4  11:37:30  2008   \n",
       "7                  cwen@iupui.edu       Fri   Jan   4  11:35:08  2008   \n",
       "8               gsilver@umich.edu       Fri   Jan   4  11:12:37  2008   \n",
       "9               gsilver@umich.edu       Fri   Jan   4  11:11:52  2008   \n",
       "10                zqian@umich.edu       Fri   Jan   4  11:11:03  2008   \n",
       "11              gsilver@umich.edu       Fri   Jan   4  11:10:22  2008   \n",
       "12             wagnermr@iupui.edu       Fri   Jan   4  10:38:42  2008   \n",
       "13                zqian@umich.edu       Fri   Jan   4  10:17:43  2008   \n",
       "14       antranig@caret.cam.ac.uk       Fri   Jan   4  10:04:14  2008   \n",
       "15  gopal.ramasammycook@gmail.com       Fri   Jan   4  09:05:31  2008   \n",
       "16        david.horwitz@uct.ac.za       Fri   Jan   4  07:02:32  2008   \n",
       "17        david.horwitz@uct.ac.za       Fri   Jan   4  06:08:27  2008   \n",
       "18        david.horwitz@uct.ac.za       Fri   Jan   4  04:49:08  2008   \n",
       "19        david.horwitz@uct.ac.za       Fri   Jan   4  04:33:44  2008   \n",
       "20     stephen.marquard@uct.ac.za       Fri   Jan   4  04:07:34  2008   \n",
       "21       louis@media.berkeley.edu       Thu   Jan   3  19:51:21  2008   \n",
       "22       louis@media.berkeley.edu       Thu   Jan   3  17:18:23  2008   \n",
       "23         ray@media.berkeley.edu       Thu   Jan   3  17:07:00  2008   \n",
       "24                 cwen@iupui.edu       Thu   Jan   3  16:34:40  2008   \n",
       "25                 cwen@iupui.edu       Thu   Jan   3  16:29:07  2008   \n",
       "26                 cwen@iupui.edu       Thu   Jan   3  16:23:48  2008   \n",
       "\n",
       "           institution  \n",
       "0            uct.ac.za  \n",
       "1   media.berkeley.edu  \n",
       "2            umich.edu  \n",
       "3            iupui.edu  \n",
       "4            umich.edu  \n",
       "5            iupui.edu  \n",
       "6            iupui.edu  \n",
       "7            iupui.edu  \n",
       "8            umich.edu  \n",
       "9            umich.edu  \n",
       "10           umich.edu  \n",
       "11           umich.edu  \n",
       "12           iupui.edu  \n",
       "13           umich.edu  \n",
       "14     caret.cam.ac.uk  \n",
       "15           gmail.com  \n",
       "16           uct.ac.za  \n",
       "17           uct.ac.za  \n",
       "18           uct.ac.za  \n",
       "19           uct.ac.za  \n",
       "20           uct.ac.za  \n",
       "21  media.berkeley.edu  \n",
       "22  media.berkeley.edu  \n",
       "23  media.berkeley.edu  \n",
       "24           iupui.edu  \n",
       "25           iupui.edu  \n",
       "26           iupui.edu  "
      ]
     },
     "execution_count": 95,
     "metadata": {},
     "output_type": "execute_result"
    }
   ],
   "source": [
    "parsed_email_data['institution'] = parsed_email_data['address'].str.split(\"@\").str.get(1)\n",
    "parsed_email_data"
   ]
  },
  {
   "cell_type": "markdown",
   "metadata": {},
   "source": [
    "## Example: Recipe Database\n",
    "\n",
    "* Let's walk through the recipe database example from the Python Data Science Handbook\n",
    "* There are a few concepts and commands I haven't yet covered, but I'll explain them as I go along\n",
    "* Download the recipe file from [this link](https://s3.amazonaws.com/openrecipes/20170107-061401-recipeitems.json.gz) or run the cell below if you are on JupyterHub"
   ]
  },
  {
   "cell_type": "code",
   "execution_count": null,
   "metadata": {
    "collapsed": true
   },
   "outputs": [],
   "source": [
    "# download the recipe file from the internet\n",
    "!wget https://s3.amazonaws.com/openrecipes/20170107-061401-recipeitems.json.gz\n",
    "# unzip the file\n",
    "!gunzip -f 20170107-061401-recipeitems.json.gz"
   ]
  },
  {
   "cell_type": "markdown",
   "metadata": {},
   "source": [
    "* The recipe database is stored in the JSON file format\n",
    "* JSON looks like this"
   ]
  },
  {
   "cell_type": "code",
   "execution_count": null,
   "metadata": {
    "collapsed": true
   },
   "outputs": [],
   "source": [
    "# display the first line of the file\n",
    "!head -n 1 20170107-061401-recipeitems.json"
   ]
  },
  {
   "cell_type": "markdown",
   "metadata": {},
   "source": [
    "* This is JSON, it is a structure data format like CSV or XML\n",
    "* It looks like gobbly gook, but there are patterns, what python data structure does it look like?\n"
   ]
  },
  {
   "cell_type": "code",
   "execution_count": null,
   "metadata": {
    "collapsed": true
   },
   "outputs": [],
   "source": [
    "# read the entire file into a Python array\n",
    "with open('20170107-061401-recipeitems.json', 'r') as f:\n",
    "    # Extract each line\n",
    "    data = (line.strip() for line in f)\n",
    "    # Reformat so each line is the element of a list\n",
    "    data_json = \"[{0}]\".format(','.join(data))\n",
    "# read the result as a JSON\n",
    "recipes = pd.read_json(data_json)"
   ]
  },
  {
   "cell_type": "code",
   "execution_count": null,
   "metadata": {
    "collapsed": true
   },
   "outputs": [],
   "source": [
    "recipes.shape"
   ]
  },
  {
   "cell_type": "markdown",
   "metadata": {},
   "source": [
    "We see there are nearly 200,000 recipes, and 17 columns.\n",
    "Let's take a look at one row to see what we have:"
   ]
  },
  {
   "cell_type": "code",
   "execution_count": null,
   "metadata": {
    "collapsed": true
   },
   "outputs": [],
   "source": [
    "# display the first item in the DataFrame\n",
    "recipes.iloc[0]"
   ]
  },
  {
   "cell_type": "code",
   "execution_count": null,
   "metadata": {
    "collapsed": true
   },
   "outputs": [],
   "source": [
    "# Show the first five items in the DataFrame\n",
    "recipes.head()"
   ]
  },
  {
   "cell_type": "markdown",
   "metadata": {},
   "source": [
    "There is a lot of information there, but much of it is in a very messy form, as is typical of data scraped from the Web.\n",
    "In particular, the ingredient list is in string format; we're going to have to carefully extract the information we're interested in.\n",
    "Let's start by taking a closer look at the ingredients:"
   ]
  },
  {
   "cell_type": "code",
   "execution_count": null,
   "metadata": {
    "collapsed": true
   },
   "outputs": [],
   "source": [
    "# Summarize the length of the ingredients string\n",
    "recipes['ingredients'].str.len().describe()"
   ]
  },
  {
   "cell_type": "code",
   "execution_count": null,
   "metadata": {
    "collapsed": true
   },
   "outputs": [],
   "source": [
    "# which row has the longest ingredients string\n",
    "recipes['ingredients'].str.len().idxmax()"
   ]
  },
  {
   "cell_type": "code",
   "execution_count": null,
   "metadata": {
    "collapsed": true
   },
   "outputs": [],
   "source": [
    "# use iloc to fetch that specific row from the dataframe\n",
    "recipes.iloc[135598]"
   ]
  },
  {
   "cell_type": "code",
   "execution_count": null,
   "metadata": {
    "collapsed": true
   },
   "outputs": [],
   "source": [
    "# look at the ingredients string\n",
    "recipes.iloc[135598]['ingredients']"
   ]
  },
  {
   "cell_type": "markdown",
   "metadata": {},
   "source": [
    "* WOW! That is a lot of ingredients! That might need to be cleaned by hand instead of a machine\n",
    "* What other questions can we ask of the recipe data?"
   ]
  },
  {
   "cell_type": "code",
   "execution_count": null,
   "metadata": {
    "collapsed": true
   },
   "outputs": [],
   "source": [
    "# How many breakfasts?\n",
    "recipes.description.str.contains('[Bb]reakfast').sum()"
   ]
  },
  {
   "cell_type": "code",
   "execution_count": null,
   "metadata": {
    "collapsed": true
   },
   "outputs": [],
   "source": [
    "# How many have cinnamon as an ingredient?\n",
    "recipes.ingredients.str.contains('[Cc]innamon').sum()"
   ]
  },
  {
   "cell_type": "code",
   "execution_count": null,
   "metadata": {
    "collapsed": true
   },
   "outputs": [],
   "source": [
    "# How many misspell cinnamon as cinamon?\n",
    "recipes.ingredients.str.contains('[Cc]inamon').sum()"
   ]
  },
  {
   "cell_type": "code",
   "execution_count": null,
   "metadata": {
    "collapsed": true
   },
   "outputs": [],
   "source": []
  }
 ],
 "metadata": {
  "anaconda-cloud": {},
  "kernelspec": {
   "display_name": "Python 3",
   "language": "python",
   "name": "python3"
  },
  "language_info": {
   "codemirror_mode": {
    "name": "ipython",
    "version": 3
   },
   "file_extension": ".py",
   "mimetype": "text/x-python",
   "name": "python",
   "nbconvert_exporter": "python",
   "pygments_lexer": "ipython3",
   "version": "3.5.2"
  }
 },
 "nbformat": 4,
 "nbformat_minor": 1
}
