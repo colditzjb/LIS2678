{
 "cells": [
  {
   "cell_type": "markdown",
   "metadata": {},
   "source": [
    "# Assignment Two: Data Manipulation\n",
    "\n",
    "\n",
    "This assignment will draw upon what you learned in weeks three and four of the class, that is, using Pandas to manipulate data. In this assignment you will perform four tasks: loading, documenting, cleaning, and combining data from disparate sources. This assignment is designed around the data fom the NYPL Labs [What's on the Menu](http://menus.nypl.org) project discussed in [Against Cleaning](http://curatingmenus.org/articles/against-cleaning/). \n",
    "\n",
    "*If you would like to work with a different dataset, you will need to develop a work-plan that includes (at least) each of the four tasks (loading, documenting, cleaning, and combining) described below.* \n",
    "\n",
    "## What to do\n",
    "\n",
    "* Read the project's [about page](http://menus.nypl.org/about).\n",
    "* Download the [latest spreadsheet export file](http://menus.nypl.org/data) from their data page.\n",
    "\n",
    "From the NYPL data page, download the zip archive containing the latest version of the data. The zip archive contains four files `Dish.csv`, `Menu.csv`, `MenuItem.csv`, and `MenuPage.csv`. Your assignment will be to load these datafiles into Pandas dataframes and manipulate the data they contain. This assignment will have four parts:\n",
    "\n",
    "### Loading the data\n",
    "\n",
    "* Read these CSV files into four Pandas Dataframes\n",
    "    * Read the `id` column in as an index (using the `index_col` parameter of the `read_csv` function). See the [column and index locations documentation](http://pandas.pydata.org/pandas-docs/stable/io.html#column-and-index-locations-and-names) for more information.\n",
    "    * Parse any date columns (using the `parse_date` and `infer_datetime_format` parameters of the `read_csv` function). See the [datetime-handling documentation](http://pandas.pydata.org/pandas-docs/stable/io.html#datetime-handling) for more information.\n",
    "\n",
    "\n",
    "### Documenting the data\n",
    "\n",
    "* Inspect each dataframe with the `head()` and `info()` functions and document what you see in a markdown cell either above or below the code cell.\n",
    "    * What data does each the dataframe represent?\n",
    "    * Look at each column, describe the data types, and try to understand what the data means? There doesn't appear to be a data dictionary, so it is perfectly OK to say \"I don't know\" `¯\\_(ツ)_/¯`\n",
    "    * Describe the relationships across the various dataframes, what columns in one dataframe connect to columns in other dataframes.\n",
    "\n",
    "### Cleaning the data\n",
    "\n",
    "* Look at some specific columns (the `event` column in `Menu.csv` might be a good candidate) and look for data to \"index.\" \n",
    "    * Find data in need of \"cleaning\" and create a new column with clean, normalized data values\n",
    "    * As an example, you could use the string operations to remove extra spaces, punctuation\n",
    "    * Another example would be to reduce the number of categorical values by mapping granular values to a smaller set of higher level categories (for example, mapping \"THANKSGIVING DINNER\" in the `events` column to \"dinner\")\n",
    "    * Be sure to document what you are doing with markdown cells (above or below) describing what you are doing. If you can't get something to work, describe what it is you are trying to do, partial answers will count.\n",
    "\n",
    "### Combining the data \n",
    "\n",
    "* Using the `merge` function, draw data from the disparate dataframes to reconstitute a single menu.\n",
    "    * Print information about the particualr menu (location, date, sponsor, etc.), you decide how much information you think is relevant.\n",
    "    * Print information about each dish associated with that menu, again, you decide how much or how little information you want to display.\n",
    "    * Document your decisions about what information to display in a Markdown cell above your code. As above, if you can't get it to work, describe what you are trying to do and the issue you are having.\n",
    "    * Use the `left_on` and `right_on` parameters as well as `left_index` and `right_index` to connect columns from one dataframe with the index in another. Here is a [hint](https://stackoverflow.com/a/31529002) about how to do this.\n",
    "    * Bonus if you generalize your solution into a function that takes an arbitrary menu id as a parameter and prints out the contents of that menu. \n",
    "    \n",
    "    \n",
    "## Submissions\n",
    "\n",
    "Your assignment submission should be in the form of a Jupyter Notebook (.ipynb) containing both the code you wrote and narrative around that code. You don't need to submit all of the code you write, just the final drafts of the code that process the data as described above. *Be sure to document your decisions, thoughts, and reflections alongside the code! The exposition is just as important as the code.* \n",
    "\n",
    "You also do not need to submit any data files created as a result of your data manipulation activities, the notebook you submit should produce them from the original data files downloaded from the NYPL site. Basically, I should just be able to put your notebook and the four data files in a folder and reproduce your work.\n",
    "\n",
    "If you have any questions, please let me know."
   ]
  }
 ],
 "metadata": {
  "kernelspec": {
   "display_name": "Python 3",
   "language": "python",
   "name": "python3"
  },
  "language_info": {
   "codemirror_mode": {
    "name": "ipython",
    "version": 3
   },
   "file_extension": ".py",
   "mimetype": "text/x-python",
   "name": "python",
   "nbconvert_exporter": "python",
   "pygments_lexer": "ipython3",
   "version": "3.5.2"
  }
 },
 "nbformat": 4,
 "nbformat_minor": 1
}
